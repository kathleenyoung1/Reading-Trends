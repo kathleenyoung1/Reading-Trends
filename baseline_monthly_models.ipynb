{
 "cells": [
  {
   "cell_type": "code",
   "execution_count": 1,
   "metadata": {},
   "outputs": [],
   "source": [
    "import numpy as np\n",
    "import seaborn as sns\n",
    "from sklearn.linear_model import LinearRegression\n",
    "import pandas as pd\n",
    "from sklearn.model_selection import train_test_split\n",
    "from sklearn import metrics\n",
    "import datetime\n",
    "import itertools\n",
    "import matplotlib.pyplot as plt\n",
    "\n",
    "import aggregator as ag"
   ]
  },
  {
   "cell_type": "code",
   "execution_count": 14,
   "metadata": {},
   "outputs": [],
   "source": [
    "#data_file_name_review = \"distributed_data_collection/databases/review_data_sample.csv\"\n",
    "#data_file_name_book = \"distributed_data_collection/databases/book_data_sample.csv\"\n",
    "\n",
    "data_file_name_review = \"distributed_data_collection/databases/review_data.csv\"\n",
    "data_file_name_book = \"distributed_data_collection/databases/book_data.csv\"\n",
    "\n",
    "start_date = datetime.datetime(2018, 1, 1)\n",
    "end_date = datetime.datetime(2020, 11, 29)\n",
    "\n",
    "book_columns = [\"num_reviews\", \"num_ratings\", \"avg_rating\"]"
   ]
  },
  {
   "cell_type": "code",
   "execution_count": 15,
   "metadata": {},
   "outputs": [
    {
     "name": "stdout",
     "output_type": "stream",
     "text": [
      "Aggregator Initiated.\n",
      "Processing Scraper Output...\n",
      "Scraper Output Processed.\n",
      "Aggregating Review Data...\n",
      "Review Data Aggregated.\n",
      "Merging Book Data...\n",
      "Book Data Merged.\n"
     ]
    }
   ],
   "source": [
    "data_aggregator = ag.Aggregator(data_file_name_review, data_file_name_book, book_columns, start_date, end_date, \"month\")\n",
    "data = data_aggregator.aggregate(\"by_book\")"
   ]
  },
  {
   "cell_type": "code",
   "execution_count": 16,
   "metadata": {},
   "outputs": [
    {
     "name": "stdout",
     "output_type": "stream",
     "text": [
      "            book_id  review_count 2018-01  review_count 2018-02  \\\n",
      "count  1.630700e+04          16307.000000          16307.000000   \n",
      "mean   2.231541e+07              0.766787              0.531857   \n",
      "std    1.711834e+07              2.445657              1.618575   \n",
      "min    1.000000e+00              0.000000              0.000000   \n",
      "25%    2.015556e+06              0.000000              0.000000   \n",
      "50%    2.384856e+07              0.000000              0.000000   \n",
      "75%    3.666239e+07              1.000000              1.000000   \n",
      "max    5.502996e+07             77.000000             60.000000   \n",
      "\n",
      "       review_count 2018-03  review_count 2018-04  review_count 2018-05  \\\n",
      "count          16307.000000          16307.000000          16307.000000   \n",
      "mean               0.549212              0.520574              0.512050   \n",
      "std                1.616661              1.537739              1.512294   \n",
      "min                0.000000              0.000000              0.000000   \n",
      "25%                0.000000              0.000000              0.000000   \n",
      "50%                0.000000              0.000000              0.000000   \n",
      "75%                1.000000              1.000000              1.000000   \n",
      "max               51.000000             57.000000             45.000000   \n",
      "\n",
      "       review_count 2018-06  review_count 2018-07  review_count 2018-08  \\\n",
      "count          16307.000000          16307.000000          16307.000000   \n",
      "mean               0.551665              0.638070              0.652174   \n",
      "std                1.600802              1.905531              1.917998   \n",
      "min                0.000000              0.000000              0.000000   \n",
      "25%                0.000000              0.000000              0.000000   \n",
      "50%                0.000000              0.000000              0.000000   \n",
      "75%                1.000000              1.000000              1.000000   \n",
      "max               65.000000             65.000000             70.000000   \n",
      "\n",
      "       review_count 2018-09  ...  review_count 2020-05  review_count 2020-06  \\\n",
      "count          16307.000000  ...          16307.000000          16307.000000   \n",
      "mean               0.574906  ...              1.192862              1.101429   \n",
      "std                1.642515  ...              3.402949              3.204183   \n",
      "min                0.000000  ...              0.000000              0.000000   \n",
      "25%                0.000000  ...              0.000000              0.000000   \n",
      "50%                0.000000  ...              0.000000              0.000000   \n",
      "75%                1.000000  ...              1.000000              1.000000   \n",
      "max               54.000000  ...             93.000000             79.000000   \n",
      "\n",
      "       review_count 2020-07  review_count 2020-08  review_count 2020-09  \\\n",
      "count          16307.000000          16307.000000          16307.000000   \n",
      "mean               1.037469              0.882259              0.826455   \n",
      "std                2.914520              2.480958              2.287140   \n",
      "min                0.000000              0.000000              0.000000   \n",
      "25%                0.000000              0.000000              0.000000   \n",
      "50%                0.000000              0.000000              0.000000   \n",
      "75%                1.000000              1.000000              1.000000   \n",
      "max               74.000000             64.000000             74.000000   \n",
      "\n",
      "       review_count 2020-10  review_count 2020-11    num_reviews  \\\n",
      "count          16307.000000          16307.000000   16307.000000   \n",
      "mean               0.559330              0.014534    4150.206660   \n",
      "std                1.705493              0.128095    9736.476943   \n",
      "min                0.000000              0.000000       3.000000   \n",
      "25%                0.000000              0.000000     572.500000   \n",
      "50%                0.000000              0.000000    1361.000000   \n",
      "75%                1.000000              0.000000    3387.000000   \n",
      "max               49.000000              4.000000  172139.000000   \n",
      "\n",
      "        num_ratings    avg_rating  \n",
      "count  1.630700e+04  16307.000000  \n",
      "mean   7.710153e+04      4.020200  \n",
      "std    3.051070e+05      0.266886  \n",
      "min    1.000000e+01      2.510000  \n",
      "25%    6.084000e+03      3.860000  \n",
      "50%    1.665500e+04      4.040000  \n",
      "75%    4.715850e+04      4.200000  \n",
      "max    7.089870e+06      4.910000  \n",
      "\n",
      "[8 rows x 39 columns]\n"
     ]
    }
   ],
   "source": [
    "#print(data.describe())"
   ]
  },
  {
   "cell_type": "code",
   "execution_count": 4,
   "metadata": {},
   "outputs": [],
   "source": [
    "time_periods_post = []\n",
    "\n",
    "for col in data.columns:\n",
    "    if \"review_count\" in col:\n",
    "        if \"2020\" in col:\n",
    "            time_periods_post.append(col)"
   ]
  },
  {
   "cell_type": "code",
   "execution_count": 17,
   "metadata": {},
   "outputs": [],
   "source": [
    "perc_train = 0.75\n",
    "\n",
    "data = data.iloc[np.random.permutation(data.index)].reset_index(drop=True) #SHUFFLES DATA\n",
    "\n",
    "num_observations_total = len(data)\n",
    "num_observations_train = int(num_observations_total* perc_train)\n",
    "num_observations_test = num_observations_total - num_observations_train\n",
    "\n",
    "data_train = data.head(num_observations_train).reset_index(drop = True)\n",
    "data_test = data.tail(num_observations_test).reset_index(drop = True)"
   ]
  },
  {
   "cell_type": "code",
   "execution_count": 20,
   "metadata": {},
   "outputs": [
    {
     "name": "stdout",
     "output_type": "stream",
     "text": [
      "5/14 models complete\n",
      "10/14 models complete\n",
      "14/14 models complete\n"
     ]
    }
   ],
   "source": [
    "is_log_list = [True, False]\n",
    "num_periods = len(time_periods_post)\n",
    "num_logs = len(is_log_list)\n",
    "\n",
    "num_models_total = num_periods * num_logs\n",
    "num_models_complete = 0\n",
    "\n",
    "performance_df = pd.DataFrame(columns = [\"post_period\", \"is_log\", \"mse\", \"r2_train\", \"r2_test\", \"ar2_train\", \"ar2_test\"])\n",
    "\n",
    "for i in range(len(time_periods_post)): #ITERATE OVER EACH PERIOD IN THE POST PERIOD \n",
    "    \n",
    "    label = time_periods_post[i]\n",
    "    \n",
    "    data_train_period = data_train.copy()\n",
    "    data_test_period = data_test.copy()\n",
    "    \n",
    "    #REMOVE OTHER POST-PERIODS FROM DATA \n",
    "    \n",
    "    for post_period in time_periods_post:\n",
    "        if post_period != label:\n",
    "            data_train_period.drop(columns = post_period, inplace = True)\n",
    "            data_test_period.drop(columns = post_period, inplace = True)\n",
    "            \n",
    "    #LOG TRANSFORMATION\n",
    "    \n",
    "    for is_log in is_log_list:\n",
    "        \n",
    "        impute_log_val = 0.0001\n",
    "        \n",
    "        if is_log:\n",
    "            for df in [data_train_period, data_test_period]:\n",
    "                df[label] = df[label].apply(lambda lab: np.log(lab) if lab != 0 else impute_log_val)\n",
    "            \n",
    "    #CREATE TRAINING & TESTING DATA SPECIFIC TO THAT PERIOD \n",
    "\n",
    "        x_train, y_train = data_train_period.drop(label,1), data_train_period[label]\n",
    "        x_test, y_test = data_test_period.drop(label,1), data_test_period[label]\n",
    "\n",
    "    #FIT MODEL \n",
    "\n",
    "        model = LinearRegression().fit(x_train, y_train)\n",
    "\n",
    "    ## GET METRICS \n",
    "        mse = metrics.mean_squared_error(y_test, model.predict(x_test))\n",
    "\n",
    "        r2_train = metrics.r2_score(y_train, model.predict(x_train))\n",
    "        r2_test = metrics.r2_score(y_test, model.predict(x_test))\n",
    "\n",
    "        n_test, n_train = len(x_test), len(x_train)\n",
    "        p_test, p_train = len(x_test.columns), len(x_train.columns)\n",
    "\n",
    "        ar2_train = 1 - (1 - r2_train) * (n_train - 1) / (n_train - p_train - 1)\n",
    "        ar2_test = 1 - (1 - r2_test) * (n_test - 1) / (n_test - p_train - 1)\n",
    "\n",
    "        metric_dict = {\"post_period\": label, \"is_log\": is_log, \"mse\": mse, \"r2_train\": r2_train, \"r2_test\": r2_test, \"ar2_train\": ar2_train, \"ar2_test\": ar2_test}\n",
    "        performance_df = performance_df.append(metric_dict, ignore_index=True)\n",
    "        \n",
    "    ##PRINT UPDATES \n",
    "        \n",
    "        num_models_complete +=1\n",
    "        \n",
    "        if (num_models_complete % 5 == 0) or (num_models_complete == num_models_total):\n",
    "            print(\"{}/{} models complete\".format(num_models_complete, num_models_total))"
   ]
  },
  {
   "cell_type": "code",
   "execution_count": 21,
   "metadata": {},
   "outputs": [
    {
     "name": "stdout",
     "output_type": "stream",
     "text": [
      "             post_period is_log    mse  r2_train  r2_test  ar2_train  ar2_test\n",
      "0   review_count 2020-01   True  0.165     0.514    0.520      0.513     0.516\n",
      "1   review_count 2020-01  False  0.165     0.514    0.520      0.513     0.516\n",
      "2   review_count 2020-02   True  0.121     0.481    0.491      0.479     0.487\n",
      "3   review_count 2020-02  False  0.121     0.481    0.491      0.479     0.487\n",
      "4   review_count 2020-03   True  0.128     0.481    0.477      0.479     0.473\n",
      "5   review_count 2020-03  False  0.128     0.481    0.477      0.479     0.473\n",
      "6   review_count 2020-04   True  0.177     0.491    0.462      0.489     0.458\n",
      "7   review_count 2020-04  False  0.177     0.491    0.462      0.489     0.458\n",
      "8   review_count 2020-05   True  0.181     0.480    0.460      0.478     0.456\n",
      "9   review_count 2020-05  False  0.181     0.480    0.460      0.478     0.456\n",
      "10  review_count 2020-06   True  0.168     0.487    0.458      0.485     0.454\n",
      "11  review_count 2020-06  False  0.168     0.487    0.458      0.485     0.454\n",
      "12  review_count 2020-07   True  0.156     0.509    0.480      0.508     0.476\n",
      "13  review_count 2020-07  False  0.156     0.509    0.480      0.508     0.476\n"
     ]
    }
   ],
   "source": [
    "print(performance_df.round(3))"
   ]
  }
 ],
 "metadata": {
  "kernelspec": {
   "display_name": "Python 3",
   "language": "python",
   "name": "python3"
  },
  "language_info": {
   "codemirror_mode": {
    "name": "ipython",
    "version": 3
   },
   "file_extension": ".py",
   "mimetype": "text/x-python",
   "name": "python",
   "nbconvert_exporter": "python",
   "pygments_lexer": "ipython3",
   "version": "3.7.6"
  }
 },
 "nbformat": 4,
 "nbformat_minor": 4
}
