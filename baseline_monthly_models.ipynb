{
 "cells": [
  {
   "cell_type": "code",
   "execution_count": 1,
   "metadata": {},
   "outputs": [],
   "source": [
    "import numpy as np\n",
    "import seaborn as sns\n",
    "from sklearn.linear_model import LinearRegression\n",
    "import pandas as pd\n",
    "from sklearn.model_selection import train_test_split\n",
    "from sklearn import metrics\n",
    "import datetime\n",
    "import itertools\n",
    "import matplotlib.pyplot as plt\n",
    "\n",
    "import aggregator as ag"
   ]
  },
  {
   "cell_type": "code",
   "execution_count": 2,
   "metadata": {},
   "outputs": [],
   "source": [
    "#data_file_name_review = \"distributed_data_collection/databases/review_data_sample.csv\"\n",
    "#data_file_name_book = \"distributed_data_collection/databases/book_data_sample.csv\"\n",
    "\n",
    "data_file_name_review = \"distributed_data_collection/databases/review_data.csv\"\n",
    "data_file_name_book = \"distributed_data_collection/databases/book_data.csv\"\n",
    "\n",
    "start_date = datetime.datetime(2018, 1, 1)\n",
    "end_date = datetime.datetime(2020, 11, 29)\n",
    "\n",
    "book_columns = [\"num_reviews\", \"num_ratings\", \"avg_rating\"]"
   ]
  },
  {
   "cell_type": "code",
   "execution_count": 3,
   "metadata": {},
   "outputs": [
    {
     "name": "stdout",
     "output_type": "stream",
     "text": [
      "Aggregator Initiated.\n",
      "Processing Scraper Output...\n",
      "Scraper Output Processed.\n",
      "Aggregating Review Data...\n",
      "Review Data Aggregated.\n",
      "Merging Book Data...\n",
      "Book Data Merged.\n"
     ]
    }
   ],
   "source": [
    "data_aggregator = ag.Aggregator(data_file_name_review, data_file_name_book, book_columns, start_date, end_date, \"month\")\n",
    "data = data_aggregator.aggregate(\"by_book\")"
   ]
  },
  {
   "cell_type": "code",
   "execution_count": 4,
   "metadata": {},
   "outputs": [],
   "source": [
    "time_periods_post = []\n",
    "\n",
    "for col in data.columns:\n",
    "    if \"review_count\" in col:\n",
    "        if \"2020\" in col:\n",
    "            time_periods_post.append(col)"
   ]
  },
  {
   "cell_type": "code",
   "execution_count": 6,
   "metadata": {},
   "outputs": [],
   "source": [
    "perc_train = 0.75\n",
    "\n",
    "data = data.iloc[np.random.permutation(data.index)].reset_index(drop=True) #SHUFFLES DATA\n",
    "\n",
    "num_observations_total = len(data)\n",
    "num_observations_train = int(num_observations_total* perc_train)\n",
    "num_observations_test = num_observations_total - num_observations_train\n",
    "\n",
    "data_train = data.head(num_observations_train).reset_index(drop = True)\n",
    "data_test = data.tail(num_observations_test).reset_index(drop = True)"
   ]
  },
  {
   "cell_type": "code",
   "execution_count": 7,
   "metadata": {},
   "outputs": [],
   "source": [
    "is_log_list = [True, False]\n",
    "num_periods = len(time_periods_post)\n",
    "\n",
    "performance_df = pd.DataFrame(columns = [\"post_period\", \"is_log\", \"mse\", \"r2_train\", \"r2_test\", \"ar2_train\", \"ar2_test\"])\n",
    "model_dict = {}\n",
    "\n",
    "for i in range(len(time_periods_post)): #ITERATE OVER EACH PERIOD IN THE POST PERIOD \n",
    "    \n",
    "    label = time_periods_post[i]\n",
    "    \n",
    "    data_train_period = data_train.copy()\n",
    "    data_test_period = data_test.copy()\n",
    "    \n",
    "    #REMOVE OTHER POST-PERIODS FROM DATA \n",
    "    \n",
    "    for post_period in time_periods_post:\n",
    "        if post_period != label:\n",
    "            data_train_period.drop(columns = post_period, inplace = True)\n",
    "            data_test_period.drop(columns = post_period, inplace = True)\n",
    "            \n",
    "    #LOG TRANSFORMATION\n",
    "    \n",
    "    for is_log in is_log_list:\n",
    "        \n",
    "        impute_log_val = 0.0001\n",
    "        \n",
    "        if is_log:\n",
    "            for df in [data_train_period, data_test_period]:\n",
    "                df[label] = df[label].apply(lambda lab: np.log(lab) if lab != 0 else impute_log_val)\n",
    "            \n",
    "    #CREATE TRAINING & TESTING DATA SPECIFIC TO THAT PERIOD \n",
    "\n",
    "        x_train, y_train = data_train_period.drop(label,1), data_train_period[label]\n",
    "        x_test, y_test = data_test_period.drop(label,1), data_test_period[label]\n",
    "\n",
    "    #FIT MODEL \n",
    "\n",
    "        model = LinearRegression().fit(x_train, y_train)\n",
    "        model_dict[label] = model\n",
    "\n",
    "    ## GET METRICS \n",
    "        mse = metrics.mean_squared_error(y_test, model.predict(x_test))\n",
    "\n",
    "        r2_train = metrics.r2_score(y_train, model.predict(x_train))\n",
    "        r2_test = metrics.r2_score(y_test, model.predict(x_test))\n",
    "\n",
    "        n_test, n_train = len(x_test), len(x_train)\n",
    "        p_test, p_train = len(x_test.columns), len(x_train.columns)\n",
    "\n",
    "        ar2_train = 1 - (1 - r2_train) * (n_train - 1) / (n_train - p_train - 1)\n",
    "        ar2_test = 1 - (1 - r2_test) * (n_test - 1) / (n_test - p_train - 1)\n",
    "\n",
    "        metric_dict = {\"post_period\": label, \"is_log\": is_log, \"mse\": mse, \"r2_train\": r2_train, \"r2_test\": r2_test, \"ar2_train\": ar2_train, \"ar2_test\": ar2_test}\n",
    "        performance_df = performance_df.append(metric_dict, ignore_index=True)"
   ]
  },
  {
   "cell_type": "code",
   "execution_count": 8,
   "metadata": {},
   "outputs": [
    {
     "name": "stdout",
     "output_type": "stream",
     "text": [
      "             post_period is_log    mse  r2_train  r2_test  ar2_train  ar2_test\n",
      "0   review_count 2020-01   True  0.170     0.507    0.503      0.505     0.500\n",
      "1   review_count 2020-01  False  0.170     0.507    0.503      0.505     0.500\n",
      "2   review_count 2020-02   True  0.129     0.464    0.458      0.463     0.455\n",
      "3   review_count 2020-02  False  0.129     0.464    0.458      0.463     0.455\n",
      "4   review_count 2020-03   True  0.145     0.450    0.446      0.448     0.442\n",
      "5   review_count 2020-03  False  0.145     0.450    0.446      0.448     0.442\n",
      "6   review_count 2020-04   True  0.183     0.449    0.434      0.448     0.430\n",
      "7   review_count 2020-04  False  0.183     0.449    0.434      0.448     0.430\n",
      "8   review_count 2020-05   True  0.213     0.414    0.408      0.413     0.404\n",
      "9   review_count 2020-05  False  0.213     0.414    0.408      0.413     0.404\n",
      "10  review_count 2020-06   True  0.195     0.393    0.395      0.391     0.391\n",
      "11  review_count 2020-06  False  0.195     0.393    0.395      0.391     0.391\n",
      "12  review_count 2020-07   True  0.188     0.394    0.395      0.393     0.390\n",
      "13  review_count 2020-07  False  0.188     0.394    0.395      0.393     0.390\n",
      "14  review_count 2020-08   True  0.160     0.397    0.396      0.396     0.392\n",
      "15  review_count 2020-08  False  0.160     0.397    0.396      0.396     0.392\n",
      "16  review_count 2020-09   True  0.157     0.380    0.373      0.379     0.368\n",
      "17  review_count 2020-09  False  0.157     0.380    0.373      0.379     0.368\n",
      "18  review_count 2020-10   True  0.103     0.380    0.373      0.378     0.369\n",
      "19  review_count 2020-10  False  0.103     0.380    0.373      0.378     0.369\n",
      "20  review_count 2020-11   True  0.000     0.017   -0.028      0.015    -0.035\n",
      "21  review_count 2020-11  False  0.000     0.017   -0.028      0.015    -0.035\n"
     ]
    }
   ],
   "source": [
    "print(performance_df.round(3))"
   ]
  },
  {
   "cell_type": "code",
   "execution_count": null,
   "metadata": {},
   "outputs": [],
   "source": []
  }
 ],
 "metadata": {
  "kernelspec": {
   "display_name": "Python 3",
   "language": "python",
   "name": "python3"
  },
  "language_info": {
   "codemirror_mode": {
    "name": "ipython",
    "version": 3
   },
   "file_extension": ".py",
   "mimetype": "text/x-python",
   "name": "python",
   "nbconvert_exporter": "python",
   "pygments_lexer": "ipython3",
   "version": "3.7.6"
  }
 },
 "nbformat": 4,
 "nbformat_minor": 4
}
