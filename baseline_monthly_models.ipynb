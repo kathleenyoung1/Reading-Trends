{
 "cells": [
  {
   "cell_type": "code",
   "execution_count": 31,
   "metadata": {},
   "outputs": [],
   "source": [
    "import numpy as np\n",
    "import seaborn as sns\n",
    "from sklearn.linear_model import LinearRegression, Ridge, Lasso\n",
    "import pandas as pd\n",
    "from sklearn.model_selection import train_test_split\n",
    "from sklearn import metrics\n",
    "import datetime\n",
    "import itertools\n",
    "import matplotlib.pyplot as plt\n",
    "\n",
    "import aggregator as ag"
   ]
  },
  {
   "cell_type": "code",
   "execution_count": 14,
   "metadata": {},
   "outputs": [],
   "source": [
    "#data_file_name_review = \"distributed_data_collection/databases/review_data_sample.csv\"\n",
    "#data_file_name_book = \"distributed_data_collection/databases/book_data_sample.csv\"\n",
    "\n",
    "data_file_name_review = \"distributed_data_collection/databases/review_data.csv\"\n",
    "data_file_name_book = \"distributed_data_collection/databases/book_data.csv\"\n",
    "\n",
    "start_date = datetime.datetime(2018, 1, 1)\n",
    "end_date = datetime.datetime(2020, 11, 29)\n",
    "\n",
    "book_columns = [\"num_reviews\", \"num_ratings\", \"avg_rating\"]"
   ]
  },
  {
   "cell_type": "code",
   "execution_count": 15,
   "metadata": {},
   "outputs": [
    {
     "name": "stdout",
     "output_type": "stream",
     "text": [
      "Aggregator Initiated.\n",
      "Processing Scraper Output...\n",
      "Scraper Output Processed.\n",
      "Aggregating Review Data...\n",
      "Review Data Aggregated.\n",
      "Merging Book Data...\n",
      "Book Data Merged.\n"
     ]
    }
   ],
   "source": [
    "data_aggregator = ag.Aggregator(data_file_name_review, data_file_name_book, book_columns, start_date, end_date, \"month\")\n",
    "data = data_aggregator.aggregate(\"by_book\")"
   ]
  },
  {
   "cell_type": "code",
   "execution_count": 45,
   "metadata": {},
   "outputs": [],
   "source": [
    "time_periods_post = []\n",
    "\n",
    "for col in data.columns:\n",
    "    if \"review_count\" in col:\n",
    "        if \"2020\" in col:\n",
    "            time_periods_post.append(col)"
   ]
  },
  {
   "cell_type": "code",
   "execution_count": 46,
   "metadata": {},
   "outputs": [],
   "source": [
    "perc_train = 0.75\n",
    "\n",
    "data = data.iloc[np.random.permutation(data.index)].reset_index(drop=True) #SHUFFLES DATA\n",
    "\n",
    "num_observations_total = len(data)\n",
    "num_observations_train = int(num_observations_total* perc_train)\n",
    "num_observations_test = num_observations_total - num_observations_train\n",
    "\n",
    "data_train = data.head(num_observations_train).reset_index(drop = True)\n",
    "data_test = data.tail(num_observations_test).reset_index(drop = True)"
   ]
  },
  {
   "cell_type": "markdown",
   "metadata": {},
   "source": [
    "Observation: The maximum review count numbers are too low for log transformations to make a difference. I'm taking it out for the moment just to make things run faster."
   ]
  },
  {
   "cell_type": "code",
   "execution_count": 47,
   "metadata": {},
   "outputs": [],
   "source": [
    "#is_log_list = [True, False]\n",
    "is_log_list = [False]\n",
    "num_logs = len(is_log_list)\n",
    "\n",
    "num_periods = len(time_periods_post)\n",
    "\n",
    "model_list = [(\"linear\", LinearRegression()), (\"ridge\", Ridge(normalize = True)), (\"lasso\",Lasso(normalize = True))]\n",
    "num_models = len(model_list)\n",
    "\n",
    "num_models_total = num_periods * num_logs *num_models"
   ]
  },
  {
   "cell_type": "code",
   "execution_count": 51,
   "metadata": {},
   "outputs": [
    {
     "name": "stdout",
     "output_type": "stream",
     "text": [
      "5/33 models complete\n",
      "10/33 models complete\n",
      "15/33 models complete\n",
      "20/33 models complete\n",
      "25/33 models complete\n",
      "30/33 models complete\n",
      "33/33 models complete\n"
     ]
    }
   ],
   "source": [
    "num_models_complete = 0\n",
    "\n",
    "performance_df = pd.DataFrame(columns = [\"post_period\", \"model\", \"is_log\", \"mse\", \"r2_train\", \"r2_test\", \"ar2_train\", \"ar2_test\"])\n",
    "\n",
    "for i in range(len(time_periods_post)): #ITERATE OVER EACH PERIOD IN THE POST PERIOD \n",
    "    \n",
    "    label = time_periods_post[i]\n",
    "    \n",
    "    data_train_period = data_train.copy()\n",
    "    data_test_period = data_test.copy()\n",
    "    \n",
    "    #REMOVE OTHER POST-PERIODS FROM DATA \n",
    "    \n",
    "    for post_period in time_periods_post:\n",
    "        if post_period != label:\n",
    "            data_train_period.drop(columns = post_period, inplace = True)\n",
    "            data_test_period.drop(columns = post_period, inplace = True)\n",
    "            \n",
    "    #LOG TRANSFORMATION\n",
    "    \n",
    "    for is_log in is_log_list:\n",
    "        \n",
    "        impute_log_val = 0.0001\n",
    "        \n",
    "        if is_log:\n",
    "            for df in [data_train_period, data_test_period]:\n",
    "                df[label] = df[label].apply(lambda lab: np.log(lab) if lab != 0 else impute_log_val)\n",
    "            \n",
    "    #CREATE TRAINING & TESTING DATA SPECIFIC TO THAT PERIOD \n",
    "\n",
    "        x_train, y_train = data_train_period.drop(label,1), data_train_period[label]\n",
    "        x_test, y_test = data_test_period.drop(label,1), data_test_period[label]\n",
    "\n",
    "    #FIT MODEL\n",
    "    \n",
    "        for tup in model_list:\n",
    "            model_name, model = tup[0], tup[1]\n",
    "\n",
    "            model.fit(x_train, y_train)\n",
    "\n",
    "        ## GET METRICS \n",
    "            mse = metrics.mean_squared_error(y_test, model.predict(x_test))\n",
    "\n",
    "            r2_train = metrics.r2_score(y_train, model.predict(x_train))\n",
    "            r2_test = metrics.r2_score(y_test, model.predict(x_test))\n",
    "\n",
    "            n_test, n_train = len(x_test), len(x_train)\n",
    "            p_test, p_train = len(x_test.columns), len(x_train.columns)\n",
    "\n",
    "            ar2_train = 1 - (1 - r2_train) * (n_train - 1) / (n_train - p_train - 1)\n",
    "            ar2_test = 1 - (1 - r2_test) * (n_test - 1) / (n_test - p_train - 1)\n",
    "\n",
    "            metric_dict = {\"post_period\": label,\"model\": model_name, \"is_log\": is_log, \"mse\": mse, \"r2_train\": r2_train, \"r2_test\": r2_test, \"ar2_train\": ar2_train, \"ar2_test\": ar2_test}\n",
    "            performance_df = performance_df.append(metric_dict, ignore_index=True)\n",
    "\n",
    "        ##PRINT UPDATES \n",
    "\n",
    "            num_models_complete +=1\n",
    "\n",
    "            if (num_models_complete % 5 == 0) or (num_models_complete == num_models_total):\n",
    "                print(\"{}/{} models complete\".format(num_models_complete, num_models_total))"
   ]
  },
  {
   "cell_type": "code",
   "execution_count": 50,
   "metadata": {},
   "outputs": [
    {
     "name": "stdout",
     "output_type": "stream",
     "text": [
      "             post_period   model is_log     mse  r2_train  r2_test  ar2_train  \\\n",
      "0   review_count 2020-01  linear  False   2.697     0.814    0.793      0.814   \n",
      "1   review_count 2020-01   ridge  False   2.990     0.780    0.771      0.779   \n",
      "2   review_count 2020-01   lasso  False  13.045     0.000   -0.000     -0.002   \n",
      "3   review_count 2020-02  linear  False   1.927     0.721    0.672      0.720   \n",
      "4   review_count 2020-02   ridge  False   2.055     0.696    0.650      0.695   \n",
      "5   review_count 2020-02   lasso  False   5.877     0.000   -0.000     -0.002   \n",
      "6   review_count 2020-03  linear  False   2.581     0.716    0.591      0.716   \n",
      "7   review_count 2020-03   ridge  False   2.632     0.696    0.583      0.695   \n",
      "8   review_count 2020-03   lasso  False   6.322     0.000   -0.000     -0.002   \n",
      "9   review_count 2020-04  linear  False   3.542     0.757    0.682      0.756   \n",
      "10  review_count 2020-04   ridge  False   3.578     0.738    0.679      0.737   \n",
      "11  review_count 2020-04   lasso  False  11.153     0.000   -0.000     -0.002   \n",
      "12  review_count 2020-05  linear  False   4.640     0.683    0.588      0.682   \n",
      "13  review_count 2020-05   ridge  False   4.645     0.665    0.588      0.665   \n",
      "14  review_count 2020-05   lasso  False  11.272     0.000   -0.000     -0.002   \n",
      "15  review_count 2020-06  linear  False   5.132     0.569    0.503      0.568   \n",
      "16  review_count 2020-06   ridge  False   5.200     0.552    0.496      0.551   \n",
      "17  review_count 2020-06   lasso  False  10.318     0.000   -0.000     -0.002   \n",
      "18  review_count 2020-07  linear  False   3.738     0.599    0.535      0.598   \n",
      "19  review_count 2020-07   ridge  False   3.787     0.584    0.529      0.583   \n",
      "20  review_count 2020-07   lasso  False   8.041     0.000   -0.000     -0.002   \n",
      "21  review_count 2020-08  linear  False   2.436     0.578    0.592      0.577   \n",
      "22  review_count 2020-08   ridge  False   2.485     0.563    0.584      0.562   \n",
      "23  review_count 2020-08   lasso  False   5.972     0.000   -0.000     -0.002   \n",
      "24  review_count 2020-09  linear  False   2.409     0.566    0.496      0.565   \n",
      "25  review_count 2020-09   ridge  False   2.425     0.553    0.493      0.552   \n",
      "26  review_count 2020-09   lasso  False   4.780     0.000   -0.000     -0.002   \n",
      "27  review_count 2020-10  linear  False   1.567     0.489    0.442      0.488   \n",
      "28  review_count 2020-10   ridge  False   1.575     0.479    0.440      0.478   \n",
      "29  review_count 2020-10   lasso  False   2.810     0.000   -0.000     -0.002   \n",
      "30  review_count 2020-11  linear  False   0.018     0.047    0.039      0.045   \n",
      "31  review_count 2020-11   ridge  False   0.018     0.037    0.033      0.035   \n",
      "32  review_count 2020-11   lasso  False   0.019     0.000   -0.000     -0.002   \n",
      "\n",
      "    ar2_test  \n",
      "0      0.792  \n",
      "1      0.769  \n",
      "2     -0.007  \n",
      "3      0.670  \n",
      "4      0.648  \n",
      "5     -0.007  \n",
      "6      0.589  \n",
      "7      0.581  \n",
      "8     -0.007  \n",
      "9      0.680  \n",
      "10     0.677  \n",
      "11    -0.007  \n",
      "12     0.585  \n",
      "13     0.585  \n",
      "14    -0.007  \n",
      "15     0.499  \n",
      "16     0.493  \n",
      "17    -0.007  \n",
      "18     0.532  \n",
      "19     0.526  \n",
      "20    -0.007  \n",
      "21     0.589  \n",
      "22     0.581  \n",
      "23    -0.007  \n",
      "24     0.493  \n",
      "25     0.489  \n",
      "26    -0.007  \n",
      "27     0.439  \n",
      "28     0.436  \n",
      "29    -0.007  \n",
      "30     0.032  \n",
      "31     0.026  \n",
      "32    -0.007  \n"
     ]
    }
   ],
   "source": [
    "print(performance_df.round(3))"
   ]
  },
  {
   "cell_type": "code",
   "execution_count": null,
   "metadata": {},
   "outputs": [],
   "source": []
  }
 ],
 "metadata": {
  "kernelspec": {
   "display_name": "Python 3",
   "language": "python",
   "name": "python3"
  },
  "language_info": {
   "codemirror_mode": {
    "name": "ipython",
    "version": 3
   },
   "file_extension": ".py",
   "mimetype": "text/x-python",
   "name": "python",
   "nbconvert_exporter": "python",
   "pygments_lexer": "ipython3",
   "version": "3.7.6"
  }
 },
 "nbformat": 4,
 "nbformat_minor": 4
}
