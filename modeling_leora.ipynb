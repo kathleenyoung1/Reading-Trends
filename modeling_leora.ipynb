{
 "cells": [
  {
   "cell_type": "code",
   "execution_count": 1,
   "metadata": {},
   "outputs": [],
   "source": [
    "import numpy as np\n",
    "from sklearn.linear_model import LinearRegression\n",
    "import pandas as pd\n",
    "from sklearn.model_selection import train_test_split\n",
    "import datetime\n",
    "\n",
    "import aggregator as ag"
   ]
  },
  {
   "cell_type": "code",
   "execution_count": 2,
   "metadata": {},
   "outputs": [],
   "source": [
    "data_file_name_review = \"distributed_data_collection/databases/review_data_sample.csv\"\n",
    "data_file_name_book = \"distributed_data_collection/databases/book_data_sample.csv\"\n",
    "\n",
    "#data_file_name_review = \"distributed_data_collection/databases/review_data.csv\"\n",
    "#data_file_name_book = \"distributed_data_collection/databases/book_data.csv\"\n",
    "\n",
    "book_column_list = [\"num_reviews\", \"num_ratings\", \"avg_rating\"]\n",
    "\n",
    "start_date = datetime.datetime(2018, 1, 1)\n",
    "end_date = datetime.datetime(2020, 2, 29)"
   ]
  },
  {
   "cell_type": "code",
   "execution_count": 3,
   "metadata": {},
   "outputs": [
    {
     "name": "stdout",
     "output_type": "stream",
     "text": [
      "Aggregator Initiated.\n",
      "Aggregator Initiated.\n",
      "Aggregator Initiated.\n",
      "Aggregator Initiated.\n"
     ]
    }
   ],
   "source": [
    "aggregator_day = ag.Aggregator(data_file_name_review, data_file_name_book, book_column_list, start_date, end_date, \"day\")\n",
    "aggregator_week = ag.Aggregator(data_file_name_review, data_file_name_book, book_column_list, start_date, end_date, \"week\")\n",
    "aggregator_month = ag.Aggregator(data_file_name_review, data_file_name_book, book_column_list, start_date, end_date, \"month\")\n",
    "aggregator_quarter = ag.Aggregator(data_file_name_review, data_file_name_book, book_column_list, start_date, end_date, \"quarter\")"
   ]
  },
  {
   "cell_type": "code",
   "execution_count": 4,
   "metadata": {},
   "outputs": [
    {
     "name": "stdout",
     "output_type": "stream",
     "text": [
      "Processing Scraper Output...\n",
      "Scraper Output Processed.\n",
      "Aggregating Review Data...\n",
      "Review Data Aggregated.\n",
      "Merging Book Data...\n",
      "Book Data Merged.\n",
      "Processing Scraper Output...\n",
      "Scraper Output Processed.\n",
      "Aggregating Review Data...\n",
      "Review Data Aggregated.\n",
      "Merging Book Data...\n",
      "Book Data Merged.\n",
      "Processing Scraper Output...\n",
      "Scraper Output Processed.\n",
      "Aggregating Review Data...\n",
      "Review Data Aggregated.\n",
      "Merging Book Data...\n",
      "Book Data Merged.\n",
      "Processing Scraper Output...\n",
      "Scraper Output Processed.\n",
      "Aggregating Review Data...\n",
      "Review Data Aggregated.\n",
      "Merging Book Data...\n",
      "Book Data Merged.\n"
     ]
    }
   ],
   "source": [
    "data_day = aggregator_day.aggregate(\"by_date\")\n",
    "data_week = aggregator_week.aggregate(\"by_date\")\n",
    "data_month = aggregator_month.aggregate(\"by_date\")\n",
    "data_quarter = aggregator_quarter.aggregate(\"by_date\")"
   ]
  },
  {
   "cell_type": "code",
   "execution_count": 5,
   "metadata": {},
   "outputs": [],
   "source": [
    "label = \"review_count\"\n",
    "\n",
    "x_day, y_day = data_day.drop(label,1), data_day[label]\n",
    "x_week, y_week = data_week.drop(label,1), data_week[label]\n",
    "x_month, y_month = data_month.drop(label,1), data_month[label]\n",
    "x_quarter, y_quarter = data_quarter.drop(label,1), data_quarter[label]"
   ]
  },
  {
   "cell_type": "code",
   "execution_count": 32,
   "metadata": {},
   "outputs": [],
   "source": [
    "split_perc = 0.75\n",
    "\n",
    "x_train_day, x_test_day, y_train_day, y_test_day = train_test_split(x_day, y_day, train_size= split_perc)\n",
    "x_train_week, x_test_week, y_train_week, y_test_week = train_test_split(x_week, y_week, train_size= split_perc)\n",
    "x_train_month, x_test_month, y_train_month, y_test_month = train_test_split(x_month, y_month, train_size= split_perc)\n",
    "x_train_quarter, x_test_quarter, y_train_quarter, y_test_quarter = train_test_split(x_quarter, y_quarter, train_size= split_perc)"
   ]
  },
  {
   "cell_type": "code",
   "execution_count": 31,
   "metadata": {},
   "outputs": [],
   "source": [
    "model_day = LinearRegression().fit(x_train_day, y_train_day)\n",
    "model_week = LinearRegression().fit(x_train_week, y_train_week)\n",
    "model_month = LinearRegression().fit(x_train_month, y_train_month)\n",
    "model_quarter = LinearRegression().fit(x_train_quarter, y_train_quarter)"
   ]
  },
  {
   "cell_type": "code",
   "execution_count": 43,
   "metadata": {},
   "outputs": [
    {
     "name": "stdout",
     "output_type": "stream",
     "text": [
      "\n",
      "MSE:\n",
      "day: 0.011\n",
      "week: 0.018\n",
      "month: 0.034\n",
      "quarter: 0.093\n",
      "\n",
      "\n"
     ]
    }
   ],
   "source": [
    "mse_day = metrics.mean_squared_error(y_test_day, model_day.predict(x_test_day))\n",
    "mse_week = metrics.mean_squared_error(y_test_week, model_week.predict(x_test_week))\n",
    "mse_month = metrics.mean_squared_error(y_test_month, model_month.predict(x_test_month))\n",
    "mse_quarter = metrics.mean_squared_error(y_test_quarter, model_quarter.predict(x_test_quarter))\n",
    "\n",
    "print(\"\"\"\n",
    "MSE:\n",
    "day: {:.3f}\n",
    "week: {:.3f}\n",
    "month: {:.3f}\n",
    "quarter: {:.3f}\n",
    "\n",
    "\"\"\".format(mse_day, mse_week, mse_month, mse_quarter))"
   ]
  },
  {
   "cell_type": "code",
   "execution_count": 44,
   "metadata": {},
   "outputs": [
    {
     "name": "stdout",
     "output_type": "stream",
     "text": [
      "\n",
      "R Squared:\n",
      "day: -0.000\n",
      "week: 0.000\n",
      "month: -0.009\n",
      "quarter: 0.003\n",
      "\n",
      "\n"
     ]
    }
   ],
   "source": [
    "r2_day = metrics.r2_score(y_test_day, model_day.predict(x_test_day))\n",
    "r2_week = metrics.r2_score(y_test_week, model_week.predict(x_test_week))\n",
    "r2_month = metrics.r2_score(y_test_month, model_month.predict(x_test_month))\n",
    "r2_quarter = metrics.r2_score(y_test_quarter, model_quarter.predict(x_test_quarter))\n",
    "\n",
    "print(\"\"\"\n",
    "R Squared:\n",
    "day: {:.3f}\n",
    "week: {:.3f}\n",
    "month: {:.3f}\n",
    "quarter: {:.3f}\n",
    "\n",
    "\"\"\".format(r2_day, r2_week, r2_month, r2_quarter))"
   ]
  }
 ],
 "metadata": {
  "kernelspec": {
   "display_name": "Python 3",
   "language": "python",
   "name": "python3"
  },
  "language_info": {
   "codemirror_mode": {
    "name": "ipython",
    "version": 3
   },
   "file_extension": ".py",
   "mimetype": "text/x-python",
   "name": "python",
   "nbconvert_exporter": "python",
   "pygments_lexer": "ipython3",
   "version": "3.7.6"
  }
 },
 "nbformat": 4,
 "nbformat_minor": 4
}
