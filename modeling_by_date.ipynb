{
 "cells": [
  {
   "cell_type": "code",
   "execution_count": 1,
   "metadata": {},
   "outputs": [],
   "source": [
    "import numpy as np\n",
    "from sklearn.linear_model import LinearRegression\n",
    "import pandas as pd\n",
    "from sklearn.model_selection import train_test_split\n",
    "from sklearn import metrics\n",
    "import datetime\n",
    "import itertools\n",
    "\n",
    "import aggregator as ag"
   ]
  },
  {
   "cell_type": "code",
   "execution_count": 2,
   "metadata": {},
   "outputs": [],
   "source": [
    "#data_file_name_review = \"distributed_data_collection/databases/review_data_sample.csv\"\n",
    "#data_file_name_book = \"distributed_data_collection/databases/book_data_sample.csv\"\n",
    "\n",
    "data_file_name_review = \"distributed_data_collection/databases/review_data.csv\"\n",
    "data_file_name_book = \"distributed_data_collection/databases/book_data.csv\"\n",
    "\n",
    "start_date = datetime.datetime(2018, 1, 1)\n",
    "end_date = datetime.datetime(2020, 2, 29)\n",
    "\n",
    "split_perc = 0.75\n",
    "label = \"review_count\"\n",
    "\n",
    "grain_list = [\"day\", \"week\", \"month\", \"quarter\"]\n",
    "\n",
    "book_columns_basic = [\"num_reviews\", \"num_ratings\", \"avg_rating\"]\n",
    "book_columns_all = [\"num_reviews\", \"num_ratings\", \"avg_rating\", \"series\", \"book_language\", \"book_author\"]"
   ]
  },
  {
   "cell_type": "code",
   "execution_count": 3,
   "metadata": {},
   "outputs": [],
   "source": [
    "#book_column_lists = [book_columns_basic]\n",
    "\n",
    "book_column_lists = []\n",
    "\n",
    "for i in range(1, len(book_columns_all)+1):\n",
    "    combinations = itertools.combinations(book_columns_all, i)\n",
    "    for combo in combinations:\n",
    "        combo = list(combo)\n",
    "    \n",
    "        book_column_lists.append(combo)"
   ]
  },
  {
   "cell_type": "code",
   "execution_count": null,
   "metadata": {},
   "outputs": [],
   "source": [
    "performance_df = pd.DataFrame(columns = [\"grain\", \"book_columns\", \"mse\", \"r2\", \"ar2\"])\n",
    "\n",
    "num_tests = len(grain_list) * len(book_column_lists)\n",
    "num_tests_complete = 0\n",
    "\n",
    "for grain in grain_list:\n",
    "    for book_column_list in book_column_lists:\n",
    "        \n",
    "        ##GET & SPLIT DATA\n",
    "        data_aggregator = ag.Aggregator(data_file_name_review, data_file_name_book, book_column_list, start_date, end_date, grain, print_updates = False)\n",
    "        data = data_aggregator.aggregate(\"by_date\")\n",
    "        x, y = data.drop(label,1), data[label]\n",
    "        x_train, x_test, y_train, y_test = train_test_split(x, y, train_size= split_perc)\n",
    "        \n",
    "        ##FIT MODEL\n",
    "        model = LinearRegression().fit(x_train, y_train)\n",
    "        \n",
    "        ## GET METRICS \n",
    "        mse = metrics.mean_squared_error(y_test, model.predict(x_test))\n",
    "        r2 = metrics.r2_score(y_test, model.predict(x_test))\n",
    "        \n",
    "        n = len(x_test)\n",
    "        p = len(x_test.columns)\n",
    "        \n",
    "        ar2 = 1 - (1 - r2) * (n - 1) / (n - p - 1)\n",
    "        \n",
    "        book_col_string = str(book_column_list)\n",
    "        \n",
    "        metric_dict = {\"grain\": grain, \"book_columns\": book_col_string, \"mse\": mse, \"r2\": r2, \"ar2\": ar2}\n",
    "        performance_df = performance_df.append(metric_dict, ignore_index=True)\n",
    "        \n",
    "        num_tests_complete += 1 \n",
    "        \n",
    "        if (num_tests_complete % 10 == 0) or (num_tests_complete == num_tests):\n",
    "            print \"{}/{} tests complete\".format(num_tests_complete, num_tests)"
   ]
  },
  {
   "cell_type": "code",
   "execution_count": null,
   "metadata": {},
   "outputs": [],
   "source": [
    "#print(performance_df)\n",
    "print(performance_df.describe())"
   ]
  },
  {
   "cell_type": "code",
   "execution_count": null,
   "metadata": {},
   "outputs": [],
   "source": []
  }
 ],
 "metadata": {
  "kernelspec": {
   "display_name": "Python 3",
   "language": "python",
   "name": "python3"
  },
  "language_info": {
   "codemirror_mode": {
    "name": "ipython",
    "version": 3
   },
   "file_extension": ".py",
   "mimetype": "text/x-python",
   "name": "python",
   "nbconvert_exporter": "python",
   "pygments_lexer": "ipython3",
   "version": "3.7.6"
  }
 },
 "nbformat": 4,
 "nbformat_minor": 4
}
