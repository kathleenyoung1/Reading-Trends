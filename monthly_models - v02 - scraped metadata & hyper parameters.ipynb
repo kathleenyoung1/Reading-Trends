{
 "cells": [
  {
   "cell_type": "markdown",
   "metadata": {},
   "source": [
    "This process will take all the 2018-2019 periods as features and will use those to predict reviews for each 2020 period. Differences in the overall accuracy of each model as well as shifts in the importance of different features to the model may indicate COVID-related change."
   ]
  },
  {
   "cell_type": "code",
   "execution_count": 1,
   "metadata": {},
   "outputs": [],
   "source": [
    "import datetime\n",
    "import numpy as np\n",
    "import pandas as pd\n",
    "\n",
    "import aggregator as ag\n",
    "import monthly_modeler as mm"
   ]
  },
  {
   "cell_type": "code",
   "execution_count": 2,
   "metadata": {},
   "outputs": [],
   "source": [
    "#data_file_name_review = \"distributed_data_collection/databases/review_data_sample.csv\"\n",
    "#data_file_name_book = \"distributed_data_collection/databases/book_data_sample.csv\"\n",
    "\n",
    "data_file_name_review = \"distributed_data_collection/databases/review_data.csv\"\n",
    "data_file_name_book = \"distributed_data_collection/databases/book_data.csv\"\n",
    "\n",
    "start_date = datetime.datetime(2018, 1, 1)\n",
    "end_date = datetime.datetime(2020, 9, 30)\n",
    "\n",
    "#book_columns = [\"num_reviews\", \"num_ratings\", \"avg_rating\"] #BASELINE\n",
    "book_columns = [\"num_reviews\", \"num_ratings\", \"avg_rating\", \"book_language\", \"series\", \"book_author\"]"
   ]
  },
  {
   "cell_type": "markdown",
   "metadata": {},
   "source": [
    "Theoretically, we could test against multiple grains (ie, day, week, month, quarter). However, I am only working with month. I ruled out the quarterly grain because it wouldn't include enough 2020 time periods to observe a trend in model performance over time. Then because the maximum monthly review counts were in the seventies, I didn't feel I could split those further.\n",
    "\n",
    "I want to drop binary feature columns which have a small number of values. The linear regression regularization will do a rigorous feature selection, so this step is mostly to reduce the amount of data that it has to process."
   ]
  },
  {
   "cell_type": "code",
   "execution_count": 3,
   "metadata": {},
   "outputs": [
    {
     "name": "stdout",
     "output_type": "stream",
     "text": [
      "Aggregator Initiated.\n",
      "Processing Scraper Output...\n",
      "Scraper Output Processed.\n",
      "Aggregating Review Data...\n",
      "Review Data Aggregated.\n",
      "Merging Book Data...\n",
      "Book Data Merged.\n"
     ]
    }
   ],
   "source": [
    "data_aggregator = ag.Aggregator(data_file_name_review, data_file_name_book, book_columns, start_date, end_date, \"month\")\n",
    "data_aggregator.aggregate(\"by_book\")\n",
    "data = data_aggregator.sparsity_filter(2)\n",
    "\n",
    "time_periods_post = data.aggregator.get_annual_time_periods(2020)"
   ]
  },
  {
   "cell_type": "markdown",
   "metadata": {},
   "source": [
    "I want to use the same test/train split for every time period, so I need to make the split before selecting which period will be the feature. "
   ]
  },
  {
   "cell_type": "code",
   "execution_count": 6,
   "metadata": {},
   "outputs": [],
   "source": [
    "perc_train = 0.75\n",
    "\n",
    "data = data.iloc[np.random.permutation(data.index)].reset_index(drop=True) #SHUFFLES DATA\n",
    "\n",
    "num_observations_total = len(data)\n",
    "num_observations_train = int(num_observations_total* perc_train)\n",
    "num_observations_test = num_observations_total - num_observations_train\n",
    "\n",
    "data_train = data.head(num_observations_train).reset_index(drop = True)\n",
    "data_test = data.tail(num_observations_test).reset_index(drop = True)"
   ]
  },
  {
   "cell_type": "markdown",
   "metadata": {},
   "source": [
    "We want to iterate through: logorithmic transformation, regularization type, and alpha value. For the moment, I am turning logorithmic transformation off. It's pretty clear that it has no impact, and I don't want to keep running it while I experiment with other aspects of the modeling process."
   ]
  },
  {
   "cell_type": "code",
   "execution_count": 18,
   "metadata": {},
   "outputs": [],
   "source": [
    "#alpha_list = [1] #BASELINE\n",
    "alpha_list = [np.log2(x) for x in range(2,11)] + [5, 10]\n",
    "\n",
    "#regression_types_list = [\"linear\"] #BASELINE\n",
    "regression_types_list = [\"linear\", \"ridge\", \"lasso\"]\n",
    "\n",
    "#is_log_options = [False, True]\n",
    "is_log_options = [False] "
   ]
  },
  {
   "cell_type": "markdown",
   "metadata": {},
   "source": [
    "Here goes on modeling! We will select the best model for each time period based on MSE. The performance df captures the overall predictiveness of pre-period data on post-period data. We expect to see declines due to concept drift. Sharp dropoffs in performance might suggest larger changes in reading trends."
   ]
  },
  {
   "cell_type": "code",
   "execution_count": 19,
   "metadata": {},
   "outputs": [
    {
     "name": "stdout",
     "output_type": "stream",
     "text": [
      "10/253 models processed\n",
      "20/253 models processed\n",
      "30/253 models processed\n",
      "40/253 models processed\n",
      "50/253 models processed\n",
      "60/253 models processed\n",
      "70/253 models processed\n",
      "80/253 models processed\n",
      "90/253 models processed\n",
      "100/253 models processed\n",
      "110/253 models processed\n",
      "120/253 models processed\n",
      "130/253 models processed\n",
      "140/253 models processed\n",
      "150/253 models processed\n",
      "160/253 models processed\n",
      "170/253 models processed\n",
      "180/253 models processed\n",
      "190/253 models processed\n",
      "200/253 models processed\n",
      "210/253 models processed\n",
      "220/253 models processed\n",
      "230/253 models processed\n",
      "240/253 models processed\n",
      "250/253 models processed\n",
      "253/253 models processed\n",
      "   post_period regression_type is_log   alpha  mse_test  r2_train  r2_test\n",
      "0      2020-01           ridge  False   1.000     4.394     0.813    0.745\n",
      "1      2020-02           ridge  False   1.000     2.025     0.724    0.690\n",
      "2      2020-03           ridge  False   1.000     2.600     0.706    0.672\n",
      "3      2020-04           ridge  False   1.000     4.149     0.754    0.729\n",
      "4      2020-05           ridge  False   1.000     6.014     0.720    0.609\n",
      "5      2020-06           ridge  False   1.000     5.259     0.615    0.572\n",
      "6      2020-07           ridge  False   1.585     4.193     0.626    0.569\n",
      "7      2020-08           ridge  False   1.585     3.257     0.642    0.547\n",
      "8      2020-09           ridge  False   1.000     3.210     0.605    0.549\n",
      "9      2020-10           ridge  False   2.000     1.951     0.529    0.451\n",
      "10     2020-11           ridge  False  10.000     0.021     0.062    0.013\n"
     ]
    }
   ],
   "source": [
    "regression_processor = mm.Regression_Processor(data_train, data_test, time_periods_post, regression_types_list, is_log_options, alpha_list)\n",
    "performance_df, model_dict = regression_processor.get_optimal_models()\n",
    "\n",
    "print(performance_df.round(3))"
   ]
  },
  {
   "cell_type": "markdown",
   "metadata": {},
   "source": [
    "This is where it's really at! Understanding what features are most important to each model can help us understand the drivers of reading in each period."
   ]
  },
  {
   "cell_type": "code",
   "execution_count": 20,
   "metadata": {},
   "outputs": [
    {
     "name": "stdout",
     "output_type": "stream",
     "text": [
      "                                                    review_count 2020-01\n",
      "feature_name                                                            \n",
      "series_Alex Stern                                               8.426314\n",
      "book_author_Jeanine Cummins                                     7.966083\n",
      "book_author_Fredrik Backman  Neil Smith (Transl...             -3.801619\n",
      "book_author_Yann Martel                                         3.712742\n",
      "book_author_Casey McQuiston                                     3.072889\n",
      "book_author_George Orwell                                       2.857795\n",
      "book_author_Delia Owens                                         2.677677\n",
      "book_author_George Saunders                                    -2.467010\n",
      "book_author_Laura Hillenbrand                                  -2.364236\n",
      "book_author_Taylor Jenkins Reid                                 2.196226\n",
      "                                                    review_count 2020-02\n",
      "feature_name                                                            \n",
      "book_author_Jeanine Cummins                                     6.348988\n",
      "series_Alex Stern                                               3.420860\n",
      "book_author_Erica Bauermeister                                  2.713390\n",
      "book_author_J.R.R. Tolkien                                      2.572246\n",
      "book_author_Malcolm Gladwell                                    2.508096\n",
      "book_author_James Patterson  James O. Born                      2.211761\n",
      "book_author_Yann Martel                                         2.184606\n",
      "book_author_Fredrik Backman  Neil Smith (Transl...             -2.178546\n",
      "series_The Grave Kingdom                                        2.113400\n",
      "book_author_Delia Owens                                         1.996211\n",
      "                                review_count 2020-03\n",
      "feature_name                                        \n",
      "series_Crescent City                        6.090833\n",
      "book_author_Jeanine Cummins                 5.093802\n",
      "book_author_Marie Rutkoski                  3.124907\n",
      "book_author_Richard Powers                  2.657420\n",
      "book_author_George Orwell                   2.644807\n",
      "book_author_Delia Owens                     2.439058\n",
      "book_author_Robert  Kolker                  2.341626\n",
      "book_author_Beth O'Leary                    2.230205\n",
      "series_Alex Stern                          -2.075206\n",
      "book_author_Erica Bauermeister              2.043673\n",
      "                             review_count 2020-04\n",
      "feature_name                                     \n",
      "book_author_Jeanine Cummins              6.546816\n",
      "book_author_Delia Owens                  5.671350\n",
      "series_Crescent City                     3.726608\n",
      "book_author_Josie Silver                 3.588380\n",
      "book_author_Mary Beth Keane              3.132111\n",
      "book_author_Sylvia Plath                 2.587803\n",
      "book_author_Robert  Kolker               2.580047\n",
      "book_author_George Orwell                2.360617\n",
      "series_Hot Jocks                         2.333247\n",
      "series_Blood and Ash                     2.326069\n",
      "                             review_count 2020-05\n",
      "feature_name                                     \n",
      "book_author_Emma Straub                  9.047332\n",
      "book_author_Jeanine Cummins              7.248512\n",
      "book_author_Delia Owens                  6.509972\n",
      "book_author_Sue Monk Kidd                5.545452\n",
      "book_author_Brit Bennett                 4.347055\n",
      "book_author_Mary Beth Keane              3.836283\n",
      "book_author_Beth O'Leary                 3.639673\n",
      "book_author_Robert  Kolker               3.297839\n",
      "series_Crescent City                     3.235572\n",
      "series_Boston Belles                     3.154513\n",
      "                                                    review_count 2020-06\n",
      "feature_name                                                            \n",
      "book_author_Ibram X. Kendi                                     19.577513\n",
      "book_author_Brit Bennett                                       19.045908\n",
      "book_author_Jeanine Cummins                                    10.191817\n",
      "book_author_Michelle Alexander                                  8.007114\n",
      "book_author_Ta-Nehisi Coates                                    5.001595\n",
      "book_author_Emma Straub                                         4.351765\n",
      "book_author_Mary Beth Keane                                     4.107712\n",
      "book_author_Yaa Gyasi                                           3.757944\n",
      "book_author_Beth O'Leary                                        3.614364\n",
      "book_author_Fredrik Backman  Neil Smith (Transl...             -3.441770\n",
      "                             review_count 2020-07\n",
      "feature_name                                     \n",
      "book_author_Brit Bennett                16.135480\n",
      "book_author_Jeanine Cummins              6.017633\n",
      "book_author_Ibram X. Kendi               5.768094\n",
      "book_author_Delia Owens                  4.522607\n",
      "book_author_Lucy Foley                   3.982980\n",
      "series_Alex Stern                        3.733540\n",
      "book_author_Alex North                   3.351525\n",
      "book_author_Emma Straub                  2.849821\n",
      "book_author_Beth O'Leary                 2.442596\n",
      "book_author_Sarah M. Broom               2.425258\n",
      "                               review_count 2020-08\n",
      "feature_name                                       \n",
      "book_author_Brit Bennett                   9.614881\n",
      "book_author_Ibram X. Kendi                 5.497410\n",
      "series_The Twilight Saga                   5.453472\n",
      "book_author_Jeanine Cummins                4.945043\n",
      "book_author_Lucy Foley                     3.862604\n",
      "book_author_Stephenie Meyer                3.160771\n",
      "book_author_Mary Ellen Taylor              3.039794\n",
      "book_author_Barbara  Davis                 2.990586\n",
      "series_Ready Player One                    2.355416\n",
      "series_1 likes                             2.326791\n",
      "                               review_count 2020-09\n",
      "feature_name                                       \n",
      "book_author_Brit Bennett                   8.667249\n",
      "book_author_Yaa Gyasi                      6.139408\n",
      "book_author_Jeanine Cummins                4.619305\n",
      "series_Blood and Ash                       4.101798\n",
      "book_author_Lucy Foley                     3.479172\n",
      "book_author_Shelby Mahurin                 3.382436\n",
      "series_Serpent & Dove                      3.382436\n",
      "book_author_Beth O'Leary                   3.216847\n",
      "book_author_Sariah Wilson                  3.120446\n",
      "book_author_Mary Ellen Taylor              2.845843\n",
      "                               review_count 2020-10\n",
      "feature_name                                       \n",
      "book_author_Brit Bennett                   4.025558\n",
      "book_author_V.E. Schwab                    2.606332\n",
      "book_author_Jeanine Cummins                2.517684\n",
      "book_author_Rebecca Roanhorse              1.744969\n",
      "series_The Twilight Saga                   1.730588\n",
      "series_Blood and Ash                       1.657192\n",
      "book_author_Aldous Huxley                  1.582470\n",
      "book_author_Casey McQuiston                1.581334\n",
      "book_author_Yaa Gyasi                      1.515329\n",
      "book_author_Lucy Foley                     1.475396\n",
      "                                                    review_count 2020-11\n",
      "feature_name                                                            \n",
      "book_author_Jay Asher                                           0.084722\n",
      "series_The Henna Artist                                         0.082619\n",
      "book_author_Alka Joshi                                          0.082619\n",
      "book_author_Fredrik Backman  Neil Smith (Transl...              0.081497\n",
      "book_author_Parker S. Huntington                                0.044488\n",
      "book_author_A.J. Banner                                         0.044399\n",
      "book_author_Jeanine Cummins                                     0.044304\n",
      "series_Atlee Pine                                               0.044224\n",
      "book_author_Akwaeke Emezi                                       0.044014\n",
      "book_author_Ibram X. Kendi                                      0.043984\n"
     ]
    }
   ],
   "source": [
    "coefficient_df = regression_processor.get_coefficient_df()\n",
    "coefficient_df = regression_processor.print_top_coefficients()"
   ]
  },
  {
   "cell_type": "markdown",
   "metadata": {},
   "source": [
    "I also want to understand the relative importance of each historical period. Even if it isn't the main driver, it should give some indication of whether trends are changing."
   ]
  },
  {
   "cell_type": "code",
   "execution_count": 21,
   "metadata": {},
   "outputs": [
    {
     "data": {
      "image/png": "[encoded data removed]",
      "text/plain": [
       "<Figure size 432x288 with 2 Axes>"
      ]
     },
     "metadata": {},
     "output_type": "display_data"
    }
   ],
   "source": [
    "pre_period_importance = regression_processor.get_pre_period_importance()"
   ]
  }
 ],
 "metadata": {
  "kernelspec": {
   "display_name": "Python 3",
   "language": "python",
   "name": "python3"
  },
  "language_info": {
   "codemirror_mode": {
    "name": "ipython",
    "version": 3
   },
   "file_extension": ".py",
   "mimetype": "text/x-python",
   "name": "python",
   "nbconvert_exporter": "python",
   "pygments_lexer": "ipython3",
   "version": "3.7.6"
  }
 },
 "nbformat": 4,
 "nbformat_minor": 4
}
