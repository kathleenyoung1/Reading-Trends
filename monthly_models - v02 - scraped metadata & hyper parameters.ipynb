{
 "cells": [
  {
   "cell_type": "code",
   "execution_count": 80,
   "metadata": {},
   "outputs": [],
   "source": [
    "import datetime\n",
    "import numpy as np\n",
    "import pandas as pd\n",
    "\n",
    "import aggregator as ag\n",
    "import monthly_modeler as mm"
   ]
  },
  {
   "cell_type": "code",
   "execution_count": 2,
   "metadata": {},
   "outputs": [],
   "source": [
    "#data_file_name_review = \"distributed_data_collection/databases/review_data_sample.csv\"\n",
    "#data_file_name_book = \"distributed_data_collection/databases/book_data_sample.csv\"\n",
    "\n",
    "data_file_name_review = \"distributed_data_collection/databases/review_data.csv\"\n",
    "data_file_name_book = \"distributed_data_collection/databases/book_data.csv\"\n",
    "\n",
    "start_date = datetime.datetime(2018, 1, 1)\n",
    "end_date = datetime.datetime(2020, 11, 29)\n",
    "\n",
    "#book_columns = [\"num_reviews\", \"num_ratings\", \"avg_rating\"] #BASELINE\n",
    "book_columns = [\"num_reviews\", \"num_ratings\", \"avg_rating\", \"book_language\", \"series\", \"book_author\"]"
   ]
  },
  {
   "cell_type": "markdown",
   "metadata": {},
   "source": [
    "Theoretically, we could test against multiple grains (ie, day, week, month, quarter). However, I am only working with month. I ruled out the quarterly grain because it wouldn't include enough 2020 time periods to observe a trend in model performance over time. Then because the maximum monthly review counts were in the seventies, I didn't feel I could split those further."
   ]
  },
  {
   "cell_type": "code",
   "execution_count": 3,
   "metadata": {},
   "outputs": [
    {
     "name": "stdout",
     "output_type": "stream",
     "text": [
      "Aggregator Initiated.\n",
      "Processing Scraper Output...\n",
      "Scraper Output Processed.\n",
      "Aggregating Review Data...\n",
      "Review Data Aggregated.\n",
      "Merging Book Data...\n",
      "Book Data Merged.\n"
     ]
    }
   ],
   "source": [
    "data_aggregator = ag.Aggregator(data_file_name_review, data_file_name_book, book_columns, start_date, end_date, \"month\")\n",
    "data = data_aggregator.aggregate(\"by_book\")"
   ]
  },
  {
   "cell_type": "markdown",
   "metadata": {},
   "source": [
    "I want to drop binary feature columns which have a small number of values. The linear regression regularization will do a rigorous feature selection, so this step is mostly to reduce the amount of data that it has to process."
   ]
  },
  {
   "cell_type": "code",
   "execution_count": 75,
   "metadata": {},
   "outputs": [],
   "source": [
    "data = mm.sparsity_filter(data, 2)"
   ]
  },
  {
   "cell_type": "markdown",
   "metadata": {},
   "source": [
    "This process will take all the 2018-2019 periods as features and will use those to predict reviews for each 2020 period. Differences in the overall accuracy of each model as well as shifts in the importance of different features to the model may indicate COVID-related change."
   ]
  },
  {
   "cell_type": "code",
   "execution_count": 76,
   "metadata": {},
   "outputs": [],
   "source": [
    "time_periods_post = []\n",
    "\n",
    "for col in data.columns:\n",
    "    if \"review_count\" in col:\n",
    "        if \"2020\" in col:\n",
    "            time_periods_post.append(col)"
   ]
  },
  {
   "cell_type": "markdown",
   "metadata": {},
   "source": [
    "I want to use the same test/train split for every time period, so I need to make the split before selecting which period will be the feature. "
   ]
  },
  {
   "cell_type": "code",
   "execution_count": 77,
   "metadata": {},
   "outputs": [],
   "source": [
    "perc_train = 0.75\n",
    "\n",
    "data = data.iloc[np.random.permutation(data.index)].reset_index(drop=True) #SHUFFLES DATA\n",
    "\n",
    "num_observations_total = len(data)\n",
    "num_observations_train = int(num_observations_total* perc_train)\n",
    "num_observations_test = num_observations_total - num_observations_train\n",
    "\n",
    "data_train = data.head(num_observations_train).reset_index(drop = True)\n",
    "data_test = data.tail(num_observations_test).reset_index(drop = True)"
   ]
  },
  {
   "cell_type": "markdown",
   "metadata": {},
   "source": [
    "We want to iterate through: logorithmic transformation, regularization type, and alpha value. For the moment, I am turning logorithmic transformation off. It's pretty clear that it has no impact, and I don't want to keep running it while I experiment with other aspects of the modeling process."
   ]
  },
  {
   "cell_type": "code",
   "execution_count": 78,
   "metadata": {},
   "outputs": [],
   "source": [
    "#alpha_list = [1] #BASELINE\n",
    "alpha_list = list(range(1,11))\n",
    "\n",
    "#regression_types_list = [\"linear\"] #BASELINE\n",
    "regression_types_list = [\"linear\", \"ridge\", \"lasso\"]\n",
    "\n",
    "#is_log_options = [False, True]\n",
    "is_log_options = [False] "
   ]
  },
  {
   "cell_type": "markdown",
   "metadata": {},
   "source": [
    "Here goes on modeling! We will select the best model for each time period based on MSE. The performance df captures the overall predictiveness of pre-period data on post-period data. We expect to see declines due to concept drift. Sharp dropoffs in performance might suggest larger changes in reading trends."
   ]
  },
  {
   "cell_type": "code",
   "execution_count": 81,
   "metadata": {},
   "outputs": [
    {
     "name": "stdout",
     "output_type": "stream",
     "text": [
      "10/231 models processed\n",
      "20/231 models processed\n",
      "30/231 models processed\n",
      "40/231 models processed\n",
      "50/231 models processed\n",
      "60/231 models processed\n",
      "70/231 models processed\n",
      "80/231 models processed\n",
      "90/231 models processed\n",
      "100/231 models processed\n",
      "110/231 models processed\n",
      "120/231 models processed\n",
      "130/231 models processed\n",
      "140/231 models processed\n",
      "150/231 models processed\n",
      "160/231 models processed\n",
      "170/231 models processed\n",
      "180/231 models processed\n",
      "190/231 models processed\n",
      "200/231 models processed\n",
      "210/231 models processed\n",
      "220/231 models processed\n",
      "230/231 models processed\n",
      "231/231 models processed\n",
      "   post_period regression_type is_log alpha  mse_test  r2_train  r2_test\n",
      "0      2020-01           ridge  False     1     2.834     0.788    0.737\n",
      "1      2020-02           ridge  False     1     1.759     0.707    0.611\n",
      "2      2020-03           ridge  False     1     2.336     0.696    0.574\n",
      "3      2020-04           ridge  False     1     2.795     0.733    0.691\n",
      "4      2020-05           ridge  False     1     3.694     0.660    0.597\n",
      "5      2020-06           ridge  False     1     4.471     0.553    0.503\n",
      "6      2020-07           ridge  False     1     3.497     0.588    0.517\n",
      "7      2020-08           ridge  False     1     2.623     0.583    0.522\n",
      "8      2020-09           ridge  False     1     2.491     0.560    0.479\n",
      "9      2020-10           ridge  False     1     1.816     0.509    0.367\n",
      "10     2020-11           ridge  False     1     0.013     0.043    0.041\n"
     ]
    }
   ],
   "source": [
    "regression_processor = mm.Regression_Processor(data_train, data_test, time_periods_post, regression_types_list, is_log_options, alpha_list)\n",
    "performance_df, model_dict = regression_processor.get_optimal_models()\n",
    "\n",
    "print(performance_df.round(3))"
   ]
  },
  {
   "cell_type": "markdown",
   "metadata": {},
   "source": [
    "This is where it's really at! Understanding what features are most important to each model can help us understand the drivers of reading in each period."
   ]
  },
  {
   "cell_type": "code",
   "execution_count": 82,
   "metadata": {},
   "outputs": [
    {
     "name": "stdout",
     "output_type": "stream",
     "text": [
      "                                            review_count 2020-01\n",
      "feature_name                                                    \n",
      "book_author_Kevin    Wilson                             7.339311\n",
      "book_author_Liz Moore                                   3.130514\n",
      "book_author_Karen Armstrong                             1.173987\n",
      "book_author_Aldous Huxley                               1.093292\n",
      "book_author_Michelle Alexander                          0.928399\n",
      "book_author_Melissa Foster                             -0.871101\n",
      "book_author_Lisa Wingate                                0.801586\n",
      "book_author_Deborah Levy                                0.771805\n",
      "book_author_Oscar Wilde                                 0.769686\n",
      "book_author_Heather Cocks  Jessica  Morgan              0.739384\n",
      "                                            review_count 2020-02\n",
      "feature_name                                                    \n",
      "book_author_Kevin    Wilson                             4.773547\n",
      "book_author_Erica Bauermeister                          2.719452\n",
      "book_author_Liz Moore                                   2.104198\n",
      "book_author_James Patterson  James O. Born              1.177505\n",
      "book_author_Aldous Huxley                               1.027979\n",
      "book_author_Jen Wilkin                                  0.763993\n",
      "book_author_Amy Daws                                    0.648975\n",
      "book_author_Faith Martin                                0.618371\n",
      "book_author_Siobhan Davis                               0.616171\n",
      "book_author_Bob Woodward                               -0.563245\n",
      "                                review_count 2020-03\n",
      "feature_name                                        \n",
      "book_author_Kevin    Wilson                 5.289034\n",
      "book_author_Erica Bauermeister              2.047858\n",
      "book_author_Liz Moore                       1.728587\n",
      "book_author_Mark Haddon                    -1.252451\n",
      "book_author_John M. Barry                   0.916825\n",
      "book_author_James Islington                 0.784425\n",
      "book_author_Lisa Wingate                   -0.673310\n",
      "book_author_Faith Martin                    0.610865\n",
      "book_author_Melissa Foster                 -0.605685\n",
      "book_author_Jane Austen                    -0.601291\n",
      "                                      review_count 2020-04\n",
      "feature_name                                              \n",
      "book_author_Kevin    Wilson                       2.667717\n",
      "book_author_Maria Semple                         -1.792822\n",
      "book_author_Neil deGrasse Tyson                  -1.583172\n",
      "book_author_Erica Bauermeister                    1.559325\n",
      "book_author_Lisa Wingate                         -1.288120\n",
      "book_author_Mark Haddon                           1.232180\n",
      "book_author_Amy Daws                              0.973217\n",
      "book_author_Aldous Huxley                         0.943696\n",
      "book_author_El\\xc3\\xadsabet Benavent              0.903746\n",
      "book_author_Stuart Gibbs                          0.869328\n",
      "                                review_count 2020-05\n",
      "feature_name                                        \n",
      "book_author_Kevin    Wilson                 5.609656\n",
      "book_author_Linda  Holmes                   2.552397\n",
      "book_author_Maria Semple                   -2.179600\n",
      "book_author_John M. Barry                   2.058837\n",
      "book_author_Michelle Alexander              1.937394\n",
      "book_author_Barbara Delinsky                1.247168\n",
      "book_author_James Islington                 1.073396\n",
      "book_author_Jeannette Walls                -0.931595\n",
      "book_author_Lisa Wingate                   -0.914856\n",
      "book_author_Liz Moore                       0.905712\n",
      "                                                    review_count 2020-06\n",
      "feature_name                                                            \n",
      "book_author_Michelle Alexander                                  5.947689\n",
      "book_author_Kevin    Wilson                                     3.684001\n",
      "book_author_Ivy Smoak                                           2.783072\n",
      "book_author_Maria Semple                                       -2.331553\n",
      "book_author_Liz Moore                                           1.398874\n",
      "book_author_Trevor Noah                                         1.229395\n",
      "book_author_Erica Bauermeister                                  0.980822\n",
      "book_author_Barbara Park Denise Brunkus (Illust...              0.826232\n",
      "book_author_Courtney Summers                                    0.726115\n",
      "book_author_John M. Barry                                       0.721772\n",
      "                                            review_count 2020-07\n",
      "feature_name                                                    \n",
      "book_author_Kevin    Wilson                             3.223996\n",
      "book_author_Heather Cocks  Jessica  Morgan              2.130184\n",
      "book_author_Erica Bauermeister                          1.651080\n",
      "book_author_Maria Semple                               -1.570822\n",
      "book_author_Arkady Martine                              1.457942\n",
      "book_author_Michelle Alexander                          1.170133\n",
      "book_author_Caleb Carr                                  1.105592\n",
      "book_author_Ivy Smoak                                   0.964855\n",
      "book_author_Liz Moore                                   0.915044\n",
      "book_author_Mary Ann Shaffer Annie Barrows             -0.814853\n",
      "                                review_count 2020-08\n",
      "feature_name                                        \n",
      "book_author_Kevin    Wilson                 4.390335\n",
      "book_author_Maria Semple                   -1.248429\n",
      "book_author_Ivy Smoak                       1.010310\n",
      "book_author_Jeannette Walls                 0.982091\n",
      "book_author_Michelle Alexander              0.937455\n",
      "book_author_Lisa Wingate                   -0.846830\n",
      "book_author_David  Archer                   0.835160\n",
      "book_author_Arkady Martine                  0.825254\n",
      "book_author_Serena Valentino                0.738472\n",
      "book_author_Liz Moore                       0.735296\n",
      "                                            review_count 2020-09\n",
      "feature_name                                                    \n",
      "book_author_Sariah Wilson                               4.581508\n",
      "book_author_Bob Woodward                                2.552798\n",
      "book_author_Kevin    Wilson                             2.449947\n",
      "book_author_Maria Semple                               -1.202456\n",
      "book_author_Erica Bauermeister                          0.848101\n",
      "book_author_Arkady Martine                              0.834356\n",
      "book_author_Mark Haddon                                 0.807703\n",
      "book_author_Mary Ann Shaffer Annie Barrows             -0.710903\n",
      "book_author_Michelle Alexander                          0.636236\n",
      "book_author_James Islington                            -0.605293\n",
      "                             review_count 2020-10\n",
      "feature_name                                     \n",
      "book_author_Kevin    Wilson              2.621675\n",
      "book_author_Aldous Huxley                1.939019\n",
      "book_author_Katrina Leno                 1.868921\n",
      "book_author_Bob Woodward                 1.575639\n",
      "book_author_Maria Semple                -1.397347\n",
      "book_author_Sariah Wilson                1.389000\n",
      "book_author_Jen Lancaster                1.172632\n",
      "book_author_Oscar Wilde                 -0.462339\n",
      "book_author_Mark Kurlansky              -0.429037\n",
      "book_author_Mohsin Hamid                -0.414589\n",
      "                               review_count 2020-11\n",
      "feature_name                                       \n",
      "book_author_Mark Haddon                    0.216061\n",
      "book_author_Caleb Carr                     0.159459\n",
      "book_author_Junot D\\xc3\\xadaz              0.158117\n",
      "book_author_Amy Daws                       0.157734\n",
      "book_author_Paullina Simons                0.120945\n",
      "book_author_Aldous Huxley                  0.106473\n",
      "book_author_Lisa Wingate                   0.101976\n",
      "book_author_Holly Bourne                   0.094428\n",
      "book_author_Cecelia Ahern                  0.049912\n",
      "book_author_Maria Semple                  -0.033015\n"
     ]
    }
   ],
   "source": [
    "coefficient_df = regression_processor.get_coefficient_df()\n",
    "coefficient_df = regression_processor.print_top_coefficients()"
   ]
  },
  {
   "cell_type": "markdown",
   "metadata": {},
   "source": [
    "I also want to understand the relative importance of each historical period. Even if it isn't the main driver, it should give some indication of whether trends are changing."
   ]
  },
  {
   "cell_type": "code",
   "execution_count": 83,
   "metadata": {},
   "outputs": [
    {
     "data": {
      "image/png": "[encoded data removed]",
      "text/plain": [
       "<Figure size 432x288 with 2 Axes>"
      ]
     },
     "metadata": {},
     "output_type": "display_data"
    }
   ],
   "source": [
    "pre_period_importance = regression_processor.get_pre_period_importance()"
   ]
  }
 ],
 "metadata": {
  "kernelspec": {
   "display_name": "Python 3",
   "language": "python",
   "name": "python3"
  },
  "language_info": {
   "codemirror_mode": {
    "name": "ipython",
    "version": 3
   },
   "file_extension": ".py",
   "mimetype": "text/x-python",
   "name": "python",
   "nbconvert_exporter": "python",
   "pygments_lexer": "ipython3",
   "version": "3.7.6"
  }
 },
 "nbformat": 4,
 "nbformat_minor": 4
}
