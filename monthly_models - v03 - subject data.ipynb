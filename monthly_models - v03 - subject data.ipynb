{
 "cells": [
  {
   "cell_type": "code",
   "execution_count": 1,
   "metadata": {},
   "outputs": [],
   "source": [
    "import datetime\n",
    "import itertools\n",
    "import matplotlib.pyplot as plt\n",
    "import numpy as np\n",
    "import seaborn as sns\n",
    "import pandas as pd\n",
    "\n",
    "from sklearn.model_selection import train_test_split\n",
    "from sklearn import metrics\n",
    "from sklearn.linear_model import LinearRegression, Ridge, Lasso\n",
    "\n",
    "import aggregator as ag"
   ]
  },
  {
   "cell_type": "code",
   "execution_count": 2,
   "metadata": {},
   "outputs": [],
   "source": [
    "#data_file_name_review = \"distributed_data_collection/databases/review_data_sample.csv\"\n",
    "#data_file_name_book = \"distributed_data_collection/databases/book_data_sample.csv\"\n",
    "\n",
    "data_file_name_review = \"distributed_data_collection/databases/review_data.csv\"\n",
    "data_file_name_book = \"distributed_data_collection/databases/book_data.csv\"\n",
    "data_file_name_subject = \"subject_matching/data/sub_feat_all.csv\"\n",
    "\n",
    "start_date = datetime.datetime(2018, 1, 1)\n",
    "end_date = datetime.datetime(2020, 11, 29)\n",
    "\n",
    "#book_columns = [\"num_reviews\", \"num_ratings\", \"avg_rating\"] ##THIS IS BASELINE\n",
    "book_columns = [\"num_reviews\", \"num_ratings\", \"avg_rating\", \"book_language\", \"series\", \"book_author\"]"
   ]
  },
  {
   "cell_type": "markdown",
   "metadata": {},
   "source": [
    "Theoretically, we could test against multiple grains (ie, day, week, month, quarter). However, I am only working with month. I ruled out the quarterly grain because it wouldn't include enough 2020 time periods to observe a trend in model performance over time. Then because the maximum monthly review counts were in the seventies, I didn't feel I could split those further."
   ]
  },
  {
   "cell_type": "code",
   "execution_count": 3,
   "metadata": {},
   "outputs": [
    {
     "name": "stdout",
     "output_type": "stream",
     "text": [
      "Aggregator Initiated.\n",
      "Processing Scraper Output...\n",
      "Scraper Output Processed.\n",
      "Cleaning Subject Data...\n",
      "Subject Data Cleaned\n",
      "Aggregating Review Data...\n",
      "Review Data Aggregated.\n",
      "Merging Book Data...\n",
      "Book Data Merged.\n",
      "Merging Subject Data...\n",
      "Subject Data Merged.\n"
     ]
    }
   ],
   "source": [
    "data_aggregator = ag.Aggregator(data_file_name_review, data_file_name_book, book_columns, start_date, end_date, \"month\", subject_file = data_file_name_subject)\n",
    "data = data_aggregator.aggregate(\"by_book\")"
   ]
  },
  {
   "cell_type": "markdown",
   "metadata": {},
   "source": [
    "I want to drop binary feature columns which have a small number of values. The linear regression regularization will do a rigorous feature selection, so this step is mostly to reduce the amount of data that it has to process."
   ]
  },
  {
   "cell_type": "code",
   "execution_count": 4,
   "metadata": {},
   "outputs": [],
   "source": [
    "columns_dropped = []\n",
    "k = 2\n",
    "\n",
    "for col in data.columns:\n",
    "    \n",
    "    num_values = data[col].nunique()\n",
    "    \n",
    "    if num_values == 1:\n",
    "        columns_dropped.append(col)\n",
    "        \n",
    "    elif num_values == 2:\n",
    "        if data[col].sum() <=2:\n",
    "            columns_dropped.append(col)\n",
    "            \n",
    "for col in columns_dropped:\n",
    "    data.drop(columns = col, inplace = True)"
   ]
  },
  {
   "cell_type": "markdown",
   "metadata": {},
   "source": [
    "I want to get a sense of how many features got dropped. I assume a ton!"
   ]
  },
  {
   "cell_type": "code",
   "execution_count": 5,
   "metadata": {},
   "outputs": [
    {
     "name": "stdout",
     "output_type": "stream",
     "text": [
      "10118 columns dropped, 3403 columns remaining\n"
     ]
    }
   ],
   "source": [
    "num_col_dropped = len(columns_dropped)\n",
    "num_col_remaining = len(data.columns)\n",
    "\n",
    "print(\"{} columns dropped, {} columns remaining\".format(num_col_dropped, num_col_remaining))\n",
    "\n",
    "#print(columns_dropped)\n",
    "data_copy = data.copy()"
   ]
  },
  {
   "cell_type": "markdown",
   "metadata": {},
   "source": [
    "This process will take all the 2018-2019 periods as features and will use those to predict reviews for each 2020 period. Differences in the overall accuracy of each model as well as shifts in the importance of different features to the model may indicate COVID-related change."
   ]
  },
  {
   "cell_type": "code",
   "execution_count": 6,
   "metadata": {},
   "outputs": [],
   "source": [
    "time_periods_post = []\n",
    "\n",
    "for col in data.columns:\n",
    "    if \"review_count\" in col:\n",
    "        if \"2020\" in col:\n",
    "            time_periods_post.append(col)"
   ]
  },
  {
   "cell_type": "markdown",
   "metadata": {},
   "source": [
    "I want to use the same test/train split for every time period, so I need to make the split before selecting which period will be the feature. "
   ]
  },
  {
   "cell_type": "code",
   "execution_count": 7,
   "metadata": {},
   "outputs": [],
   "source": [
    "perc_train = 0.75\n",
    "\n",
    "data = data.iloc[np.random.permutation(data.index)].reset_index(drop=True) #SHUFFLES DATA\n",
    "\n",
    "num_observations_total = len(data)\n",
    "num_observations_train = int(num_observations_total* perc_train)\n",
    "num_observations_test = num_observations_total - num_observations_train\n",
    "\n",
    "data_train = data.head(num_observations_train).reset_index(drop = True)\n",
    "data_test = data.tail(num_observations_test).reset_index(drop = True)"
   ]
  },
  {
   "cell_type": "markdown",
   "metadata": {},
   "source": [
    "We want to iterate through: logorithmic transformation, regularization type, and alpha value. For the moment, I am turning logorithmic transformation off. It's pretty clear that it has no impact, and I don't want to keep running it while I experiment with other aspects of the modeling process."
   ]
  },
  {
   "cell_type": "code",
   "execution_count": 8,
   "metadata": {},
   "outputs": [],
   "source": [
    "alpha_list = list(range(1,11))\n",
    "regression_types_list = [\"linear\", \"ridge\", \"lasso\"]\n",
    "\n",
    "#is_log_options = [False, True]\n",
    "is_log_options = [False] "
   ]
  },
  {
   "cell_type": "markdown",
   "metadata": {},
   "source": [
    "Here goes on modeling! We will select the best model for each time period based on MSE."
   ]
  },
  {
   "cell_type": "code",
   "execution_count": 9,
   "metadata": {},
   "outputs": [
    {
     "name": "stdout",
     "output_type": "stream",
     "text": [
      "10/231 models processed\n",
      "20/231 models processed\n",
      "30/231 models processed\n",
      "40/231 models processed\n",
      "50/231 models processed\n",
      "60/231 models processed\n",
      "70/231 models processed\n",
      "80/231 models processed\n",
      "90/231 models processed\n",
      "100/231 models processed\n",
      "110/231 models processed\n",
      "120/231 models processed\n",
      "130/231 models processed\n",
      "140/231 models processed\n",
      "150/231 models processed\n",
      "160/231 models processed\n",
      "170/231 models processed\n",
      "180/231 models processed\n",
      "190/231 models processed\n",
      "200/231 models processed\n",
      "210/231 models processed\n",
      "220/231 models processed\n",
      "230/231 models processed\n",
      "231/231 models processed\n"
     ]
    }
   ],
   "source": [
    "#JUST FOR PROGRESS PRINTING\n",
    "\n",
    "num_models = len(regression_types_list)\n",
    "num_periods = len(time_periods_post)\n",
    "num_is_log_options = len(is_log_options)\n",
    "num_alphas = len(alpha_list)\n",
    "\n",
    "num_models_total = (num_periods * num_is_log_options) * ( (num_alphas * (num_models - 1)) + 1)\n",
    "num_models_complete = 0\n",
    "model_dict = {}\n",
    "\n",
    "#ACTUAL MODELING\n",
    "performance_df = pd.DataFrame(columns = [\"post_period\", \"regression_type\", \"is_log\", \"alpha\", \"mse_test\", \"r2_train\", \"r2_test\"])\n",
    "\n",
    "for i in range(len(time_periods_post)): #ITERATE OVER EACH PERIOD IN THE POST PERIOD\n",
    "    \n",
    "    label = time_periods_post[i]\n",
    "    \n",
    "    data_train_period = data_train.copy()\n",
    "    data_test_period = data_test.copy()\n",
    "    \n",
    "    #REMOVE OTHER POST-PERIODS FROM DATA \n",
    "    \n",
    "    for post_period in time_periods_post:\n",
    "\n",
    "        if post_period != label:\n",
    "            data_train_period.drop(columns = post_period, inplace = True)\n",
    "            data_test_period.drop(columns = post_period, inplace = True)\n",
    "                   \n",
    "    #CREATE TRAINING & TESTING DATA SPECIFIC TO THAT PERIOD \n",
    "\n",
    "    x_train, y_train = data_train_period.drop(label,1), data_train_period[label]\n",
    "    x_test, y_test = data_test_period.drop(label,1), data_test_period[label]\n",
    "        \n",
    "    optimal_model = None\n",
    "    optimal_regression_type = None\n",
    "    optimal_mse_test = None\n",
    "    optimal_is_log = None\n",
    "    optimal_alpha = None\n",
    "    is_none = True\n",
    "    \n",
    "    for regression_type in regression_types_list:\n",
    "        for is_log in is_log_options:\n",
    "            for alpha_val in alpha_list:\n",
    "                \n",
    "                if regression_type == \"linear\":\n",
    "                    model = LinearRegression(normalize = True)\n",
    "                    \n",
    "                if regression_type == \"ridge\":\n",
    "                    model = Ridge(normalize = True, alpha = alpha_val) \n",
    "                    \n",
    "                if regression_type == \"lasso\":\n",
    "                    model = Lasso(normalize = True, alpha = alpha_val)\n",
    "            \n",
    "                model.fit(x_train, y_train)\n",
    "                mse_test = metrics.mean_squared_error(y_test, model.predict(x_test))\n",
    "\n",
    "                if is_none:\n",
    "                    optimal_model = model\n",
    "                    optimal_mse_test = mse_test\n",
    "                    optimal_regression_type = regression_type\n",
    "                    optimal_is_log = is_log\n",
    "                    \n",
    "                    if regression_type == \"linear\":\n",
    "                        alpha_val = None\n",
    "                    \n",
    "                    optimal_alpha = alpha_val\n",
    "\n",
    "                    is_none = False\n",
    "\n",
    "                elif mse_test < optimal_mse_test:\n",
    "\n",
    "                    optimal_model = model\n",
    "                    optimal_mse_test = mse_test\n",
    "                    optimal_regression_type = regression_type\n",
    "                    optimal_is_log = is_log\n",
    "                    \n",
    "                    if regression_type == \"linear\":\n",
    "                        alpha_val = None\n",
    "                    \n",
    "                    optimal_alpha = alpha_val\n",
    "\n",
    "                #PRINT UPDATES\n",
    "\n",
    "                num_models_complete +=1\n",
    "\n",
    "                if (num_models_complete % 10 == 0) or (num_models_complete == num_models_total):\n",
    "                    print(\"{}/{} models processed\".format(num_models_complete, num_models_total))\n",
    "                    \n",
    "                if regression_type == \"linear\":\n",
    "                    break\n",
    "                \n",
    "    #GET METRICS FOR WINNING MODEL\n",
    "    \n",
    "    #mse_train = metrics.mean_squared_error(y_train, optimal_model.predict(x_train))\n",
    "    mse_test = metrics.mean_squared_error(y_test, optimal_model.predict(x_test))\n",
    "\n",
    "    r2_train = metrics.r2_score(y_train, optimal_model.predict(x_train))\n",
    "    r2_test = metrics.r2_score(y_test, optimal_model.predict(x_test))\n",
    "        \n",
    "    metric_dict = {\"post_period\": label, \"regression_type\": optimal_regression_type, \"is_log\": optimal_is_log, \"alpha\": optimal_alpha, \"mse_test\": mse_test, \"r2_train\": r2_train, \"r2_test\": r2_test}\n",
    "    performance_df = performance_df.append(metric_dict, ignore_index=True)\n",
    "    model_dict[label] = optimal_model"
   ]
  },
  {
   "cell_type": "markdown",
   "metadata": {},
   "source": [
    "The performance df captures the overall predictiveness of pre-period data on post-period data. We expect to see declines due to concept drift. Sharp dropoffs in performance might suggest larger changes in reading trends."
   ]
  },
  {
   "cell_type": "code",
   "execution_count": 10,
   "metadata": {
    "scrolled": true
   },
   "outputs": [
    {
     "name": "stdout",
     "output_type": "stream",
     "text": [
      "   post_period regression_type is_log alpha  mse_test  r2_train  r2_test\n",
      "0      2020-01           ridge  False     1     3.323     0.812    0.757\n",
      "1      2020-02           ridge  False     1     2.040     0.748    0.629\n",
      "2      2020-03           ridge  False     1     2.345     0.723    0.648\n",
      "3      2020-04           ridge  False     1     3.387     0.773    0.706\n",
      "4      2020-05           ridge  False     2     4.638     0.695    0.602\n",
      "5      2020-06           ridge  False     1     5.300     0.634    0.543\n",
      "6      2020-07           ridge  False     2     4.133     0.633    0.532\n",
      "7      2020-08           ridge  False     3     2.674     0.608    0.552\n",
      "8      2020-09           ridge  False     3     2.591     0.574    0.523\n",
      "9      2020-10           ridge  False     3     1.240     0.505    0.497\n",
      "10     2020-11           ridge  False    10     0.015     0.066    0.017\n"
     ]
    }
   ],
   "source": [
    "performance_df[\"post_period\"] = performance_df[\"post_period\"].apply(lambda text: text.replace(\"review_count \", \"\"))\n",
    "print(performance_df.round(3))"
   ]
  },
  {
   "cell_type": "markdown",
   "metadata": {},
   "source": [
    "This is where it's really at! Understanding what features are most important to each model can help us understand the drivers of reading in each period."
   ]
  },
  {
   "cell_type": "code",
   "execution_count": 11,
   "metadata": {},
   "outputs": [],
   "source": [
    "coefficient_dict = {}\n",
    "\n",
    "for period in time_periods_post:\n",
    "    period_name = period.replace(\"review_count \", \"\")\n",
    "    \n",
    "    model = model_dict.get(period)\n",
    "    coefficients = model.coef_\n",
    "    #intercept = model.intercept_\n",
    "    \n",
    "    coefficient_dict[period_name] = coefficients\n",
    "    \n",
    "coefficient_df = pd.DataFrame.from_dict(coefficient_dict)\n",
    "\n",
    "feature_data = data.copy()\n",
    "\n",
    "for col in feature_data.columns:\n",
    "    if col in time_periods_post:\n",
    "        feature_data.drop(columns = col, inplace = True)\n",
    "        \n",
    "feature_names = feature_data.columns\n",
    "\n",
    "coefficient_df[\"feature_name\"] = feature_names\n",
    "coefficient_df.set_index(\"feature_name\", inplace = True)\n",
    "\n",
    "#print(coefficient_df.round(3))"
   ]
  },
  {
   "cell_type": "code",
   "execution_count": 12,
   "metadata": {},
   "outputs": [
    {
     "name": "stdout",
     "output_type": "stream",
     "text": [
      "                              2020-01\n",
      "feature_name                         \n",
      "book_author_Jeanine Cummins  7.934847\n",
      "book_author_Brian Freeman    7.554932\n",
      "series_Alex Stern            4.680904\n",
      "series_Frost Easton         -3.951665\n",
      "book_author_Sally Rooney     3.621937\n",
      "book_author_Dale Carnegie    3.540547\n",
      "book_author_Stephen Chbosky -3.267395\n",
      "book_author_J.R.R. Tolkien   2.867519\n",
      "book_author_Casey McQuiston  2.851994\n",
      "series_The Handmaid\\'s Tale -2.842812\n",
      "                                 2020-02\n",
      "feature_name                            \n",
      "book_author_Jeanine Cummins     8.089910\n",
      "book_author_Brian Freeman       4.846096\n",
      "book_author_J.R.R. Tolkien      4.522705\n",
      "subject_counsel                 2.803302\n",
      "book_author_Erica Bauermeister  2.712309\n",
      "book_author_Sally Rooney        2.559916\n",
      "subject_psychotherapy           2.367665\n",
      "book_author_Stephen Chbosky    -2.244127\n",
      "book_author_C.M. Sutter         2.185413\n",
      "series_Alex Stern               2.157609\n",
      "                              2020-03\n",
      "feature_name                         \n",
      "book_author_Jeanine Cummins  6.337606\n",
      "book_author_Celeste Ng       4.926185\n",
      "book_author_Erik Larson      3.173100\n",
      "book_author_Brian Freeman    3.135240\n",
      "book_author_Kelly Harms      3.075906\n",
      "book_author_George Orwell    2.662006\n",
      "subject_psychotherapy        2.515193\n",
      "book_author_Angie  Kim       2.496218\n",
      "book_author_Sally Rooney     2.451571\n",
      "subject_counsel              2.441252\n",
      "                               2020-04\n",
      "feature_name                          \n",
      "book_author_Jeanine Cummins   9.525844\n",
      "book_author_Sally Rooney      6.768636\n",
      "book_author_Celeste Ng        4.542699\n",
      "series_The Handmaid\\'s Tale  -3.729561\n",
      "book_author_Barbara O'Neal    3.712144\n",
      "book_author_Jennifer Hillier  3.572707\n",
      "series_The Century Trilogy    3.295742\n",
      "book_author_Inglath Cooper    3.247010\n",
      "book_author_Susan Orlean     -3.037262\n",
      "book_author_Stephen Chbosky  -2.988291\n",
      "                                                     2020-05\n",
      "feature_name                                                \n",
      "book_author_Sally Rooney                            7.118122\n",
      "book_author_Jeanine Cummins                         6.003759\n",
      "book_author_Emma Straub                             4.594472\n",
      "book_author_Fredrik Backman  Neil Smith (Transl...  4.546796\n",
      "series_The Hunger Games                             3.548468\n",
      "book_author_Silvia Moreno-Garcia                    3.364183\n",
      "book_author_J.R.R. Tolkien                          3.074695\n",
      "book_author_Lily King                               2.861915\n",
      "book_author_Samantha Irby                           2.788902\n",
      "book_author_Curtis Sittenfeld                       2.756398\n",
      "                                    2020-06\n",
      "feature_name                               \n",
      "book_author_Brit Bennett          18.961741\n",
      "book_author_Ibram X. Kendi        18.574787\n",
      "book_author_Jeanine Cummins       11.680770\n",
      "book_author_Sally Rooney           7.274997\n",
      "book_author_Silvia Moreno-Garcia   6.745685\n",
      "series_The Hunger Games            5.332846\n",
      "book_author_Yaa Gyasi              4.605239\n",
      "subject_think                      4.141667\n",
      "book_author_Suzanne Collins        3.930386\n",
      "book_author_Lucy Foley             3.804662\n",
      "                                    2020-07\n",
      "feature_name                               \n",
      "book_author_Brit Bennett          13.505966\n",
      "book_author_Jeanine Cummins        6.018250\n",
      "book_author_Silvia Moreno-Garcia   5.976265\n",
      "book_author_Ibram X. Kendi         4.788798\n",
      "book_author_Celeste Ng             4.205958\n",
      "book_author_Sally Rooney           3.050310\n",
      "book_author_Lucy Foley             3.027993\n",
      "book_author_Rory Power             3.024785\n",
      "book_author_Riley Sager            2.889102\n",
      "book_author_Barbara  Davis         2.811504\n",
      "                                                     2020-08\n",
      "feature_name                                                \n",
      "book_author_Brit Bennett                            7.901954\n",
      "book_author_Fredrik Backman  Neil Smith (Transl...  6.159802\n",
      "book_author_Jeanine Cummins                         3.443564\n",
      "series_The Twilight Saga                            3.386417\n",
      "book_author_Barbara  Davis                          2.880985\n",
      "book_author_Ibram X. Kendi                          2.654868\n",
      "book_author_Sally Rooney                            2.616597\n",
      "book_author_Silvia Moreno-Garcia                    2.404069\n",
      "book_author_Lucy Foley                              2.128040\n",
      "book_author_Stephenie Meyer                         2.026599\n",
      "                                                      2020-09\n",
      "feature_name                                                 \n",
      "book_author_Fredrik Backman  Neil Smith (Transl...  10.655542\n",
      "book_author_Brit Bennett                             4.898313\n",
      "book_author_Jeanine Cummins                          3.076633\n",
      "book_author_Silvia Moreno-Garcia                     2.509452\n",
      "book_author_Celeste Ng                               2.118874\n",
      "book_author_Lucy Foley                               1.877172\n",
      "book_author_Susanna Clarke                           1.736521\n",
      "book_author_Sally Rooney                             1.688800\n",
      "book_author_Yaa Gyasi                                1.573013\n",
      "series_1 likes                                       1.561260\n",
      "                                                     2020-10\n",
      "feature_name                                                \n",
      "book_author_Fredrik Backman  Neil Smith (Transl...  7.189789\n",
      "book_author_Brit Bennett                            3.309612\n",
      "book_author_Silvia Moreno-Garcia                    3.169668\n",
      "book_author_V.E. Schwab                             2.274394\n",
      "book_author_Rumaan Alam                             2.214344\n",
      "book_author_Jeanine Cummins                         2.008801\n",
      "book_author_Celeste Ng                              1.578504\n",
      "book_author_Haruki Murakami Jay Rubin (Translator)  1.088775\n",
      "book_author_Lucy Foley                              1.086392\n",
      "book_author_Naomi Novik                             1.007187\n",
      "                                                     2020-11\n",
      "feature_name                                                \n",
      "book_author_Fredrik Backman  Neil Smith (Transl...  0.089859\n",
      "book_author_Silvia Moreno-Garcia                    0.089699\n",
      "book_author_Jeanine Cummins                         0.089559\n",
      "book_author_Casey McQuiston                         0.088076\n",
      "book_author_Akwaeke Emezi                           0.059237\n",
      "series_The Hunger Games                             0.046593\n",
      "book_author_Amy Daws                                0.044358\n",
      "book_author_A.J. Banner                             0.044272\n",
      "book_author_Lynda Mullaly Hunt                      0.044121\n",
      "book_author_Ibram X. Kendi                          0.044065\n"
     ]
    }
   ],
   "source": [
    "for period in coefficient_df.columns:\n",
    "    \n",
    "    selected_df = coefficient_df.copy()\n",
    "    \n",
    "    abs_name = \"{}_abs\".format(period)\n",
    "    \n",
    "    selected_df[abs_name] = selected_df[period].apply(lambda val: abs(val))\n",
    "    selected_df = selected_df[[period, abs_name]]\n",
    "    selected_df.sort_values(by=abs_name, ascending=False, inplace = True)\n",
    "    \n",
    "    selected_df = selected_df.head(10)\n",
    "    selected_df.drop(columns = abs_name, inplace = True)\n",
    "    \n",
    "    print(selected_df)"
   ]
  },
  {
   "cell_type": "markdown",
   "metadata": {},
   "source": [
    "I also want to understand the relative importance of each historical period. Even if it isn't the main driver, it should give some indication of whether trends are changing."
   ]
  },
  {
   "cell_type": "code",
   "execution_count": 13,
   "metadata": {},
   "outputs": [
    {
     "data": {
      "image/png": "[encoded data removed]",
      "text/plain": [
       "<Figure size 432x288 with 2 Axes>"
      ]
     },
     "metadata": {
      "needs_background": "light"
     },
     "output_type": "display_data"
    }
   ],
   "source": [
    "coefficient_historical_df = coefficient_df[coefficient_df.index.str.contains(\"review_count\")]\n",
    "#print(coefficient_historical_df)\n",
    "\n",
    "sns.heatmap(coefficient_historical_df)\n",
    "plt.show()"
   ]
  }
 ],
 "metadata": {
  "kernelspec": {
   "display_name": "Python 3",
   "language": "python",
   "name": "python3"
  },
  "language_info": {
   "codemirror_mode": {
    "name": "ipython",
    "version": 3
   },
   "file_extension": ".py",
   "mimetype": "text/x-python",
   "name": "python",
   "nbconvert_exporter": "python",
   "pygments_lexer": "ipython3",
   "version": "3.7.6"
  }
 },
 "nbformat": 4,
 "nbformat_minor": 4
}
