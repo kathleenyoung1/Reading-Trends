{
 "cells": [
  {
   "cell_type": "markdown",
   "metadata": {},
   "source": [
    "This process will take all the 2018-2019 periods as features and will use those to predict reviews for each 2020 period. Differences in the overall accuracy of each model as well as shifts in the importance of different features to the model may indicate COVID-related change."
   ]
  },
  {
   "cell_type": "code",
   "execution_count": 1,
   "metadata": {},
   "outputs": [],
   "source": [
    "import datetime\n",
    "import numpy as np\n",
    "import pandas as pd\n",
    "\n",
    "import aggregator as ag\n",
    "import monthly_modeler as mm"
   ]
  },
  {
   "cell_type": "code",
   "execution_count": 2,
   "metadata": {},
   "outputs": [],
   "source": [
    "#data_file_name_review = \"distributed_data_collection/databases/review_data_sample.csv\"\n",
    "#data_file_name_book = \"distributed_data_collection/databases/book_data_sample.csv\"\n",
    "\n",
    "data_file_name_review = \"distributed_data_collection/databases/review_data.csv\"\n",
    "data_file_name_book = \"distributed_data_collection/databases/book_data.csv\"\n",
    "data_file_name_subject = \"subject_matching/data/sub_feat_all.csv\"\n",
    "\n",
    "start_date = datetime.datetime(2018, 1, 1)\n",
    "end_date = datetime.datetime(2020, 9, 30)\n",
    "\n",
    "#book_columns = [\"num_reviews\", \"num_ratings\", \"avg_rating\"] #BASELINE\n",
    "book_columns = [\"num_reviews\", \"num_ratings\", \"avg_rating\", \"book_language\", \"series\", \"book_author\"]"
   ]
  },
  {
   "cell_type": "markdown",
   "metadata": {},
   "source": [
    "Theoretically, we could test against multiple grains (ie, day, week, month, quarter). However, I am only working with month. I ruled out the quarterly grain because it wouldn't include enough 2020 time periods to observe a trend in model performance over time. Then because the maximum monthly review counts were in the seventies, I didn't feel I could split those further.\n",
    "\n",
    "I want to drop binary feature columns which have a small number of values. The linear regression regularization will do a rigorous feature selection, so this step is mostly to reduce the amount of data that it has to process."
   ]
  },
  {
   "cell_type": "code",
   "execution_count": 3,
   "metadata": {},
   "outputs": [
    {
     "name": "stdout",
     "output_type": "stream",
     "text": [
      "Aggregator Initiated.\n",
      "Processing Scraper Output...\n",
      "Scraper Output Processed.\n",
      "Cleaning Subject Data...\n",
      "Subject Data Cleaned\n",
      "Aggregating Review Data...\n",
      "Review Data Aggregated.\n",
      "Merging Book Data...\n",
      "Book Data Merged.\n",
      "Merging Subject Data...\n",
      "Subject Data Merged.\n",
      "Applying Sparsity Filter...\n",
      "Dropped 10,117/13,518 columns. 3,401 columns remaining.\n"
     ]
    }
   ],
   "source": [
    "data_aggregator = ag.Aggregator(data_file_name_review, data_file_name_book, book_columns, start_date, end_date, \"month\", subject_file = data_file_name_subject)\n",
    "data_aggregator.aggregate(\"by_book\")\n",
    "data_aggregator.sparsity_filter(2)\n",
    "\n",
    "time_periods_post = data_aggregator.get_annual_time_periods(2020)\n",
    "data_train, data_test = data_aggregator.get_train_test_split(0.75)"
   ]
  },
  {
   "cell_type": "markdown",
   "metadata": {},
   "source": [
    "We want to iterate through: logorithmic transformation, regularization type, and alpha value. For the moment, I am turning logorithmic transformation off. It's pretty clear that it has no impact, and I don't want to keep running it while I experiment with other aspects of the modeling process."
   ]
  },
  {
   "cell_type": "code",
   "execution_count": 4,
   "metadata": {},
   "outputs": [],
   "source": [
    "#alpha_list = [1] #BASELINE\n",
    "alpha_list = [np.log2(x) for x in range(2,11)] + [5, 10]\n",
    "\n",
    "#regression_types_list = [\"linear\"] #BASELINE\n",
    "regression_types_list = [\"linear\", \"ridge\", \"lasso\"]\n",
    "\n",
    "#is_log_options = [False, True]\n",
    "is_log_options = [False] "
   ]
  },
  {
   "cell_type": "markdown",
   "metadata": {},
   "source": [
    "Here goes on modeling! We will select the best model for each time period based on MSE. The performance df captures the overall predictiveness of pre-period data on post-period data. We expect to see declines due to concept drift. Sharp dropoffs in performance might suggest larger changes in reading trends."
   ]
  },
  {
   "cell_type": "code",
   "execution_count": 5,
   "metadata": {},
   "outputs": [
    {
     "name": "stdout",
     "output_type": "stream",
     "text": [
      "10/207 models processed\n",
      "20/207 models processed\n",
      "30/207 models processed\n",
      "40/207 models processed\n",
      "50/207 models processed\n",
      "60/207 models processed\n",
      "70/207 models processed\n",
      "80/207 models processed\n",
      "90/207 models processed\n",
      "100/207 models processed\n",
      "110/207 models processed\n",
      "120/207 models processed\n",
      "130/207 models processed\n",
      "140/207 models processed\n",
      "150/207 models processed\n",
      "160/207 models processed\n",
      "170/207 models processed\n",
      "180/207 models processed\n",
      "190/207 models processed\n",
      "200/207 models processed\n",
      "207/207 models processed\n",
      "  post_period regression_type is_log  alpha  mse_test  r2_train  r2_test\n",
      "0     2020-01           ridge  False  1.000     2.705     0.808    0.768\n",
      "1     2020-02           ridge  False  2.322     1.537     0.705    0.644\n",
      "2     2020-03           ridge  False  1.000     2.247     0.722    0.646\n",
      "3     2020-04           ridge  False  1.000     3.288     0.770    0.711\n",
      "4     2020-05           ridge  False  2.000     4.963     0.709    0.548\n",
      "5     2020-06           ridge  False  2.322     4.467     0.596    0.504\n",
      "6     2020-07           ridge  False  2.000     4.519     0.644    0.462\n",
      "7     2020-08           ridge  False  1.000     2.461     0.658    0.562\n",
      "8     2020-09           ridge  False  1.585     2.631     0.616    0.509\n"
     ]
    }
   ],
   "source": [
    "regression_processor = mm.Regression_Processor(data_train, data_test, time_periods_post, regression_types_list, is_log_options, alpha_list)\n",
    "performance_df, model_dict = regression_processor.get_optimal_models()\n",
    "\n",
    "print(performance_df.round(3))"
   ]
  },
  {
   "cell_type": "markdown",
   "metadata": {},
   "source": [
    "This is where it's really at! Understanding what features are most important to each model can help us understand the drivers of reading in each period."
   ]
  },
  {
   "cell_type": "code",
   "execution_count": 6,
   "metadata": {},
   "outputs": [
    {
     "name": "stdout",
     "output_type": "stream",
     "text": [
      "                                review_count 2020-01\n",
      "feature_name                                        \n",
      "book_author_Jeanine Cummins                 7.965084\n",
      "book_author_Brian Freeman                   7.559667\n",
      "book_author_Abbi Waxman                     5.150721\n",
      "book_author_Casey McQuiston                 4.442236\n",
      "series_Frost Easton                        -3.960922\n",
      "book_author_Liz Moore                       3.920811\n",
      "book_author_Audrey Niffenegger              3.579650\n",
      "series_Alex Stern                           3.279039\n",
      "book_author_Dale Carnegie                   2.581520\n",
      "book_author_Yann Martel                     2.570082\n",
      "                                                    review_count 2020-02\n",
      "feature_name                                                            \n",
      "book_author_Jeanine Cummins                                     4.906106\n",
      "subject_psychotherapy                                           3.631646\n",
      "book_author_Brian Freeman                                       2.756564\n",
      "book_author_Malcolm Gladwell                                    2.255581\n",
      "book_author_Liz Moore                                           1.646132\n",
      "book_author_J.R.R. Tolkien                                      1.619351\n",
      "book_author_Delia Owens                                         1.595257\n",
      "book_author_Greer Hendricks  Sarah Pekkanen                     1.377667\n",
      "book_author_Haruki Murakami Jay Rubin (Translator)              1.231596\n",
      "book_author_Trevor Noah                                         1.214663\n",
      "                                           review_count 2020-03\n",
      "feature_name                                                   \n",
      "book_author_Jeanine Cummins                            6.341624\n",
      "series_Crescent City                                   6.145795\n",
      "subject_psychotherapy                                  5.109862\n",
      "book_author_Brian Freeman                              3.136112\n",
      "book_author_John E. Douglas Mark Olshaker              2.766750\n",
      "subject_introvert                                      2.654945\n",
      "book_author_Audrey Niffenegger                         2.540387\n",
      "book_author_Delia Owens                                2.515851\n",
      "book_author_Casey McQuiston                            2.416355\n",
      "book_author_Liz Moore                                  2.365537\n",
      "                                review_count 2020-04\n",
      "feature_name                                        \n",
      "book_author_Jeanine Cummins                 9.539877\n",
      "book_author_Mary Beth Keane                 5.898162\n",
      "book_author_Delia Owens                     5.689162\n",
      "book_author_Barbara O'Neal                  5.021328\n",
      "book_author_Sally Rooney                    4.750852\n",
      "series_Crescent City                        3.665386\n",
      "book_author_Audrey Niffenegger              3.283332\n",
      "series_Blood and Ash                        2.587449\n",
      "book_author_Janelle Brown                   2.575773\n",
      "book_author_Lucy Foley                      2.518334\n",
      "                             review_count 2020-05\n",
      "feature_name                                     \n",
      "book_author_Jeanine Cummins              6.009503\n",
      "book_author_Sally Rooney                 5.718454\n",
      "book_author_Delia Owens                  4.806848\n",
      "book_author_Alka Joshi                   3.933841\n",
      "series_The Henna Artist                  3.933841\n",
      "book_author_Barbara O'Neal               3.264440\n",
      "series_Boston Belles                     3.199552\n",
      "series_The Hunger Games                  3.181814\n",
      "book_author_Lucy Foley                   2.517547\n",
      "book_author_Casey McQuiston              2.336395\n",
      "                                review_count 2020-06\n",
      "feature_name                                        \n",
      "book_author_Ibram X. Kendi                  9.854125\n",
      "book_author_Jeanine Cummins                 7.078209\n",
      "book_author_Yaa Gyasi                       5.820016\n",
      "book_author_Trevor Noah                     4.632843\n",
      "book_author_Ta-Nehisi Coates                4.500276\n",
      "book_author_Mary Beth Keane                 4.382719\n",
      "book_author_Michelle Alexander              3.587676\n",
      "subject_psychotherapy                       3.329596\n",
      "series_The Hunger Games                     3.037965\n",
      "book_author_Sally Rooney                    2.968448\n",
      "                                  review_count 2020-07\n",
      "feature_name                                          \n",
      "book_author_Jeanine Cummins                   6.021949\n",
      "book_author_Sarah M. Broom                    4.548951\n",
      "book_author_Ibram X. Kendi                    4.270123\n",
      "book_author_Delia Owens                       4.080902\n",
      "book_author_Lucy Foley                        3.651351\n",
      "book_author_Yaa Gyasi                         2.941060\n",
      "book_author_Silvia Moreno-Garcia              2.767251\n",
      "book_author_Barbara  Davis                    2.765071\n",
      "book_author_Brit Bennett                      2.753118\n",
      "book_author_Trevor Noah                       2.628671\n",
      "                                                    review_count 2020-08\n",
      "feature_name                                                            \n",
      "book_author_Brit Bennett                                        7.437241\n",
      "book_author_Jeanine Cummins                                     6.831360\n",
      "book_author_Barbara  Davis                                      5.965059\n",
      "book_author_Fredrik Backman  Neil Smith (Transl...              5.964736\n",
      "book_author_Ibram X. Kendi                                      5.278899\n",
      "series_The Twilight Saga                                        4.864605\n",
      "book_author_Lucy Foley                                          4.764822\n",
      "book_author_Elizabeth Acevedo                                   4.302336\n",
      "series_Blood and Ash                                            3.957878\n",
      "book_author_Sally Rooney                                        3.639606\n",
      "                                                    review_count 2020-09\n",
      "feature_name                                                            \n",
      "book_author_Fredrik Backman  Neil Smith (Transl...              8.463320\n",
      "series_Blood and Ash                                            4.763528\n",
      "book_author_Jeanine Cummins                                     4.741685\n",
      "book_author_Yaa Gyasi                                           4.627334\n",
      "book_author_Lucy Foley                                          3.419261\n",
      "subject_psychotherapy                                           2.965354\n",
      "book_author_Susanna Clarke                                      2.661391\n",
      "series_1 likes                                                  2.431114\n",
      "book_author_Brit Bennett                                        2.418604\n",
      "subject_introvert                                               2.361450\n"
     ]
    }
   ],
   "source": [
    "coefficient_df = regression_processor.get_coefficient_df()\n",
    "coefficient_df = regression_processor.print_top_coefficients()"
   ]
  },
  {
   "cell_type": "markdown",
   "metadata": {},
   "source": [
    "I also want to understand the relative importance of each historical period. Even if it isn't the main driver, it should give some indication of whether trends are changing."
   ]
  },
  {
   "cell_type": "code",
   "execution_count": 7,
   "metadata": {},
   "outputs": [
    {
     "data": {
      "image/png": "[encoded data removed]",
      "text/plain": [
       "<Figure size 432x288 with 2 Axes>"
      ]
     },
     "metadata": {},
     "output_type": "display_data"
    }
   ],
   "source": [
    "pre_period_importance = regression_processor.get_pre_period_importance()"
   ]
  }
 ],
 "metadata": {
  "kernelspec": {
   "display_name": "Python 3",
   "language": "python",
   "name": "python3"
  },
  "language_info": {
   "codemirror_mode": {
    "name": "ipython",
    "version": 3
   },
   "file_extension": ".py",
   "mimetype": "text/x-python",
   "name": "python",
   "nbconvert_exporter": "python",
   "pygments_lexer": "ipython3",
   "version": "3.7.6"
  }
 },
 "nbformat": 4,
 "nbformat_minor": 4
}
