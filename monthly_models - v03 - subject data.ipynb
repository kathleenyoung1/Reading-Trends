{
 "cells": [
  {
   "cell_type": "code",
   "execution_count": 1,
   "metadata": {},
   "outputs": [],
   "source": [
    "import datetime\n",
    "import numpy as np\n",
    "import pandas as pd\n",
    "\n",
    "import aggregator as ag\n",
    "import monthly_modeler as mm"
   ]
  },
  {
   "cell_type": "code",
   "execution_count": 2,
   "metadata": {},
   "outputs": [],
   "source": [
    "#data_file_name_review = \"distributed_data_collection/databases/review_data_sample.csv\"\n",
    "#data_file_name_book = \"distributed_data_collection/databases/book_data_sample.csv\"\n",
    "\n",
    "data_file_name_review = \"distributed_data_collection/databases/review_data.csv\"\n",
    "data_file_name_book = \"distributed_data_collection/databases/book_data.csv\"\n",
    "data_file_name_subject = \"subject_matching/data/sub_feat_all.csv\"\n",
    "\n",
    "start_date = datetime.datetime(2018, 1, 1)\n",
    "end_date = datetime.datetime(2020, 11, 29)\n",
    "\n",
    "#book_columns = [\"num_reviews\", \"num_ratings\", \"avg_rating\"] #BASELINE\n",
    "book_columns = [\"num_reviews\", \"num_ratings\", \"avg_rating\", \"book_language\", \"series\", \"book_author\"]"
   ]
  },
  {
   "cell_type": "markdown",
   "metadata": {},
   "source": [
    "Theoretically, we could test against multiple grains (ie, day, week, month, quarter). However, I am only working with month. I ruled out the quarterly grain because it wouldn't include enough 2020 time periods to observe a trend in model performance over time. Then because the maximum monthly review counts were in the seventies, I didn't feel I could split those further."
   ]
  },
  {
   "cell_type": "code",
   "execution_count": 3,
   "metadata": {},
   "outputs": [
    {
     "name": "stdout",
     "output_type": "stream",
     "text": [
      "Aggregator Initiated.\n",
      "Processing Scraper Output...\n",
      "Scraper Output Processed.\n",
      "Cleaning Subject Data...\n",
      "Subject Data Cleaned\n",
      "Aggregating Review Data...\n",
      "Review Data Aggregated.\n",
      "Merging Book Data...\n",
      "Book Data Merged.\n",
      "Merging Subject Data...\n",
      "Subject Data Merged.\n"
     ]
    }
   ],
   "source": [
    "data_aggregator = ag.Aggregator(data_file_name_review, data_file_name_book, book_columns, start_date, end_date, \"month\", subject_file = data_file_name_subject)\n",
    "data = data_aggregator.aggregate(\"by_book\")"
   ]
  },
  {
   "cell_type": "markdown",
   "metadata": {},
   "source": [
    "I want to drop binary feature columns which have a small number of values. The linear regression regularization will do a rigorous feature selection, so this step is mostly to reduce the amount of data that it has to process."
   ]
  },
  {
   "cell_type": "code",
   "execution_count": 4,
   "metadata": {},
   "outputs": [
    {
     "name": "stdout",
     "output_type": "stream",
     "text": [
      "Dropped 10,118/13,521 columns. 3,403 columns remaining.\n"
     ]
    }
   ],
   "source": [
    "data = mm.sparsity_filter(data, 2)"
   ]
  },
  {
   "cell_type": "markdown",
   "metadata": {},
   "source": [
    "This process will take all the 2018-2019 periods as features and will use those to predict reviews for each 2020 period. Differences in the overall accuracy of each model as well as shifts in the importance of different features to the model may indicate COVID-related change."
   ]
  },
  {
   "cell_type": "code",
   "execution_count": 5,
   "metadata": {},
   "outputs": [],
   "source": [
    "time_periods_post = []\n",
    "\n",
    "for col in data.columns:\n",
    "    if \"review_count\" in col:\n",
    "        if \"2020\" in col:\n",
    "            time_periods_post.append(col)"
   ]
  },
  {
   "cell_type": "markdown",
   "metadata": {},
   "source": [
    "I want to use the same test/train split for every time period, so I need to make the split before selecting which period will be the feature. "
   ]
  },
  {
   "cell_type": "code",
   "execution_count": 6,
   "metadata": {},
   "outputs": [],
   "source": [
    "perc_train = 0.75\n",
    "\n",
    "data = data.iloc[np.random.permutation(data.index)].reset_index(drop=True) #SHUFFLES DATA\n",
    "\n",
    "num_observations_total = len(data)\n",
    "num_observations_train = int(num_observations_total* perc_train)\n",
    "num_observations_test = num_observations_total - num_observations_train\n",
    "\n",
    "data_train = data.head(num_observations_train).reset_index(drop = True)\n",
    "data_test = data.tail(num_observations_test).reset_index(drop = True)"
   ]
  },
  {
   "cell_type": "markdown",
   "metadata": {},
   "source": [
    "We want to iterate through: logorithmic transformation, regularization type, and alpha value. For the moment, I am turning logorithmic transformation off. It's pretty clear that it has no impact, and I don't want to keep running it while I experiment with other aspects of the modeling process."
   ]
  },
  {
   "cell_type": "code",
   "execution_count": 7,
   "metadata": {},
   "outputs": [],
   "source": [
    "#alpha_list = [1] #BASELINE\n",
    "alpha_list = list(range(1,11))\n",
    "\n",
    "#regression_types_list = [\"linear\"] #BASELINE\n",
    "regression_types_list = [\"linear\", \"ridge\", \"lasso\"]\n",
    "\n",
    "#is_log_options = [False, True]\n",
    "is_log_options = [False] "
   ]
  },
  {
   "cell_type": "markdown",
   "metadata": {},
   "source": [
    "Here goes on modeling! We will select the best model for each time period based on MSE. The performance df captures the overall predictiveness of pre-period data on post-period data. We expect to see declines due to concept drift. Sharp dropoffs in performance might suggest larger changes in reading trends."
   ]
  },
  {
   "cell_type": "code",
   "execution_count": 8,
   "metadata": {},
   "outputs": [
    {
     "name": "stdout",
     "output_type": "stream",
     "text": [
      "10/231 models processed\n",
      "20/231 models processed\n",
      "30/231 models processed\n",
      "40/231 models processed\n",
      "50/231 models processed\n",
      "60/231 models processed\n",
      "70/231 models processed\n",
      "80/231 models processed\n",
      "90/231 models processed\n",
      "100/231 models processed\n",
      "110/231 models processed\n",
      "120/231 models processed\n",
      "130/231 models processed\n",
      "140/231 models processed\n",
      "150/231 models processed\n",
      "160/231 models processed\n",
      "170/231 models processed\n",
      "180/231 models processed\n",
      "190/231 models processed\n",
      "200/231 models processed\n",
      "210/231 models processed\n",
      "220/231 models processed\n",
      "230/231 models processed\n",
      "231/231 models processed\n",
      "   post_period regression_type is_log alpha  mse_test  r2_train  r2_test\n",
      "0      2020-01           ridge  False     1     3.102     0.808    0.779\n",
      "1      2020-02           ridge  False     1     2.040     0.738    0.666\n",
      "2      2020-03           ridge  False     1     2.253     0.706    0.698\n",
      "3      2020-04           ridge  False     1     3.185     0.753    0.755\n",
      "4      2020-05           ridge  False     1     4.390     0.700    0.672\n",
      "5      2020-06           ridge  False     1     4.557     0.613    0.595\n",
      "6      2020-07           ridge  False     1     3.374     0.629    0.622\n",
      "7      2020-08           ridge  False     2     2.755     0.624    0.577\n",
      "8      2020-09           ridge  False     1     2.428     0.605    0.594\n",
      "9      2020-10           ridge  False     2     1.456     0.512    0.529\n",
      "10     2020-11           ridge  False    10     0.013     0.073    0.012\n"
     ]
    }
   ],
   "source": [
    "regression_processor = mm.Regression_Processor(data_train, data_test, time_periods_post, regression_types_list, is_log_options, alpha_list)\n",
    "performance_df, model_dict = regression_processor.get_optimal_models()\n",
    "\n",
    "print(performance_df.round(3))"
   ]
  },
  {
   "cell_type": "markdown",
   "metadata": {},
   "source": [
    "This is where it's really at! Understanding what features are most important to each model can help us understand the drivers of reading in each period."
   ]
  },
  {
   "cell_type": "code",
   "execution_count": 9,
   "metadata": {},
   "outputs": [
    {
     "name": "stdout",
     "output_type": "stream",
     "text": [
      "                                 review_count 2020-01\n",
      "feature_name                                         \n",
      "book_author_Jeanine Cummins                  7.939937\n",
      "book_author_Brian Freeman                    4.132309\n",
      "book_author_Dale Carnegie                    3.356587\n",
      "book_author_Liz Moore                        3.199864\n",
      "series_Alex Stern                            3.128641\n",
      "book_author_Mhairi McFarlane                 3.013038\n",
      "book_author_Casey McQuiston                  2.886863\n",
      "book_author_Josh Malerman                   -2.726926\n",
      "book_author_Taylor Jenkins Reid              2.499813\n",
      "book_author_Chloe  Benjamin                 -2.332844\n",
      "                                                    review_count 2020-02\n",
      "feature_name                                                            \n",
      "book_author_Jeanine Cummins                                     6.350732\n",
      "book_author_Trevor Noah                                         3.993651\n",
      "series_The Grave Kingdom                                        3.213523\n",
      "subject_counsel                                                 3.019146\n",
      "book_author_Marlon James                                        2.959531\n",
      "book_author_J.R.R. Tolkien                                      2.724335\n",
      "book_author_Erica Bauermeister                                  2.714693\n",
      "book_author_Brian Freeman                                       2.674290\n",
      "book_author_Liz Moore                                           2.178927\n",
      "book_author_Homer Robert Fagles (Translator) Be...              1.983374\n",
      "                                review_count 2020-03\n",
      "feature_name                                        \n",
      "book_author_Jeanine Cummins                 5.064035\n",
      "book_author_Celeste Ng                      3.201823\n",
      "subject_counsel                             3.162558\n",
      "book_author_Mhairi McFarlane                3.147306\n",
      "book_author_Marie Rutkoski                  3.090731\n",
      "series_Crescent City                        2.710070\n",
      "book_author_Angie  Kim                      2.178239\n",
      "book_author_Josie Silver                    2.080058\n",
      "book_author_Erica Bauermeister              2.045882\n",
      "book_author_Kelly Harms                     2.004565\n",
      "                              review_count 2020-04\n",
      "feature_name                                      \n",
      "book_author_Jeanine Cummins               6.524291\n",
      "book_author_Barbara O'Neal                5.020335\n",
      "book_author_Sally Rooney                  4.685064\n",
      "book_author_Delia Owens                   3.898465\n",
      "book_author_Josie Silver                  3.789409\n",
      "book_author_Mhairi McFarlane              3.630632\n",
      "book_author_Trevor Noah                   3.591824\n",
      "book_author_Celeste Ng                    3.066724\n",
      "series_The Friend Zone                    2.958539\n",
      "book_author_Abby Jimenez                  2.958539\n",
      "                               review_count 2020-05\n",
      "feature_name                                       \n",
      "book_author_Emma Straub                    9.002028\n",
      "book_author_Jeanine Cummins                7.194606\n",
      "book_author_Sally Rooney                   6.850971\n",
      "book_author_Barbara O'Neal                 4.744080\n",
      "book_author_Delia Owens                    4.670315\n",
      "book_author_Suzanne Collins                4.462545\n",
      "series_The Hunger Games                    4.443558\n",
      "book_author_Samantha Irby                  4.230508\n",
      "book_author_Curtis Sittenfeld              4.204820\n",
      "book_author_Mhairi McFarlane               4.071497\n",
      "                                review_count 2020-06\n",
      "feature_name                                        \n",
      "book_author_Brit Bennett                   14.323759\n",
      "book_author_Trevor Noah                    13.000939\n",
      "book_author_Ibram X. Kendi                 10.717238\n",
      "book_author_Jeanine Cummins                10.146781\n",
      "book_author_Ta-Nehisi Coates                7.314967\n",
      "book_author_Michelle Alexander              5.908414\n",
      "book_author_Sally Rooney                    5.289102\n",
      "book_author_Suzanne Collins                 4.746833\n",
      "series_The Hunger Games                     4.571814\n",
      "book_author_Emma Straub                     4.312769\n",
      "                                  review_count 2020-07\n",
      "feature_name                                          \n",
      "book_author_Brit Bennett                     15.337261\n",
      "book_author_Trevor Noah                       8.185124\n",
      "book_author_Jeanine Cummins                   7.687439\n",
      "book_author_Ibram X. Kendi                    4.530306\n",
      "book_author_Lucy Foley                        4.282610\n",
      "book_author_Silvia Moreno-Garcia              4.092768\n",
      "book_author_Celeste Ng                        3.908560\n",
      "book_author_Delia Owens                       3.820310\n",
      "book_author_Emma Straub                       3.648189\n",
      "book_author_Sarah M. Broom                    3.082450\n",
      "                             review_count 2020-08\n",
      "feature_name                                     \n",
      "book_author_Brit Bennett                 7.925430\n",
      "book_author_Jeanine Cummins              4.240619\n",
      "series_The Twilight Saga                 3.464372\n",
      "series_1 likes                           3.215881\n",
      "book_author_Stephenie Meyer              2.908617\n",
      "book_author_Lucy Foley                   2.781055\n",
      "series_Blood and Ash                     2.654995\n",
      "book_author_Barbara O'Neal               2.483929\n",
      "book_author_Ibram X. Kendi               2.425394\n",
      "book_author_Sally Rooney                 2.286877\n",
      "                                                    review_count 2020-09\n",
      "feature_name                                                            \n",
      "book_author_Fredrik Backman  Neil Smith (Transl...              8.044107\n",
      "book_author_Brit Bennett                                        7.350003\n",
      "book_author_Yaa Gyasi                                           6.140100\n",
      "series_Blood and Ash                                            6.070223\n",
      "book_author_Susanna Clarke                                      5.043742\n",
      "series_1 likes                                                  4.801717\n",
      "book_author_Jeanine Cummins                                     4.586397\n",
      "book_author_Trevor Noah                                         4.465278\n",
      "book_author_Lucy Foley                                          3.437168\n",
      "book_author_Liu Cixin  Ken Liu  (Translator)                    3.331756\n",
      "                                                    review_count 2020-10\n",
      "feature_name                                                            \n",
      "book_author_Brit Bennett                                        3.123892\n",
      "book_author_Fredrik Backman  Neil Smith (Transl...              3.096551\n",
      "book_author_Rumaan Alam                                         2.959255\n",
      "book_author_V.E. Schwab                                         2.658269\n",
      "series_Blood and Ash                                            2.514507\n",
      "book_author_Jeanine Cummins                                     2.504374\n",
      "book_author_Eckhart Tolle                                       2.300299\n",
      "book_author_Silvia Moreno-Garcia                                2.008245\n",
      "book_author_Katrina Leno                                        1.937264\n",
      "book_author_Rebecca Roanhorse                                   1.736127\n",
      "                                                    review_count 2020-11\n",
      "feature_name                                                            \n",
      "book_author_Gordon Korman                                       0.089299\n",
      "book_author_Lynda Mullaly Hunt                                  0.088653\n",
      "book_author_Casey McQuiston                                     0.088019\n",
      "book_author_Alka Joshi                                          0.082488\n",
      "series_The Henna Artist                                         0.082488\n",
      "book_author_Trevor Noah                                         0.080784\n",
      "book_author_Fredrik Backman  Neil Smith (Transl...              0.055505\n",
      "book_author_Suzanne Collins                                     0.045368\n",
      "series_The Hunger Games                                         0.045200\n",
      "book_author_Amy Daws                                            0.044474\n"
     ]
    }
   ],
   "source": [
    "coefficient_df = regression_processor.get_coefficient_df()\n",
    "coefficient_df = regression_processor.print_top_coefficients()"
   ]
  },
  {
   "cell_type": "markdown",
   "metadata": {},
   "source": [
    "I also want to understand the relative importance of each historical period. Even if it isn't the main driver, it should give some indication of whether trends are changing."
   ]
  },
  {
   "cell_type": "code",
   "execution_count": 10,
   "metadata": {},
   "outputs": [
    {
     "data": {
      "image/png": "[encoded data removed]",
      "text/plain": [
       "<Figure size 432x288 with 2 Axes>"
      ]
     },
     "metadata": {},
     "output_type": "display_data"
    }
   ],
   "source": [
    "pre_period_importance = regression_processor.get_pre_period_importance()"
   ]
  }
 ],
 "metadata": {
  "kernelspec": {
   "display_name": "Python 3",
   "language": "python",
   "name": "python3"
  },
  "language_info": {
   "codemirror_mode": {
    "name": "ipython",
    "version": 3
   },
   "file_extension": ".py",
   "mimetype": "text/x-python",
   "name": "python",
   "nbconvert_exporter": "python",
   "pygments_lexer": "ipython3",
   "version": "3.7.6"
  }
 },
 "nbformat": 4,
 "nbformat_minor": 4
}
