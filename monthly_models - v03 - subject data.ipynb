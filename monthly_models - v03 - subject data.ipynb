{
 "cells": [
  {
   "cell_type": "markdown",
   "metadata": {},
   "source": [
    "This process will take all the 2018-2019 periods as features and will use those to predict reviews for each 2020 period. Differences in the overall accuracy of each model as well as shifts in the importance of different features to the model may indicate COVID-related change."
   ]
  },
  {
   "cell_type": "code",
   "execution_count": 1,
   "metadata": {},
   "outputs": [],
   "source": [
    "import datetime\n",
    "import numpy as np\n",
    "import pandas as pd\n",
    "\n",
    "import aggregator as ag\n",
    "import monthly_modeler as mm"
   ]
  },
  {
   "cell_type": "code",
   "execution_count": 2,
   "metadata": {},
   "outputs": [],
   "source": [
    "#data_file_name_review = \"distributed_data_collection/databases/review_data_sample.csv\"\n",
    "#data_file_name_book = \"distributed_data_collection/databases/book_data_sample.csv\"\n",
    "\n",
    "data_file_name_review = \"distributed_data_collection/databases/review_data.csv\"\n",
    "data_file_name_book = \"distributed_data_collection/databases/book_data.csv\"\n",
    "data_file_name_subject = \"subject_matching/data/sub_feat_all.csv\"\n",
    "\n",
    "start_date = datetime.datetime(2018, 1, 1)\n",
    "end_date = datetime.datetime(2020, 9, 30)\n",
    "\n",
    "#book_columns = [\"num_reviews\", \"num_ratings\", \"avg_rating\"] #BASELINE\n",
    "book_columns = [\"num_reviews\", \"num_ratings\", \"avg_rating\", \"book_language\", \"series\", \"book_author\"]"
   ]
  },
  {
   "cell_type": "markdown",
   "metadata": {},
   "source": [
    "Theoretically, we could test against multiple grains (ie, day, week, month, quarter). However, I am only working with month. I ruled out the quarterly grain because it wouldn't include enough 2020 time periods to observe a trend in model performance over time. Then because the maximum monthly review counts were in the seventies, I didn't feel I could split those further.\n",
    "\n",
    "I want to drop binary feature columns which have a small number of values. The linear regression regularization will do a rigorous feature selection, so this step is mostly to reduce the amount of data that it has to process."
   ]
  },
  {
   "cell_type": "code",
   "execution_count": 3,
   "metadata": {},
   "outputs": [
    {
     "name": "stdout",
     "output_type": "stream",
     "text": [
      "Aggregator Initiated.\n",
      "Processing Scraper Output...\n",
      "Scraper Output Processed.\n",
      "Aggregating Review Data...\n",
      "Review Data Aggregated.\n",
      "Merging Book Data...\n",
      "Book Data Merged.\n",
      "Applying Sparsity Filter...\n",
      "Dropped 10,112/12,295 columns. 2,183 columns remaining.\n"
     ]
    }
   ],
   "source": [
    "data_aggregator = ag.Aggregator(data_file_name_review, data_file_name_book, book_columns, start_date, end_date, \"month\")\n",
    "data_aggregator.aggregate(\"by_book\")\n",
    "data_aggregator.sparsity_filter(2)\n",
    "\n",
    "time_periods_post = data_aggregator.get_annual_time_periods(2020)\n",
    "data_train, data_test = data_aggregator.get_train_test_split(0.75)"
   ]
  },
  {
   "cell_type": "markdown",
   "metadata": {},
   "source": [
    "We want to iterate through: logorithmic transformation, regularization type, and alpha value. For the moment, I am turning logorithmic transformation off. It's pretty clear that it has no impact, and I don't want to keep running it while I experiment with other aspects of the modeling process."
   ]
  },
  {
   "cell_type": "code",
   "execution_count": 4,
   "metadata": {},
   "outputs": [],
   "source": [
    "#alpha_list = [1] #BASELINE\n",
    "alpha_list = [np.log2(x) for x in range(2,11)] + [5, 10]\n",
    "\n",
    "#regression_types_list = [\"linear\"] #BASELINE\n",
    "regression_types_list = [\"linear\", \"ridge\", \"lasso\"]\n",
    "\n",
    "#is_log_options = [False, True]\n",
    "is_log_options = [False] "
   ]
  },
  {
   "cell_type": "markdown",
   "metadata": {},
   "source": [
    "Here goes on modeling! We will select the best model for each time period based on MSE. The performance df captures the overall predictiveness of pre-period data on post-period data. We expect to see declines due to concept drift. Sharp dropoffs in performance might suggest larger changes in reading trends."
   ]
  },
  {
   "cell_type": "code",
   "execution_count": 5,
   "metadata": {},
   "outputs": [
    {
     "name": "stdout",
     "output_type": "stream",
     "text": [
      "10/207 models processed\n",
      "20/207 models processed\n",
      "30/207 models processed\n",
      "40/207 models processed\n",
      "50/207 models processed\n",
      "60/207 models processed\n",
      "70/207 models processed\n",
      "80/207 models processed\n",
      "90/207 models processed\n",
      "100/207 models processed\n",
      "110/207 models processed\n",
      "120/207 models processed\n",
      "130/207 models processed\n",
      "140/207 models processed\n",
      "150/207 models processed\n",
      "160/207 models processed\n",
      "170/207 models processed\n",
      "180/207 models processed\n",
      "190/207 models processed\n",
      "200/207 models processed\n",
      "207/207 models processed\n",
      "  post_period regression_type is_log  alpha  mse_test  r2_train  r2_test\n",
      "0     2020-01           ridge  False    1.0     7.276     0.865    0.480\n",
      "1     2020-02           ridge  False    1.0     4.104     0.822    0.315\n",
      "2     2020-03           ridge  False    1.0     4.778     0.804    0.324\n",
      "3     2020-04           ridge  False    1.0     7.432     0.862    0.308\n",
      "4     2020-05           ridge  False    1.0    11.126     0.838    0.272\n",
      "5     2020-06           ridge  False    1.0    10.533     0.741    0.198\n",
      "6     2020-07           ridge  False    1.0     9.996     0.798    0.204\n",
      "7     2020-08           ridge  False    1.0     6.618     0.791    0.172\n",
      "8     2020-09           ridge  False    1.0     6.323     0.784    0.133\n"
     ]
    }
   ],
   "source": [
    "regression_processor = mm.Regression_Processor(data_train, data_test, time_periods_post, regression_types_list, is_log_options, alpha_list)\n",
    "performance_df, model_dict = regression_processor.get_optimal_models()\n",
    "\n",
    "print(performance_df.round(3))"
   ]
  },
  {
   "cell_type": "markdown",
   "metadata": {},
   "source": [
    "This is where it's really at! Understanding what features are most important to each model can help us understand the drivers of reading in each period."
   ]
  },
  {
   "cell_type": "code",
   "execution_count": 6,
   "metadata": {},
   "outputs": [
    {
     "name": "stdout",
     "output_type": "stream",
     "text": [
      "                                                    review_count 2020-01\n",
      "feature_name                                                            \n",
      "series_The Handmaid\\'s Tale                                    -4.309252\n",
      "book_author_Liv Constantine                                    -2.944878\n",
      "series_Will this be a series or is it a stand a...             -2.924920\n",
      "book_author_Yann Martel                                         2.722663\n",
      "book_author_Dale Carnegie                                       2.624173\n",
      "book_author_Fredrik Backman  Neil Smith (Transl...             -2.539413\n",
      "book_author_A.J. Finn                                          -2.474775\n",
      "book_author_Chloe  Benjamin                                    -2.405416\n",
      "book_author_Audrey Niffenegger                                  2.388920\n",
      "book_author_Beth O'Leary                                        2.160488\n",
      "                                                    review_count 2020-02\n",
      "feature_name                                                            \n",
      "series_The Hate U Give                                         -2.303677\n",
      "book_author_J.R.R. Tolkien                                      2.283688\n",
      "book_author_Angie Thomas                                       -2.246354\n",
      "book_author_Terry Pratchett Neil Gaiman                        -2.130157\n",
      "book_author_A.J. Finn                                          -2.049950\n",
      "book_author_Haruki Murakami Jay Rubin (Translator)              1.686920\n",
      "book_author_Taylor  Adams                                       1.684016\n",
      "book_author_Fredrik Backman  Neil Smith (Transl...             -1.602129\n",
      "book_author_Yann Martel                                         1.375531\n",
      "series_Will this be a series or is it a stand a...             -1.346880\n",
      "                                           review_count 2020-03\n",
      "feature_name                                                   \n",
      "book_author_Robert  Kolker                             2.837427\n",
      "series_Adventures of Tom and Huck                      2.296848\n",
      "series_Truly Devious                                   2.218837\n",
      "book_author_Tricia Levenseller                         1.971378\n",
      "series_The Handmaid\\'s Tale                           -1.962257\n",
      "book_author_A.J. Finn                                 -1.837966\n",
      "book_author_Audrey Niffenegger                         1.661437\n",
      "book_author_Marie Rutkoski                             1.652562\n",
      "book_author_John E. Douglas Mark Olshaker              1.602704\n",
      "series_The Notebook                                    1.558267\n",
      "                                review_count 2020-04\n",
      "feature_name                                        \n",
      "series_The Handmaid\\'s Tale                -5.953818\n",
      "book_author_Angie Thomas                   -2.628053\n",
      "series_Truly Devious                        2.532866\n",
      "book_author_Beth O'Leary                    2.512447\n",
      "book_author_Sylvia Plath                    2.412439\n",
      "book_author_Audrey Niffenegger              2.294074\n",
      "book_author_Taylor  Adams                   2.277396\n",
      "book_author_Chloe  Benjamin                -2.199604\n",
      "book_author_Sally Rooney                    1.947271\n",
      "series_The Hate U Give                     -1.904315\n",
      "                                                    review_count 2020-05\n",
      "feature_name                                                            \n",
      "book_author_Beth O'Leary                                        5.077756\n",
      "book_author_Sally Rooney                                        4.714895\n",
      "series_The Handmaid\\'s Tale                                    -4.514520\n",
      "book_author_Liv Constantine                                     3.457329\n",
      "book_author_A.J. Finn                                          -3.047336\n",
      "book_author_Fredrik Backman  Neil Smith (Transl...             -2.819752\n",
      "book_author_Michelle Alexander                                  2.816222\n",
      "book_author_Stephen Chbosky                                     2.648544\n",
      "book_author_Matthew Walker                                      2.562869\n",
      "book_author_J.R.R. Tolkien                                      2.389701\n",
      "                                review_count 2020-06\n",
      "feature_name                                        \n",
      "book_author_Ibram X. Kendi                 11.870521\n",
      "book_author_Yaa Gyasi                       9.574153\n",
      "book_author_Michelle Alexander              8.103367\n",
      "book_author_Ta-Nehisi Coates                7.447459\n",
      "book_author_Trevor Noah                     5.215489\n",
      "series_The Handmaid\\'s Tale                -4.801635\n",
      "book_author_Brit Bennett                    4.476171\n",
      "book_author_Beth O'Leary                    3.782152\n",
      "book_author_James Baldwin                   2.893336\n",
      "book_author_Angie Thomas                    2.786912\n",
      "                              review_count 2020-07\n",
      "feature_name                                      \n",
      "book_author_Brit Bennett                  5.029275\n",
      "book_author_Ibram X. Kendi                4.955895\n",
      "book_author_Yaa Gyasi                     4.398106\n",
      "series_The Handmaid\\'s Tale              -3.432689\n",
      "book_author_Ta-Nehisi Coates              2.964423\n",
      "book_author_Trevor Noah                   2.523459\n",
      "book_author_A.J. Finn                    -2.447338\n",
      "book_author_Susanna Clarke                2.294834\n",
      "book_author_Chloe  Benjamin              -2.239810\n",
      "book_author_Mark Manson                  -1.954639\n",
      "                                                    review_count 2020-08\n",
      "feature_name                                                            \n",
      "book_author_Ibram X. Kendi                                      5.533494\n",
      "series_The Handmaid\\'s Tale                                    -4.943537\n",
      "book_author_Brit Bennett                                        4.103850\n",
      "book_author_Elizabeth Acevedo                                   3.380692\n",
      "book_author_Tricia Levenseller                                  2.768089\n",
      "book_author_Beth O'Leary                                        2.559492\n",
      "book_author_Stephen Chbosky                                     2.513512\n",
      "book_author_Chloe  Benjamin                                    -2.307777\n",
      "book_author_Fredrik Backman  Neil Smith (Transl...             -2.144834\n",
      "series_Ready Player One                                         2.017291\n",
      "                                                    review_count 2020-09\n",
      "feature_name                                                            \n",
      "book_author_Yaa Gyasi                                           6.025488\n",
      "book_author_Beth O'Leary                                        4.131266\n",
      "series_The Handmaid\\'s Tale                                    -2.781293\n",
      "book_author_Tricia Levenseller                                  2.389069\n",
      "book_author_Brit Bennett                                        2.121092\n",
      "book_author_Tayari Jones                                       -2.003886\n",
      "series_Truly Devious                                            1.912518\n",
      "series_Will this be a series or is it a stand a...             -1.766281\n",
      "book_author_A.J. Finn                                          -1.604519\n",
      "book_author_Ibram X. Kendi                                      1.584587\n"
     ]
    }
   ],
   "source": [
    "coefficient_df = regression_processor.get_coefficient_df()\n",
    "coefficient_df = regression_processor.print_top_coefficients()"
   ]
  },
  {
   "cell_type": "markdown",
   "metadata": {},
   "source": [
    "I also want to understand the relative importance of each historical period. Even if it isn't the main driver, it should give some indication of whether trends are changing."
   ]
  },
  {
   "cell_type": "code",
   "execution_count": 7,
   "metadata": {},
   "outputs": [
    {
     "data": {
      "image/png": "[encoded data removed]",
      "text/plain": [
       "<Figure size 432x288 with 2 Axes>"
      ]
     },
     "metadata": {},
     "output_type": "display_data"
    }
   ],
   "source": [
    "pre_period_importance = regression_processor.get_pre_period_importance()"
   ]
  }
 ],
 "metadata": {
  "kernelspec": {
   "display_name": "Python 3",
   "language": "python",
   "name": "python3"
  },
  "language_info": {
   "codemirror_mode": {
    "name": "ipython",
    "version": 3
   },
   "file_extension": ".py",
   "mimetype": "text/x-python",
   "name": "python",
   "nbconvert_exporter": "python",
   "pygments_lexer": "ipython3",
   "version": "3.7.6"
  }
 },
 "nbformat": 4,
 "nbformat_minor": 4
}
