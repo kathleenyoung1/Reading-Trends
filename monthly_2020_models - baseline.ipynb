{
 "cells": [
  {
   "cell_type": "markdown",
   "metadata": {},
   "source": [
    "Intro: The idea behind this approach was to take all the 2018-2019 data and use it to build a seperate model for each 2020 period. Differences in the overall accuracy of each model as well as shifts in the importance of different features to the model might indicate COVID-related change. \n",
    "\n",
    "This approach initially seemed pretty promising. The kitchen sink model (the model built on all available features) assigned the highest correlation coefficients to features which appeared highly topical, primarily author names: Ibram X. Kendi and Ta-Nehisi Coates during the height of the Black Lives Matter Protests, Sally Rooney as Normal People was released as a television series, Jeanine Cummins while American Dirt recieved significant press attention. Based on that model, it appeared that monthly review counts would be best predicted by understanding pop cultural trends at that moment rather than overall historical trends. The correlation matrix (in the feature selection notebook) supported the assumption that historical review counts would be less important. It seemed like we were going to find something very cool! \n",
    "\n",
    "However, the feature selection testing was a damp towel. For this process, I started with the baseline model and tested the impact of adding new features one at a time. Every single feature addition degraded model performance: we ended up right back at the baseline model. That model is exciting in that it performs fairly well, but it is of minimal use in analyzing 2020 trends. With potentially topical features no longer included, I'm not sure that the approach of building seperate models for each 2020 month is still viable. It might be best to drop the approach entirely, although taking a more granualar approach to feature selection could also make sense. "
   ]
  },
  {
   "cell_type": "code",
   "execution_count": 8,
   "metadata": {},
   "outputs": [],
   "source": [
    "import datetime\n",
    "import numpy as np\n",
    "import pandas as pd\n",
    "\n",
    "import aggregator as ag\n",
    "import monthly_modeler as mm"
   ]
  },
  {
   "cell_type": "code",
   "execution_count": 2,
   "metadata": {},
   "outputs": [],
   "source": [
    "data_file_name_review = \"distributed_data_collection/databases/review_data.csv\"\n",
    "data_file_name_book = \"distributed_data_collection/databases/book_data.csv\"\n",
    "\n",
    "start_date = datetime.datetime(2018, 1, 1)\n",
    "end_date = datetime.datetime(2020, 9, 30)\n",
    "\n",
    "book_columns = [\"num_reviews\", \"num_ratings\", \"avg_rating\"]"
   ]
  },
  {
   "cell_type": "markdown",
   "metadata": {},
   "source": [
    "Theoretically, we could test against multiple grains (ie, day, week, month, quarter). However, I am only working with month. I ruled out the quarterly grain because it wouldn't include enough 2020 time periods to observe a trend in model performance over time. Then because the maximum monthly review counts were in the seventies, I didn't feel I could split those further.\n",
    "\n",
    "I want to drop binary feature columns which have a small number of values. The linear regression regularization will do a rigorous feature selection, so this step is mostly to reduce the amount of data that it has to process."
   ]
  },
  {
   "cell_type": "code",
   "execution_count": 3,
   "metadata": {},
   "outputs": [
    {
     "name": "stdout",
     "output_type": "stream",
     "text": [
      "Aggregator Initiated.\n",
      "Processing Scraper Output...\n",
      "Scraper Output Processed.\n",
      "Aggregating Review Data...\n",
      "Review Data Aggregated.\n",
      "Merging Book Data...\n",
      "Book Data Merged.\n",
      "Applying Sparsity Filter...\n",
      "Dropped 0/37 columns. 37 columns remaining.\n"
     ]
    }
   ],
   "source": [
    "data_aggregator = ag.Aggregator(data_file_name_review, data_file_name_book, book_columns, start_date, end_date, \"month\")\n",
    "data_aggregator.aggregate(\"by_book\")\n",
    "data_aggregator.sparsity_filter(2)\n",
    "\n",
    "time_periods_post = data_aggregator.get_annual_time_periods(2020)\n",
    "data_train, data_test = data_aggregator.get_train_test_split(0.75)"
   ]
  },
  {
   "cell_type": "markdown",
   "metadata": {},
   "source": [
    "We want to iterate through: logorithmic transformation, regularization type, and alpha value. For the moment, I am turning logorithmic transformation off. It's pretty clear that it has no impact, and I don't want to keep running it while I experiment with other aspects of the modeling process."
   ]
  },
  {
   "cell_type": "code",
   "execution_count": 4,
   "metadata": {},
   "outputs": [],
   "source": [
    "alpha_list = [1]\n",
    "regression_types_list = [\"linear\"]\n",
    "is_log_options = [False] "
   ]
  },
  {
   "cell_type": "markdown",
   "metadata": {},
   "source": [
    "Here goes on modeling! We will select the best model for each time period based on MSE. The performance df captures the overall predictiveness of pre-period data on post-period data. We expect to see declines due to concept drift. Sharp dropoffs in performance might suggest larger changes in reading trends."
   ]
  },
  {
   "cell_type": "code",
   "execution_count": 5,
   "metadata": {},
   "outputs": [
    {
     "name": "stdout",
     "output_type": "stream",
     "text": [
      "9/9 models processed\n",
      "  post_period regression_type is_log alpha  mse_test  r2_train  r2_test\n",
      "0     2020-01          linear  False  None     5.165     0.868    0.631\n",
      "1     2020-02          linear  False  None     3.571     0.814    0.404\n",
      "2     2020-03          linear  False  None     4.417     0.796    0.375\n",
      "3     2020-04          linear  False  None     7.046     0.855    0.344\n",
      "4     2020-05          linear  False  None    10.738     0.825    0.298\n",
      "5     2020-06          linear  False  None    10.678     0.712    0.187\n",
      "6     2020-07          linear  False  None     9.711     0.777    0.227\n",
      "7     2020-08          linear  False  None     6.715     0.768    0.160\n",
      "8     2020-09          linear  False  None     6.552     0.763    0.102\n"
     ]
    }
   ],
   "source": [
    "regression_processor = mm.Regression_Processor(data_train, data_test, time_periods_post, regression_types_list, is_log_options, alpha_list)\n",
    "performance_df, model_dict = regression_processor.get_optimal_models()\n",
    "\n",
    "print(performance_df.round(3))"
   ]
  },
  {
   "cell_type": "markdown",
   "metadata": {},
   "source": [
    "This is where it's really at! Understanding what features are most important to each model can help us understand the drivers of reading in each period."
   ]
  },
  {
   "cell_type": "code",
   "execution_count": 6,
   "metadata": {},
   "outputs": [
    {
     "name": "stdout",
     "output_type": "stream",
     "text": [
      "                      review_count 2020-01\n",
      "feature_name                              \n",
      "review_count 2019-12              0.467270\n",
      "review_count 2019-11              0.176248\n",
      "review_count 2019-08              0.175389\n",
      "review_count 2019-07              0.158630\n",
      "review_count 2019-10              0.123344\n",
      "review_count 2019-09              0.122799\n",
      "review_count 2019-03              0.117979\n",
      "review_count 2018-05              0.104454\n",
      "review_count 2018-09              0.085444\n",
      "review_count 2018-04             -0.071652\n",
      "                      review_count 2020-02\n",
      "feature_name                              \n",
      "review_count 2019-12              0.235056\n",
      "review_count 2019-11              0.147960\n",
      "review_count 2019-08              0.107594\n",
      "review_count 2019-05              0.107436\n",
      "review_count 2019-10              0.106214\n",
      "review_count 2019-07              0.104251\n",
      "avg_rating                        0.063190\n",
      "review_count 2018-05              0.055687\n",
      "review_count 2018-09              0.051360\n",
      "review_count 2019-06              0.046484\n",
      "                      review_count 2020-03\n",
      "feature_name                              \n",
      "review_count 2019-12              0.225440\n",
      "review_count 2019-08              0.177115\n",
      "review_count 2019-11              0.176894\n",
      "review_count 2019-07              0.116414\n",
      "review_count 2019-09              0.112854\n",
      "avg_rating                        0.100515\n",
      "review_count 2019-03              0.080496\n",
      "review_count 2019-10              0.054547\n",
      "review_count 2019-04              0.047021\n",
      "review_count 2019-01              0.043119\n",
      "                      review_count 2020-04\n",
      "feature_name                              \n",
      "review_count 2019-12              0.334900\n",
      "review_count 2019-08              0.212216\n",
      "review_count 2019-09              0.159354\n",
      "review_count 2019-11              0.135801\n",
      "review_count 2019-03              0.109147\n",
      "review_count 2019-05              0.093992\n",
      "review_count 2019-10              0.089267\n",
      "avg_rating                        0.087943\n",
      "review_count 2018-09              0.074832\n",
      "review_count 2019-07              0.063274\n",
      "                      review_count 2020-05\n",
      "feature_name                              \n",
      "review_count 2019-12              0.307665\n",
      "review_count 2019-08              0.177588\n",
      "avg_rating                        0.147111\n",
      "review_count 2019-03              0.128154\n",
      "review_count 2019-11              0.118307\n",
      "review_count 2019-05              0.118003\n",
      "review_count 2019-10              0.098726\n",
      "review_count 2019-09              0.096767\n",
      "review_count 2019-07              0.084438\n",
      "review_count 2019-01              0.065386\n",
      "                      review_count 2020-06\n",
      "feature_name                              \n",
      "avg_rating                        0.438178\n",
      "review_count 2019-12              0.266115\n",
      "review_count 2019-10              0.139630\n",
      "review_count 2019-08              0.133557\n",
      "review_count 2019-03              0.116051\n",
      "review_count 2019-07              0.115781\n",
      "review_count 2019-01              0.095845\n",
      "review_count 2019-05              0.070957\n",
      "review_count 2018-07              0.068669\n",
      "review_count 2019-11              0.063543\n",
      "                      review_count 2020-07\n",
      "feature_name                              \n",
      "avg_rating                        0.307735\n",
      "review_count 2019-12              0.210214\n",
      "review_count 2019-08              0.121991\n",
      "review_count 2019-11              0.117153\n",
      "review_count 2019-07              0.104887\n",
      "review_count 2019-03              0.099680\n",
      "review_count 2019-10              0.085560\n",
      "review_count 2019-09              0.082200\n",
      "review_count 2019-05              0.073785\n",
      "review_count 2018-08              0.058563\n",
      "                      review_count 2020-08\n",
      "feature_name                              \n",
      "review_count 2019-12              0.222530\n",
      "avg_rating                        0.195755\n",
      "review_count 2019-08              0.116177\n",
      "review_count 2019-09              0.101404\n",
      "review_count 2019-10              0.099971\n",
      "review_count 2018-09              0.089780\n",
      "review_count 2019-01              0.077956\n",
      "review_count 2019-11              0.073597\n",
      "review_count 2019-07              0.071050\n",
      "review_count 2019-03              0.068381\n",
      "                      review_count 2020-09\n",
      "feature_name                              \n",
      "avg_rating                        0.213285\n",
      "review_count 2019-12              0.166866\n",
      "review_count 2019-11              0.146320\n",
      "review_count 2019-08              0.135146\n",
      "review_count 2019-09              0.111081\n",
      "review_count 2019-07              0.095451\n",
      "review_count 2019-03              0.051302\n",
      "review_count 2019-02              0.049802\n",
      "review_count 2019-05              0.048191\n",
      "review_count 2019-04              0.036466\n"
     ]
    }
   ],
   "source": [
    "coefficient_df = regression_processor.get_coefficient_df()\n",
    "coefficient_df = regression_processor.print_top_coefficients()"
   ]
  },
  {
   "cell_type": "markdown",
   "metadata": {},
   "source": [
    "I also want to understand the relative importance of each historical period. Even if it isn't the main driver, it should give some indication of whether trends are changing."
   ]
  },
  {
   "cell_type": "code",
   "execution_count": 7,
   "metadata": {},
   "outputs": [
    {
     "data": {
      "image/png": "[encoded data removed]",
      "text/plain": [
       "<Figure size 432x288 with 2 Axes>"
      ]
     },
     "metadata": {},
     "output_type": "display_data"
    }
   ],
   "source": [
    "pre_period_importance = regression_processor.get_pre_period_importance()"
   ]
  }
 ],
 "metadata": {
  "kernelspec": {
   "display_name": "Python 3",
   "language": "python",
   "name": "python3"
  },
  "language_info": {
   "codemirror_mode": {
    "name": "ipython",
    "version": 3
   },
   "file_extension": ".py",
   "mimetype": "text/x-python",
   "name": "python",
   "nbconvert_exporter": "python",
   "pygments_lexer": "ipython3",
   "version": "3.7.6"
  }
 },
 "nbformat": 4,
 "nbformat_minor": 4
}
