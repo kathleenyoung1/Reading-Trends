{
 "cells": [
  {
   "cell_type": "markdown",
   "metadata": {},
   "source": [
    "This process will take all the 2018-2019 periods as features and will use those to predict reviews for each 2020 period. Differences in the overall accuracy of each model as well as shifts in the importance of different features to the model may indicate COVID-related change."
   ]
  },
  {
   "cell_type": "code",
   "execution_count": 1,
   "metadata": {},
   "outputs": [],
   "source": [
    "import datetime\n",
    "import numpy as np\n",
    "import pandas as pd\n",
    "\n",
    "import aggregator as ag\n",
    "import monthly_modeler as mm"
   ]
  },
  {
   "cell_type": "code",
   "execution_count": 2,
   "metadata": {},
   "outputs": [],
   "source": [
    "#data_file_name_review = \"distributed_data_collection/databases/review_data_sample.csv\"\n",
    "#data_file_name_book = \"distributed_data_collection/databases/book_data_sample.csv\"\n",
    "\n",
    "data_file_name_review = \"distributed_data_collection/databases/review_data.csv\"\n",
    "data_file_name_book = \"distributed_data_collection/databases/book_data.csv\"\n",
    "\n",
    "start_date = datetime.datetime(2018, 1, 1)\n",
    "end_date = datetime.datetime(2020, 9, 30)\n",
    "\n",
    "book_columns = [\"num_reviews\", \"num_ratings\", \"avg_rating\"]"
   ]
  },
  {
   "cell_type": "markdown",
   "metadata": {},
   "source": [
    "Theoretically, we could test against multiple grains (ie, day, week, month, quarter). However, I am only working with month. I ruled out the quarterly grain because it wouldn't include enough 2020 time periods to observe a trend in model performance over time. Then because the maximum monthly review counts were in the seventies, I didn't feel I could split those further.\n",
    "\n",
    "I want to drop binary feature columns which have a small number of values. The linear regression regularization will do a rigorous feature selection, so this step is mostly to reduce the amount of data that it has to process."
   ]
  },
  {
   "cell_type": "code",
   "execution_count": 3,
   "metadata": {},
   "outputs": [
    {
     "name": "stdout",
     "output_type": "stream",
     "text": [
      "Aggregator Initiated.\n",
      "Processing Scraper Output...\n",
      "Scraper Output Processed.\n",
      "Aggregating Review Data...\n",
      "Review Data Aggregated.\n",
      "Merging Book Data...\n",
      "Book Data Merged.\n",
      "Applying Sparsity Filter...\n",
      "Dropped 0/37 columns. 37 columns remaining.\n"
     ]
    }
   ],
   "source": [
    "data_aggregator = ag.Aggregator(data_file_name_review, data_file_name_book, book_columns, start_date, end_date, \"month\")\n",
    "data_aggregator.aggregate(\"by_book\")\n",
    "data = data_aggregator.sparsity_filter(2)\n",
    "\n",
    "time_periods_post = data.aggregator.get_annual_time_periods(2020)"
   ]
  },
  {
   "cell_type": "markdown",
   "metadata": {},
   "source": [
    "I want to use the same test/train split for every time period, so I need to make the split before selecting which period will be the feature. "
   ]
  },
  {
   "cell_type": "code",
   "execution_count": 5,
   "metadata": {},
   "outputs": [],
   "source": [
    "perc_train = 0.75\n",
    "\n",
    "data = data.iloc[np.random.permutation(data.index)].reset_index(drop=True) #SHUFFLES DATA\n",
    "\n",
    "num_observations_total = len(data)\n",
    "num_observations_train = int(num_observations_total* perc_train)\n",
    "num_observations_test = num_observations_total - num_observations_train\n",
    "\n",
    "data_train = data.head(num_observations_train).reset_index(drop = True)\n",
    "data_test = data.tail(num_observations_test).reset_index(drop = True)"
   ]
  },
  {
   "cell_type": "markdown",
   "metadata": {},
   "source": [
    "We want to iterate through: logorithmic transformation, regularization type, and alpha value. For the moment, I am turning logorithmic transformation off. It's pretty clear that it has no impact, and I don't want to keep running it while I experiment with other aspects of the modeling process."
   ]
  },
  {
   "cell_type": "code",
   "execution_count": 6,
   "metadata": {},
   "outputs": [],
   "source": [
    "alpha_list = [1]\n",
    "regression_types_list = [\"linear\"]\n",
    "is_log_options = [False] "
   ]
  },
  {
   "cell_type": "markdown",
   "metadata": {},
   "source": [
    "Here goes on modeling! We will select the best model for each time period based on MSE. The performance df captures the overall predictiveness of pre-period data on post-period data. We expect to see declines due to concept drift. Sharp dropoffs in performance might suggest larger changes in reading trends."
   ]
  },
  {
   "cell_type": "code",
   "execution_count": 7,
   "metadata": {},
   "outputs": [
    {
     "name": "stdout",
     "output_type": "stream",
     "text": [
      "9/9 models processed\n",
      "  post_period regression_type is_log alpha  mse_test  r2_train  r2_test\n",
      "0     2020-01          linear  False  None     2.502     0.817    0.779\n",
      "1     2020-02          linear  False  None     1.576     0.714    0.689\n",
      "2     2020-03          linear  False  None     2.141     0.700    0.641\n",
      "3     2020-04          linear  False  None     3.250     0.757    0.673\n",
      "4     2020-05          linear  False  None     4.166     0.671    0.624\n",
      "5     2020-06          linear  False  None     4.775     0.567    0.507\n",
      "6     2020-07          linear  False  None     3.777     0.597    0.543\n",
      "7     2020-08          linear  False  None     2.878     0.603    0.512\n",
      "8     2020-09          linear  False  None     2.228     0.560    0.512\n"
     ]
    }
   ],
   "source": [
    "regression_processor = mm.Regression_Processor(data_train, data_test, time_periods_post, regression_types_list, is_log_options, alpha_list)\n",
    "performance_df, model_dict = regression_processor.get_optimal_models()\n",
    "\n",
    "print(performance_df.round(3))"
   ]
  },
  {
   "cell_type": "markdown",
   "metadata": {},
   "source": [
    "This is where it's really at! Understanding what features are most important to each model can help us understand the drivers of reading in each period."
   ]
  },
  {
   "cell_type": "code",
   "execution_count": 8,
   "metadata": {},
   "outputs": [
    {
     "name": "stdout",
     "output_type": "stream",
     "text": [
      "                      review_count 2020-01\n",
      "feature_name                              \n",
      "review_count 2019-12              0.520259\n",
      "review_count 2019-10              0.208168\n",
      "review_count 2019-11              0.185559\n",
      "review_count 2019-07              0.118826\n",
      "review_count 2018-05              0.114742\n",
      "review_count 2019-08              0.109335\n",
      "review_count 2019-03              0.099946\n",
      "avg_rating                        0.090301\n",
      "review_count 2018-09              0.086647\n",
      "review_count 2018-06             -0.079076\n",
      "                      review_count 2020-02\n",
      "feature_name                              \n",
      "review_count 2019-12              0.271018\n",
      "review_count 2019-11              0.132760\n",
      "review_count 2019-10              0.122613\n",
      "avg_rating                        0.096777\n",
      "review_count 2019-07              0.075651\n",
      "review_count 2019-05              0.063923\n",
      "review_count 2018-05              0.056518\n",
      "review_count 2019-08              0.056272\n",
      "review_count 2019-09              0.043968\n",
      "review_count 2018-09              0.040729\n",
      "                      review_count 2020-03\n",
      "feature_name                              \n",
      "review_count 2019-12              0.257615\n",
      "avg_rating                        0.155134\n",
      "review_count 2019-07              0.109892\n",
      "review_count 2019-11              0.108608\n",
      "review_count 2019-08              0.079915\n",
      "review_count 2019-10              0.075250\n",
      "review_count 2019-05              0.066350\n",
      "review_count 2019-09              0.058327\n",
      "review_count 2019-03              0.055517\n",
      "review_count 2018-06             -0.054277\n",
      "                      review_count 2020-04\n",
      "feature_name                              \n",
      "review_count 2019-12              0.327286\n",
      "avg_rating                        0.179897\n",
      "review_count 2019-08              0.111564\n",
      "review_count 2019-05              0.105007\n",
      "review_count 2018-01              0.099106\n",
      "review_count 2019-10              0.096898\n",
      "review_count 2019-11              0.091367\n",
      "review_count 2018-09              0.088490\n",
      "review_count 2019-07              0.081732\n",
      "review_count 2019-04              0.076639\n",
      "                      review_count 2020-05\n",
      "feature_name                              \n",
      "review_count 2019-12              0.304924\n",
      "avg_rating                        0.227269\n",
      "review_count 2019-07              0.126712\n",
      "review_count 2019-05              0.107511\n",
      "review_count 2019-08              0.107488\n",
      "review_count 2019-10              0.106458\n",
      "review_count 2019-11              0.096804\n",
      "review_count 2018-08              0.086050\n",
      "review_count 2019-02              0.078627\n",
      "review_count 2019-01              0.069964\n",
      "                      review_count 2020-06\n",
      "feature_name                              \n",
      "avg_rating                        0.546534\n",
      "review_count 2019-12              0.291672\n",
      "review_count 2019-10              0.108318\n",
      "review_count 2019-07              0.105882\n",
      "review_count 2018-01              0.087387\n",
      "review_count 2019-03              0.081719\n",
      "review_count 2018-07              0.081048\n",
      "review_count 2019-05              0.073745\n",
      "review_count 2019-01              0.068699\n",
      "review_count 2019-06              0.063939\n",
      "                      review_count 2020-07\n",
      "feature_name                              \n",
      "avg_rating                        0.446379\n",
      "review_count 2019-12              0.243726\n",
      "review_count 2019-07              0.114727\n",
      "review_count 2019-11              0.093877\n",
      "review_count 2019-10              0.090676\n",
      "review_count 2019-05              0.087886\n",
      "review_count 2019-08              0.082045\n",
      "review_count 2018-08              0.071998\n",
      "review_count 2018-11             -0.067484\n",
      "review_count 2019-09              0.064802\n",
      "                      review_count 2020-08\n",
      "feature_name                              \n",
      "avg_rating                        0.348055\n",
      "review_count 2019-12              0.213411\n",
      "review_count 2018-09              0.095505\n",
      "review_count 2019-08              0.077000\n",
      "review_count 2019-05              0.076340\n",
      "review_count 2019-10              0.073047\n",
      "review_count 2019-07              0.064990\n",
      "review_count 2019-01              0.059743\n",
      "review_count 2019-09              0.059234\n",
      "review_count 2018-07              0.055078\n",
      "                      review_count 2020-09\n",
      "feature_name                              \n",
      "avg_rating                        0.434850\n",
      "review_count 2019-12              0.177368\n",
      "review_count 2019-07              0.094214\n",
      "review_count 2019-05              0.082027\n",
      "review_count 2019-08              0.072497\n",
      "review_count 2019-02              0.065613\n",
      "review_count 2019-09              0.058157\n",
      "review_count 2019-11              0.051676\n",
      "review_count 2019-04              0.050607\n",
      "review_count 2019-03              0.049362\n"
     ]
    }
   ],
   "source": [
    "coefficient_df = regression_processor.get_coefficient_df()\n",
    "coefficient_df = regression_processor.print_top_coefficients()"
   ]
  },
  {
   "cell_type": "markdown",
   "metadata": {},
   "source": [
    "I also want to understand the relative importance of each historical period. Even if it isn't the main driver, it should give some indication of whether trends are changing."
   ]
  },
  {
   "cell_type": "code",
   "execution_count": 9,
   "metadata": {},
   "outputs": [
    {
     "data": {
      "image/png": "[encoded data removed]",
      "text/plain": [
       "<Figure size 432x288 with 2 Axes>"
      ]
     },
     "metadata": {},
     "output_type": "display_data"
    }
   ],
   "source": [
    "pre_period_importance = regression_processor.get_pre_period_importance()"
   ]
  }
 ],
 "metadata": {
  "kernelspec": {
   "display_name": "Python 3",
   "language": "python",
   "name": "python3"
  },
  "language_info": {
   "codemirror_mode": {
    "name": "ipython",
    "version": 3
   },
   "file_extension": ".py",
   "mimetype": "text/x-python",
   "name": "python",
   "nbconvert_exporter": "python",
   "pygments_lexer": "ipython3",
   "version": "3.7.6"
  }
 },
 "nbformat": 4,
 "nbformat_minor": 4
}
