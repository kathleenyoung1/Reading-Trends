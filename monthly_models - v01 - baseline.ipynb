{
 "cells": [
  {
   "cell_type": "code",
   "execution_count": 1,
   "metadata": {},
   "outputs": [],
   "source": [
    "import datetime\n",
    "import numpy as np\n",
    "import pandas as pd\n",
    "\n",
    "import aggregator as ag\n",
    "import monthly_modeler as mm"
   ]
  },
  {
   "cell_type": "code",
   "execution_count": 2,
   "metadata": {},
   "outputs": [],
   "source": [
    "#data_file_name_review = \"distributed_data_collection/databases/review_data_sample.csv\"\n",
    "#data_file_name_book = \"distributed_data_collection/databases/book_data_sample.csv\"\n",
    "\n",
    "data_file_name_review = \"distributed_data_collection/databases/review_data.csv\"\n",
    "data_file_name_book = \"distributed_data_collection/databases/book_data.csv\"\n",
    "\n",
    "start_date = datetime.datetime(2018, 1, 1)\n",
    "end_date = datetime.datetime(2020, 11, 29)\n",
    "\n",
    "book_columns = [\"num_reviews\", \"num_ratings\", \"avg_rating\"]"
   ]
  },
  {
   "cell_type": "markdown",
   "metadata": {},
   "source": [
    "Theoretically, we could test against multiple grains (ie, day, week, month, quarter). However, I am only working with month. I ruled out the quarterly grain because it wouldn't include enough 2020 time periods to observe a trend in model performance over time. Then because the maximum monthly review counts were in the seventies, I didn't feel I could split those further."
   ]
  },
  {
   "cell_type": "code",
   "execution_count": 3,
   "metadata": {},
   "outputs": [
    {
     "name": "stdout",
     "output_type": "stream",
     "text": [
      "Aggregator Initiated.\n",
      "Processing Scraper Output...\n",
      "Scraper Output Processed.\n",
      "Aggregating Review Data...\n",
      "Review Data Aggregated.\n",
      "Merging Book Data...\n",
      "Book Data Merged.\n"
     ]
    }
   ],
   "source": [
    "data_aggregator = ag.Aggregator(data_file_name_review, data_file_name_book, book_columns, start_date, end_date, \"month\")\n",
    "data = data_aggregator.aggregate(\"by_book\")"
   ]
  },
  {
   "cell_type": "markdown",
   "metadata": {},
   "source": [
    "I want to drop binary feature columns which have a small number of values. The linear regression regularization will do a rigorous feature selection, so this step is mostly to reduce the amount of data that it has to process."
   ]
  },
  {
   "cell_type": "code",
   "execution_count": 4,
   "metadata": {},
   "outputs": [
    {
     "name": "stdout",
     "output_type": "stream",
     "text": [
      "Dropped 0/39 columns. 39 columns remaining.\n"
     ]
    }
   ],
   "source": [
    "data = mm.sparsity_filter(data, 2)"
   ]
  },
  {
   "cell_type": "markdown",
   "metadata": {},
   "source": [
    "This process will take all the 2018-2019 periods as features and will use those to predict reviews for each 2020 period. Differences in the overall accuracy of each model as well as shifts in the importance of different features to the model may indicate COVID-related change."
   ]
  },
  {
   "cell_type": "code",
   "execution_count": 5,
   "metadata": {},
   "outputs": [],
   "source": [
    "time_periods_post = []\n",
    "\n",
    "for col in data.columns:\n",
    "    if \"review_count\" in col:\n",
    "        if \"2020\" in col:\n",
    "            time_periods_post.append(col)"
   ]
  },
  {
   "cell_type": "markdown",
   "metadata": {},
   "source": [
    "I want to use the same test/train split for every time period, so I need to make the split before selecting which period will be the feature. "
   ]
  },
  {
   "cell_type": "code",
   "execution_count": 6,
   "metadata": {},
   "outputs": [],
   "source": [
    "perc_train = 0.75\n",
    "\n",
    "data = data.iloc[np.random.permutation(data.index)].reset_index(drop=True) #SHUFFLES DATA\n",
    "\n",
    "num_observations_total = len(data)\n",
    "num_observations_train = int(num_observations_total* perc_train)\n",
    "num_observations_test = num_observations_total - num_observations_train\n",
    "\n",
    "data_train = data.head(num_observations_train).reset_index(drop = True)\n",
    "data_test = data.tail(num_observations_test).reset_index(drop = True)"
   ]
  },
  {
   "cell_type": "markdown",
   "metadata": {},
   "source": [
    "We want to iterate through: logorithmic transformation, regularization type, and alpha value. For the moment, I am turning logorithmic transformation off. It's pretty clear that it has no impact, and I don't want to keep running it while I experiment with other aspects of the modeling process."
   ]
  },
  {
   "cell_type": "code",
   "execution_count": 7,
   "metadata": {},
   "outputs": [],
   "source": [
    "alpha_list = [1]\n",
    "regression_types_list = [\"linear\"]\n",
    "is_log_options = [False] "
   ]
  },
  {
   "cell_type": "markdown",
   "metadata": {},
   "source": [
    "Here goes on modeling! We will select the best model for each time period based on MSE. The performance df captures the overall predictiveness of pre-period data on post-period data. We expect to see declines due to concept drift. Sharp dropoffs in performance might suggest larger changes in reading trends."
   ]
  },
  {
   "cell_type": "code",
   "execution_count": 8,
   "metadata": {},
   "outputs": [
    {
     "name": "stdout",
     "output_type": "stream",
     "text": [
      "10/11 models processed\n",
      "11/11 models processed\n",
      "   post_period regression_type is_log alpha  mse_test  r2_train  r2_test\n",
      "0      2020-01          linear  False  None     2.935     0.825    0.756\n",
      "1      2020-02          linear  False  None     1.870     0.736    0.606\n",
      "2      2020-03          linear  False  None     2.233     0.706    0.619\n",
      "3      2020-04          linear  False  None     2.797     0.749    0.698\n",
      "4      2020-05          linear  False  None     4.450     0.681    0.595\n",
      "5      2020-06          linear  False  None     5.093     0.577    0.475\n",
      "6      2020-07          linear  False  None     3.084     0.593    0.548\n",
      "7      2020-08          linear  False  None     2.078     0.583    0.577\n",
      "8      2020-09          linear  False  None     2.007     0.552    0.544\n",
      "9      2020-10          linear  False  None     1.327     0.496    0.406\n",
      "10     2020-11          linear  False  None     0.021     0.052    0.026\n"
     ]
    }
   ],
   "source": [
    "regression_processor = mm.Regression_Processor(data_train, data_test, time_periods_post, regression_types_list, is_log_options, alpha_list)\n",
    "performance_df, model_dict = regression_processor.get_optimal_models()\n",
    "\n",
    "print(performance_df.round(3))"
   ]
  },
  {
   "cell_type": "markdown",
   "metadata": {},
   "source": [
    "This is where it's really at! Understanding what features are most important to each model can help us understand the drivers of reading in each period."
   ]
  },
  {
   "cell_type": "code",
   "execution_count": 9,
   "metadata": {},
   "outputs": [
    {
     "name": "stdout",
     "output_type": "stream",
     "text": [
      "                      review_count 2020-01\n",
      "feature_name                              \n",
      "review_count 2019-12              0.504065\n",
      "review_count 2019-11              0.217566\n",
      "review_count 2019-08              0.172817\n",
      "review_count 2019-10              0.156594\n",
      "review_count 2019-07              0.111444\n",
      "review_count 2018-05              0.100391\n",
      "review_count 2019-03              0.085956\n",
      "review_count 2018-11             -0.081760\n",
      "review_count 2018-04             -0.080670\n",
      "review_count 2019-09              0.068203\n",
      "                      review_count 2020-02\n",
      "feature_name                              \n",
      "review_count 2019-12              0.262732\n",
      "review_count 2019-11              0.144524\n",
      "review_count 2019-10              0.135317\n",
      "avg_rating                        0.107038\n",
      "review_count 2019-08              0.098674\n",
      "review_count 2019-05              0.096569\n",
      "review_count 2019-07              0.075942\n",
      "review_count 2019-06              0.051678\n",
      "review_count 2018-05              0.050669\n",
      "review_count 2018-09              0.047471\n",
      "                      review_count 2020-03\n",
      "feature_name                              \n",
      "review_count 2019-12              0.265497\n",
      "review_count 2019-08              0.136647\n",
      "review_count 2019-07              0.123799\n",
      "review_count 2019-11              0.108120\n",
      "avg_rating                        0.107796\n",
      "review_count 2019-09              0.055446\n",
      "review_count 2019-10              0.049872\n",
      "review_count 2019-06              0.047395\n",
      "review_count 2019-03              0.047067\n",
      "review_count 2019-05              0.045539\n",
      "                      review_count 2020-04\n",
      "feature_name                              \n",
      "review_count 2019-12              0.344096\n",
      "review_count 2019-08              0.202698\n",
      "avg_rating                        0.201282\n",
      "review_count 2019-05              0.108978\n",
      "review_count 2019-07              0.093516\n",
      "review_count 2019-09              0.083365\n",
      "review_count 2019-11              0.082490\n",
      "review_count 2019-04              0.069716\n",
      "review_count 2019-06              0.069086\n",
      "review_count 2018-09              0.067143\n",
      "                      review_count 2020-05\n",
      "feature_name                              \n",
      "review_count 2019-12              0.306878\n",
      "avg_rating                        0.221790\n",
      "review_count 2019-08              0.177508\n",
      "review_count 2019-07              0.156029\n",
      "review_count 2019-05              0.104506\n",
      "review_count 2019-11              0.094976\n",
      "review_count 2018-08              0.089558\n",
      "review_count 2019-09              0.067518\n",
      "review_count 2019-01              0.067426\n",
      "review_count 2019-02              0.067392\n",
      "                      review_count 2020-06\n",
      "feature_name                              \n",
      "avg_rating                        0.530110\n",
      "review_count 2019-12              0.316185\n",
      "review_count 2019-08              0.133389\n",
      "review_count 2019-07              0.121013\n",
      "review_count 2018-07              0.094965\n",
      "review_count 2019-10              0.085520\n",
      "review_count 2019-01              0.077184\n",
      "review_count 2019-05              0.075016\n",
      "review_count 2018-03              0.068943\n",
      "review_count 2018-01              0.064905\n",
      "                      review_count 2020-07\n",
      "feature_name                              \n",
      "avg_rating                        0.388894\n",
      "review_count 2019-12              0.252432\n",
      "review_count 2019-08              0.137431\n",
      "review_count 2019-07              0.124800\n",
      "review_count 2018-08              0.087723\n",
      "review_count 2019-10              0.082812\n",
      "review_count 2019-11              0.064299\n",
      "review_count 2018-11             -0.062139\n",
      "review_count 2019-06              0.057492\n",
      "review_count 2019-02              0.052907\n",
      "                      review_count 2020-08\n",
      "feature_name                              \n",
      "avg_rating                        0.365709\n",
      "review_count 2019-12              0.221490\n",
      "review_count 2019-08              0.127234\n",
      "review_count 2019-07              0.092814\n",
      "review_count 2019-01              0.082791\n",
      "review_count 2018-07              0.076155\n",
      "review_count 2018-09              0.075734\n",
      "review_count 2019-10              0.069904\n",
      "review_count 2018-03              0.056733\n",
      "review_count 2019-06              0.053441\n",
      "                      review_count 2020-09\n",
      "feature_name                              \n",
      "avg_rating                        0.400603\n",
      "review_count 2019-12              0.194302\n",
      "review_count 2019-07              0.109103\n",
      "review_count 2019-08              0.106915\n",
      "review_count 2019-02              0.074416\n",
      "review_count 2019-04              0.048727\n",
      "review_count 2018-01              0.045481\n",
      "review_count 2019-05              0.040613\n",
      "review_count 2019-01              0.036584\n",
      "review_count 2019-09              0.033402\n",
      "                      review_count 2020-10\n",
      "feature_name                              \n",
      "avg_rating                        0.251129\n",
      "review_count 2019-12              0.121964\n",
      "review_count 2019-08              0.078405\n",
      "review_count 2019-02              0.059096\n",
      "review_count 2019-10              0.057727\n",
      "review_count 2019-04              0.052004\n",
      "review_count 2019-07              0.051730\n",
      "review_count 2019-01              0.043998\n",
      "review_count 2018-10              0.038524\n",
      "review_count 2018-09              0.032993\n",
      "                      review_count 2020-11\n",
      "feature_name                              \n",
      "avg_rating                        0.011076\n",
      "review_count 2019-07              0.005658\n",
      "review_count 2019-11              0.004486\n",
      "review_count 2019-05             -0.004152\n",
      "review_count 2018-11             -0.003506\n",
      "review_count 2019-09              0.003314\n",
      "review_count 2018-01              0.003277\n",
      "review_count 2018-02             -0.003120\n",
      "review_count 2019-10              0.003070\n",
      "review_count 2019-08             -0.003022\n"
     ]
    }
   ],
   "source": [
    "coefficient_df = regression_processor.get_coefficient_df()\n",
    "coefficient_df = regression_processor.print_top_coefficients()"
   ]
  },
  {
   "cell_type": "markdown",
   "metadata": {},
   "source": [
    "I also want to understand the relative importance of each historical period. Even if it isn't the main driver, it should give some indication of whether trends are changing."
   ]
  },
  {
   "cell_type": "code",
   "execution_count": 10,
   "metadata": {},
   "outputs": [
    {
     "data": {
      "image/png": "[encoded data removed]",
      "text/plain": [
       "<Figure size 432x288 with 2 Axes>"
      ]
     },
     "metadata": {},
     "output_type": "display_data"
    }
   ],
   "source": [
    "pre_period_importance = regression_processor.get_pre_period_importance()"
   ]
  }
 ],
 "metadata": {
  "kernelspec": {
   "display_name": "Python 3",
   "language": "python",
   "name": "python3"
  },
  "language_info": {
   "codemirror_mode": {
    "name": "ipython",
    "version": 3
   },
   "file_extension": ".py",
   "mimetype": "text/x-python",
   "name": "python",
   "nbconvert_exporter": "python",
   "pygments_lexer": "ipython3",
   "version": "3.7.6"
  }
 },
 "nbformat": 4,
 "nbformat_minor": 4
}
