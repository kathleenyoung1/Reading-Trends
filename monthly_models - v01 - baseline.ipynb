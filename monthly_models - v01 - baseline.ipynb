{
 "cells": [
  {
   "cell_type": "code",
   "execution_count": 1,
   "metadata": {},
   "outputs": [],
   "source": [
    "import datetime\n",
    "import itertools\n",
    "import matplotlib.pyplot as plt\n",
    "import numpy as np\n",
    "import seaborn as sns\n",
    "import pandas as pd\n",
    "\n",
    "from sklearn.model_selection import train_test_split\n",
    "from sklearn import metrics\n",
    "from sklearn.linear_model import LinearRegression, Ridge, Lasso\n",
    "\n",
    "import aggregator as ag"
   ]
  },
  {
   "cell_type": "code",
   "execution_count": 2,
   "metadata": {},
   "outputs": [],
   "source": [
    "#data_file_name_review = \"distributed_data_collection/databases/review_data_sample.csv\"\n",
    "#data_file_name_book = \"distributed_data_collection/databases/book_data_sample.csv\"\n",
    "\n",
    "data_file_name_review = \"distributed_data_collection/databases/review_data.csv\"\n",
    "data_file_name_book = \"distributed_data_collection/databases/book_data.csv\"\n",
    "\n",
    "start_date = datetime.datetime(2018, 1, 1)\n",
    "end_date = datetime.datetime(2020, 11, 29)\n",
    "\n",
    "book_columns = [\"num_reviews\", \"num_ratings\", \"avg_rating\"] ##THIS IS BASELINE\n",
    "#book_columns = [\"num_reviews\", \"num_ratings\", \"avg_rating\", \"book_language\", \"series\", \"book_author\"]"
   ]
  },
  {
   "cell_type": "markdown",
   "metadata": {},
   "source": [
    "Theoretically, we could test against multiple grains (ie, day, week, month, quarter). However, I am only working with month. I ruled out the quarterly grain because it wouldn't include enough 2020 time periods to observe a trend in model performance over time. Then because the maximum monthly review counts were in the seventies, I didn't feel I could split those further."
   ]
  },
  {
   "cell_type": "code",
   "execution_count": 3,
   "metadata": {},
   "outputs": [
    {
     "name": "stdout",
     "output_type": "stream",
     "text": [
      "Aggregator Initiated.\n",
      "Processing Scraper Output...\n",
      "Scraper Output Processed.\n",
      "Aggregating Review Data...\n",
      "Review Data Aggregated.\n",
      "Merging Book Data...\n",
      "Book Data Merged.\n"
     ]
    }
   ],
   "source": [
    "data_aggregator = ag.Aggregator(data_file_name_review, data_file_name_book, book_columns, start_date, end_date, \"month\")\n",
    "data = data_aggregator.aggregate(\"by_book\")"
   ]
  },
  {
   "cell_type": "markdown",
   "metadata": {},
   "source": [
    "I want to drop binary feature columns which have a small number of values. The linear regression regularization will do a rigorous feature selection, so this step is mostly to reduce the amount of data that it has to process."
   ]
  },
  {
   "cell_type": "code",
   "execution_count": 4,
   "metadata": {},
   "outputs": [],
   "source": [
    "columns_dropped = []\n",
    "k = 2\n",
    "\n",
    "for col in data.columns:\n",
    "    \n",
    "    num_values = data[col].nunique()\n",
    "    \n",
    "    if num_values == 1:\n",
    "        columns_dropped.append(col)\n",
    "        \n",
    "    elif num_values == 2:\n",
    "        if data[col].sum() <=2:\n",
    "            columns_dropped.append(col)\n",
    "            \n",
    "for col in columns_dropped:\n",
    "    data.drop(columns = col, inplace = True)"
   ]
  },
  {
   "cell_type": "markdown",
   "metadata": {},
   "source": [
    "I want to get a sense of how many features got dropped. I assume a ton!"
   ]
  },
  {
   "cell_type": "code",
   "execution_count": 5,
   "metadata": {},
   "outputs": [
    {
     "name": "stdout",
     "output_type": "stream",
     "text": [
      "0 columns dropped, 39 columns remaining\n"
     ]
    }
   ],
   "source": [
    "num_col_dropped = len(columns_dropped)\n",
    "num_col_remaining = len(data.columns)\n",
    "\n",
    "print(\"{} columns dropped, {} columns remaining\".format(num_col_dropped, num_col_remaining))\n",
    "\n",
    "#print(columns_dropped)"
   ]
  },
  {
   "cell_type": "markdown",
   "metadata": {},
   "source": [
    "This process will take all the 2018-2019 periods as features and will use those to predict reviews for each 2020 period. Differences in the overall accuracy of each model as well as shifts in the importance of different features to the model may indicate COVID-related change."
   ]
  },
  {
   "cell_type": "code",
   "execution_count": 6,
   "metadata": {},
   "outputs": [],
   "source": [
    "time_periods_post = []\n",
    "\n",
    "for col in data.columns:\n",
    "    if \"review_count\" in col:\n",
    "        if \"2020\" in col:\n",
    "            time_periods_post.append(col)"
   ]
  },
  {
   "cell_type": "markdown",
   "metadata": {},
   "source": [
    "I want to use the same test/train split for every time period, so I need to make the split before selecting which period will be the feature. "
   ]
  },
  {
   "cell_type": "code",
   "execution_count": 7,
   "metadata": {},
   "outputs": [],
   "source": [
    "perc_train = 0.75\n",
    "\n",
    "data = data.iloc[np.random.permutation(data.index)].reset_index(drop=True) #SHUFFLES DATA\n",
    "\n",
    "num_observations_total = len(data)\n",
    "num_observations_train = int(num_observations_total* perc_train)\n",
    "num_observations_test = num_observations_total - num_observations_train\n",
    "\n",
    "data_train = data.head(num_observations_train).reset_index(drop = True)\n",
    "data_test = data.tail(num_observations_test).reset_index(drop = True)"
   ]
  },
  {
   "cell_type": "markdown",
   "metadata": {},
   "source": [
    "We want to iterate through: logorithmic transformation, regularization type, and alpha value. For the moment, I am turning logorithmic transformation off. It's pretty clear that it has no impact, and I don't want to keep running it while I experiment with other aspects of the modeling process."
   ]
  },
  {
   "cell_type": "code",
   "execution_count": 12,
   "metadata": {},
   "outputs": [],
   "source": [
    "#alpha_list = list(range(1,11))\n",
    "alpha_list = [1]\n",
    "#regression_types_list = [\"linear\", \"ridge\", \"lasso\"]\n",
    "regression_types_list = [\"linear\"]\n",
    "\n",
    "#is_log_options = [False, True]\n",
    "is_log_options = [False] "
   ]
  },
  {
   "cell_type": "markdown",
   "metadata": {},
   "source": [
    "Here goes on modeling! We will select the best model for each time period based on MSE."
   ]
  },
  {
   "cell_type": "code",
   "execution_count": 13,
   "metadata": {},
   "outputs": [
    {
     "name": "stdout",
     "output_type": "stream",
     "text": [
      "10/11 models processed\n",
      "11/11 models processed\n"
     ]
    }
   ],
   "source": [
    "#JUST FOR PROGRESS PRINTING\n",
    "\n",
    "num_models = len(regression_types_list)\n",
    "num_periods = len(time_periods_post)\n",
    "num_is_log_options = len(is_log_options)\n",
    "num_alphas = len(alpha_list)\n",
    "\n",
    "num_models_total = (num_periods * num_is_log_options) * ( (num_alphas * (num_models - 1)) + 1)\n",
    "num_models_complete = 0\n",
    "model_dict = {}\n",
    "\n",
    "#ACTUAL MODELING\n",
    "performance_df = pd.DataFrame(columns = [\"post_period\", \"regression_type\", \"is_log\", \"alpha\", \"mse_test\", \"r2_train\", \"r2_test\"])\n",
    "\n",
    "for i in range(len(time_periods_post)): #ITERATE OVER EACH PERIOD IN THE POST PERIOD\n",
    "    \n",
    "    label = time_periods_post[i]\n",
    "    \n",
    "    data_train_period = data_train.copy()\n",
    "    data_test_period = data_test.copy()\n",
    "    \n",
    "    #REMOVE OTHER POST-PERIODS FROM DATA \n",
    "    \n",
    "    for post_period in time_periods_post:\n",
    "\n",
    "        if post_period != label:\n",
    "            data_train_period.drop(columns = post_period, inplace = True)\n",
    "            data_test_period.drop(columns = post_period, inplace = True)\n",
    "                   \n",
    "    #CREATE TRAINING & TESTING DATA SPECIFIC TO THAT PERIOD \n",
    "\n",
    "    x_train, y_train = data_train_period.drop(label,1), data_train_period[label]\n",
    "    x_test, y_test = data_test_period.drop(label,1), data_test_period[label]\n",
    "        \n",
    "    optimal_model = None\n",
    "    optimal_regression_type = None\n",
    "    optimal_mse_test = None\n",
    "    optimal_is_log = None\n",
    "    optimal_alpha = None\n",
    "    is_none = True\n",
    "    \n",
    "    for regression_type in regression_types_list:\n",
    "        for is_log in is_log_options:\n",
    "            for alpha_val in alpha_list:\n",
    "                \n",
    "                if regression_type == \"linear\":\n",
    "                    model = LinearRegression(normalize = True)\n",
    "                    \n",
    "                if regression_type == \"ridge\":\n",
    "                    model = Ridge(normalize = True, alpha = alpha_val) \n",
    "                    \n",
    "                if regression_type == \"lasso\":\n",
    "                    model = Lasso(normalize = True, alpha = alpha_val)\n",
    "            \n",
    "                model.fit(x_train, y_train)\n",
    "                mse_test = metrics.mean_squared_error(y_test, model.predict(x_test))\n",
    "\n",
    "                if is_none:\n",
    "                    optimal_model = model\n",
    "                    optimal_mse_test = mse_test\n",
    "                    optimal_regression_type = regression_type\n",
    "                    optimal_is_log = is_log\n",
    "                    \n",
    "                    if regression_type == \"linear\":\n",
    "                        alpha_val = None\n",
    "                    \n",
    "                    optimal_alpha = alpha_val\n",
    "\n",
    "                    is_none = False\n",
    "\n",
    "                elif mse_test < optimal_mse_test:\n",
    "\n",
    "                    optimal_model = model\n",
    "                    optimal_mse_test = mse_test\n",
    "                    optimal_regression_type = regression_type\n",
    "                    optimal_is_log = is_log\n",
    "                    \n",
    "                    if regression_type == \"linear\":\n",
    "                        alpha_val = None\n",
    "                    \n",
    "                    optimal_alpha = alpha_val\n",
    "\n",
    "                #PRINT UPDATES\n",
    "\n",
    "                num_models_complete +=1\n",
    "\n",
    "                if (num_models_complete % 10 == 0) or (num_models_complete == num_models_total):\n",
    "                    print(\"{}/{} models processed\".format(num_models_complete, num_models_total))\n",
    "                    \n",
    "                if regression_type == \"linear\":\n",
    "                    break\n",
    "                \n",
    "    #GET METRICS FOR WINNING MODEL\n",
    "    \n",
    "    #mse_train = metrics.mean_squared_error(y_train, optimal_model.predict(x_train))\n",
    "    mse_test = metrics.mean_squared_error(y_test, optimal_model.predict(x_test))\n",
    "\n",
    "    r2_train = metrics.r2_score(y_train, optimal_model.predict(x_train))\n",
    "    r2_test = metrics.r2_score(y_test, optimal_model.predict(x_test))\n",
    "        \n",
    "    metric_dict = {\"post_period\": label, \"regression_type\": optimal_regression_type, \"is_log\": optimal_is_log, \"alpha\": optimal_alpha, \"mse_test\": mse_test, \"r2_train\": r2_train, \"r2_test\": r2_test}\n",
    "    performance_df = performance_df.append(metric_dict, ignore_index=True)\n",
    "    model_dict[label] = optimal_model"
   ]
  },
  {
   "cell_type": "markdown",
   "metadata": {},
   "source": [
    "The performance df captures the overall predictiveness of pre-period data on post-period data. We expect to see declines due to concept drift. Sharp dropoffs in performance might suggest larger changes in reading trends."
   ]
  },
  {
   "cell_type": "code",
   "execution_count": 14,
   "metadata": {},
   "outputs": [
    {
     "name": "stdout",
     "output_type": "stream",
     "text": [
      "   post_period regression_type is_log alpha  mse_test  r2_train  r2_test\n",
      "0      2020-01          linear  False  None     2.686     0.801    0.828\n",
      "1      2020-02          linear  False  None     1.479     0.694    0.747\n",
      "2      2020-03          linear  False  None     2.095     0.673    0.717\n",
      "3      2020-04          linear  False  None     3.056     0.722    0.773\n",
      "4      2020-05          linear  False  None     4.203     0.646    0.692\n",
      "5      2020-06          linear  False  None     3.779     0.521    0.645\n",
      "6      2020-07          linear  False  None     3.775     0.567    0.623\n",
      "7      2020-08          linear  False  None     3.144     0.574    0.595\n",
      "8      2020-09          linear  False  None     2.311     0.532    0.595\n",
      "9      2020-10          linear  False  None     1.137     0.456    0.558\n",
      "10     2020-11          linear  False  None     0.019     0.060    0.006\n"
     ]
    }
   ],
   "source": [
    "performance_df[\"post_period\"] = performance_df[\"post_period\"].apply(lambda text: text.replace(\"review_count \", \"\"))\n",
    "print(performance_df.round(3))"
   ]
  },
  {
   "cell_type": "markdown",
   "metadata": {},
   "source": [
    "This is where it's really at! Understanding what features are most important to each model can help us understand the drivers of reading in each period."
   ]
  },
  {
   "cell_type": "code",
   "execution_count": 15,
   "metadata": {},
   "outputs": [],
   "source": [
    "coefficient_dict = {}\n",
    "\n",
    "for period in time_periods_post:\n",
    "    period_name = period.replace(\"review_count \", \"\")\n",
    "    \n",
    "    model = model_dict.get(period)\n",
    "    coefficients = model.coef_\n",
    "    #intercept = model.intercept_\n",
    "    \n",
    "    coefficient_dict[period_name] = coefficients\n",
    "    \n",
    "coefficient_df = pd.DataFrame.from_dict(coefficient_dict)\n",
    "\n",
    "feature_data = data.copy()\n",
    "\n",
    "for col in feature_data.columns:\n",
    "    if col in time_periods_post:\n",
    "        feature_data.drop(columns = col, inplace = True)\n",
    "        \n",
    "feature_names = feature_data.columns\n",
    "\n",
    "coefficient_df[\"feature_name\"] = feature_names\n",
    "coefficient_df.set_index(\"feature_name\", inplace = True)\n",
    "\n",
    "#print(coefficient_df.round(3))"
   ]
  },
  {
   "cell_type": "code",
   "execution_count": 16,
   "metadata": {},
   "outputs": [
    {
     "name": "stdout",
     "output_type": "stream",
     "text": [
      "                       2020-01\n",
      "feature_name                  \n",
      "review_count 2019-12  0.528811\n",
      "review_count 2019-11  0.224318\n",
      "review_count 2019-10  0.180986\n",
      "review_count 2019-08  0.160804\n",
      "review_count 2018-05  0.090859\n",
      "review_count 2019-05  0.080416\n",
      "review_count 2018-09  0.080037\n",
      "review_count 2018-04 -0.075453\n",
      "review_count 2019-07  0.074930\n",
      "avg_rating            0.072738\n",
      "                       2020-02\n",
      "feature_name                  \n",
      "review_count 2019-12  0.285514\n",
      "review_count 2019-11  0.146736\n",
      "review_count 2019-10  0.127771\n",
      "avg_rating            0.120340\n",
      "review_count 2019-05  0.073622\n",
      "review_count 2019-08  0.073223\n",
      "review_count 2019-07  0.068754\n",
      "review_count 2018-09  0.054648\n",
      "review_count 2018-02  0.039420\n",
      "review_count 2018-05  0.035600\n",
      "                       2020-03\n",
      "feature_name                  \n",
      "review_count 2019-12  0.243597\n",
      "review_count 2019-11  0.160974\n",
      "avg_rating            0.152622\n",
      "review_count 2019-08  0.111959\n",
      "review_count 2019-10  0.079420\n",
      "review_count 2019-07  0.078566\n",
      "review_count 2019-06  0.068716\n",
      "review_count 2019-04  0.055795\n",
      "review_count 2018-01  0.054774\n",
      "review_count 2018-08  0.053195\n",
      "                       2020-04\n",
      "feature_name                  \n",
      "review_count 2019-12  0.340000\n",
      "avg_rating            0.175916\n",
      "review_count 2019-08  0.164230\n",
      "review_count 2019-11  0.141732\n",
      "review_count 2018-02  0.078692\n",
      "review_count 2019-05  0.077303\n",
      "review_count 2019-10  0.075847\n",
      "review_count 2018-09  0.073212\n",
      "review_count 2018-08  0.067347\n",
      "review_count 2019-03  0.065365\n",
      "                       2020-05\n",
      "feature_name                  \n",
      "review_count 2019-12  0.318199\n",
      "avg_rating            0.222132\n",
      "review_count 2019-08  0.142456\n",
      "review_count 2019-05  0.119023\n",
      "review_count 2019-10  0.116057\n",
      "review_count 2019-11  0.105173\n",
      "review_count 2019-07  0.102317\n",
      "review_count 2019-03  0.086096\n",
      "review_count 2019-02  0.080536\n",
      "review_count 2018-01  0.066983\n",
      "                       2020-06\n",
      "feature_name                  \n",
      "avg_rating            0.507655\n",
      "review_count 2019-12  0.296675\n",
      "review_count 2019-10  0.144696\n",
      "review_count 2019-08  0.135887\n",
      "review_count 2019-07  0.100392\n",
      "review_count 2018-07  0.086944\n",
      "review_count 2019-06  0.062930\n",
      "review_count 2018-01  0.061880\n",
      "review_count 2019-01  0.055048\n",
      "review_count 2019-05  0.053148\n",
      "                       2020-07\n",
      "feature_name                  \n",
      "avg_rating            0.380709\n",
      "review_count 2019-12  0.240753\n",
      "review_count 2019-08  0.131771\n",
      "review_count 2019-10  0.125515\n",
      "review_count 2019-11  0.107308\n",
      "review_count 2019-07  0.071881\n",
      "review_count 2018-08  0.061124\n",
      "review_count 2018-07  0.056356\n",
      "review_count 2019-02  0.054680\n",
      "review_count 2019-05  0.051752\n",
      "                       2020-08\n",
      "feature_name                  \n",
      "avg_rating            0.392287\n",
      "review_count 2019-12  0.211854\n",
      "review_count 2019-08  0.134730\n",
      "review_count 2018-09  0.092496\n",
      "review_count 2019-10  0.067360\n",
      "review_count 2018-07  0.062358\n",
      "review_count 2019-01  0.052618\n",
      "review_count 2019-07  0.048963\n",
      "review_count 2019-06  0.045188\n",
      "review_count 2019-11  0.041684\n",
      "                       2020-09\n",
      "feature_name                  \n",
      "avg_rating            0.415248\n",
      "review_count 2019-12  0.177501\n",
      "review_count 2019-08  0.124612\n",
      "review_count 2019-02  0.080896\n",
      "review_count 2019-11  0.079088\n",
      "review_count 2019-07  0.067206\n",
      "review_count 2018-01  0.063476\n",
      "review_count 2019-01  0.043523\n",
      "review_count 2019-04  0.041775\n",
      "review_count 2019-05  0.039604\n",
      "                       2020-10\n",
      "feature_name                  \n",
      "avg_rating            0.272277\n",
      "review_count 2019-12  0.134702\n",
      "review_count 2019-08  0.084155\n",
      "review_count 2019-10  0.068210\n",
      "review_count 2018-10  0.056454\n",
      "review_count 2018-01  0.046976\n",
      "review_count 2019-04  0.044784\n",
      "review_count 2018-09  0.038727\n",
      "review_count 2019-02  0.037570\n",
      "review_count 2019-01  0.033486\n",
      "                       2020-11\n",
      "feature_name                  \n",
      "avg_rating            0.010747\n",
      "review_count 2019-07  0.006856\n",
      "review_count 2019-10  0.006143\n",
      "review_count 2019-06  0.005443\n",
      "review_count 2019-11  0.005217\n",
      "review_count 2018-02 -0.004519\n",
      "review_count 2019-04 -0.003801\n",
      "review_count 2018-01  0.003467\n",
      "review_count 2018-04  0.003102\n",
      "review_count 2019-09 -0.002916\n"
     ]
    }
   ],
   "source": [
    "for period in coefficient_df.columns:\n",
    "    \n",
    "    selected_df = coefficient_df.copy()\n",
    "    \n",
    "    abs_name = \"{}_abs\".format(period)\n",
    "    \n",
    "    selected_df[abs_name] = selected_df[period].apply(lambda val: abs(val))\n",
    "    selected_df = selected_df[[period, abs_name]]\n",
    "    selected_df.sort_values(by=abs_name, ascending=False, inplace = True)\n",
    "    \n",
    "    selected_df = selected_df.head(10)\n",
    "    selected_df.drop(columns = abs_name, inplace = True)\n",
    "    \n",
    "    print(selected_df)"
   ]
  },
  {
   "cell_type": "markdown",
   "metadata": {},
   "source": [
    "I also want to understand the relative importance of each historical period. Even if it isn't the main driver, it should give some indication of whether trends are changing."
   ]
  },
  {
   "cell_type": "code",
   "execution_count": 17,
   "metadata": {},
   "outputs": [
    {
     "data": {
      "image/png": "[encoded data removed]",
      "text/plain": [
       "<Figure size 432x288 with 2 Axes>"
      ]
     },
     "metadata": {
      "needs_background": "light"
     },
     "output_type": "display_data"
    }
   ],
   "source": [
    "coefficient_historical_df = coefficient_df[coefficient_df.index.str.contains(\"review_count\")]\n",
    "#print(coefficient_historical_df)\n",
    "\n",
    "sns.heatmap(coefficient_historical_df)\n",
    "plt.show()"
   ]
  },
  {
   "cell_type": "code",
   "execution_count": null,
   "metadata": {},
   "outputs": [],
   "source": []
  }
 ],
 "metadata": {
  "kernelspec": {
   "display_name": "Python 3",
   "language": "python",
   "name": "python3"
  },
  "language_info": {
   "codemirror_mode": {
    "name": "ipython",
    "version": 3
   },
   "file_extension": ".py",
   "mimetype": "text/x-python",
   "name": "python",
   "nbconvert_exporter": "python",
   "pygments_lexer": "ipython3",
   "version": "3.7.6"
  }
 },
 "nbformat": 4,
 "nbformat_minor": 4
}
