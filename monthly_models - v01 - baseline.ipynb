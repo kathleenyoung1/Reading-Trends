{
 "cells": [
  {
   "cell_type": "code",
   "execution_count": 1,
   "metadata": {},
   "outputs": [],
   "source": [
    "import datetime\n",
    "import numpy as np\n",
    "import pandas as pd\n",
    "\n",
    "import aggregator as ag\n",
    "import monthly_modeler as mm"
   ]
  },
  {
   "cell_type": "code",
   "execution_count": 2,
   "metadata": {},
   "outputs": [],
   "source": [
    "#data_file_name_review = \"distributed_data_collection/databases/review_data_sample.csv\"\n",
    "#data_file_name_book = \"distributed_data_collection/databases/book_data_sample.csv\"\n",
    "\n",
    "data_file_name_review = \"distributed_data_collection/databases/review_data.csv\"\n",
    "data_file_name_book = \"distributed_data_collection/databases/book_data.csv\"\n",
    "\n",
    "start_date = datetime.datetime(2018, 1, 1)\n",
    "end_date = datetime.datetime(2020, 9, 30)\n",
    "\n",
    "book_columns = [\"num_reviews\", \"num_ratings\", \"avg_rating\"]"
   ]
  },
  {
   "cell_type": "markdown",
   "metadata": {},
   "source": [
    "Theoretically, we could test against multiple grains (ie, day, week, month, quarter). However, I am only working with month. I ruled out the quarterly grain because it wouldn't include enough 2020 time periods to observe a trend in model performance over time. Then because the maximum monthly review counts were in the seventies, I didn't feel I could split those further."
   ]
  },
  {
   "cell_type": "code",
   "execution_count": 3,
   "metadata": {},
   "outputs": [
    {
     "name": "stdout",
     "output_type": "stream",
     "text": [
      "Aggregator Initiated.\n",
      "Processing Scraper Output...\n",
      "Scraper Output Processed.\n",
      "Aggregating Review Data...\n",
      "Review Data Aggregated.\n",
      "Merging Book Data...\n",
      "Book Data Merged.\n"
     ]
    }
   ],
   "source": [
    "data_aggregator = ag.Aggregator(data_file_name_review, data_file_name_book, book_columns, start_date, end_date, \"month\")\n",
    "data = data_aggregator.aggregate(\"by_book\")"
   ]
  },
  {
   "cell_type": "markdown",
   "metadata": {},
   "source": [
    "I want to drop binary feature columns which have a small number of values. The linear regression regularization will do a rigorous feature selection, so this step is mostly to reduce the amount of data that it has to process."
   ]
  },
  {
   "cell_type": "code",
   "execution_count": 4,
   "metadata": {},
   "outputs": [
    {
     "name": "stdout",
     "output_type": "stream",
     "text": [
      "Dropped 0/37 columns. 37 columns remaining.\n"
     ]
    }
   ],
   "source": [
    "data = mm.sparsity_filter(data, 2)"
   ]
  },
  {
   "cell_type": "markdown",
   "metadata": {},
   "source": [
    "This process will take all the 2018-2019 periods as features and will use those to predict reviews for each 2020 period. Differences in the overall accuracy of each model as well as shifts in the importance of different features to the model may indicate COVID-related change."
   ]
  },
  {
   "cell_type": "code",
   "execution_count": 5,
   "metadata": {},
   "outputs": [],
   "source": [
    "time_periods_post = []\n",
    "\n",
    "for col in data.columns:\n",
    "    if \"review_count\" in col:\n",
    "        if \"2020\" in col:\n",
    "            time_periods_post.append(col)"
   ]
  },
  {
   "cell_type": "markdown",
   "metadata": {},
   "source": [
    "I want to use the same test/train split for every time period, so I need to make the split before selecting which period will be the feature. "
   ]
  },
  {
   "cell_type": "code",
   "execution_count": 6,
   "metadata": {},
   "outputs": [],
   "source": [
    "perc_train = 0.75\n",
    "\n",
    "data = data.iloc[np.random.permutation(data.index)].reset_index(drop=True) #SHUFFLES DATA\n",
    "\n",
    "num_observations_total = len(data)\n",
    "num_observations_train = int(num_observations_total* perc_train)\n",
    "num_observations_test = num_observations_total - num_observations_train\n",
    "\n",
    "data_train = data.head(num_observations_train).reset_index(drop = True)\n",
    "data_test = data.tail(num_observations_test).reset_index(drop = True)"
   ]
  },
  {
   "cell_type": "markdown",
   "metadata": {},
   "source": [
    "We want to iterate through: logorithmic transformation, regularization type, and alpha value. For the moment, I am turning logorithmic transformation off. It's pretty clear that it has no impact, and I don't want to keep running it while I experiment with other aspects of the modeling process."
   ]
  },
  {
   "cell_type": "code",
   "execution_count": 7,
   "metadata": {},
   "outputs": [],
   "source": [
    "alpha_list = [1]\n",
    "regression_types_list = [\"linear\"]\n",
    "is_log_options = [False] "
   ]
  },
  {
   "cell_type": "markdown",
   "metadata": {},
   "source": [
    "Here goes on modeling! We will select the best model for each time period based on MSE. The performance df captures the overall predictiveness of pre-period data on post-period data. We expect to see declines due to concept drift. Sharp dropoffs in performance might suggest larger changes in reading trends."
   ]
  },
  {
   "cell_type": "code",
   "execution_count": 8,
   "metadata": {},
   "outputs": [
    {
     "name": "stdout",
     "output_type": "stream",
     "text": [
      "9/9 models processed\n",
      "  post_period regression_type is_log alpha  mse_test  r2_train  r2_test\n",
      "0     2020-01          linear  False  None     2.585     0.816    0.785\n",
      "1     2020-02          linear  False  None     1.468     0.716    0.673\n",
      "2     2020-03          linear  False  None     2.058     0.695    0.656\n",
      "3     2020-04          linear  False  None     2.713     0.744    0.721\n",
      "4     2020-05          linear  False  None     3.955     0.676    0.596\n",
      "5     2020-06          linear  False  None     4.254     0.558    0.536\n",
      "6     2020-07          linear  False  None     2.906     0.574    0.617\n",
      "7     2020-08          linear  False  None     2.431     0.582    0.579\n",
      "8     2020-09          linear  False  None     2.946     0.579    0.467\n"
     ]
    }
   ],
   "source": [
    "regression_processor = mm.Regression_Processor(data_train, data_test, time_periods_post, regression_types_list, is_log_options, alpha_list)\n",
    "performance_df, model_dict = regression_processor.get_optimal_models()\n",
    "\n",
    "print(performance_df.round(3))"
   ]
  },
  {
   "cell_type": "markdown",
   "metadata": {},
   "source": [
    "This is where it's really at! Understanding what features are most important to each model can help us understand the drivers of reading in each period."
   ]
  },
  {
   "cell_type": "code",
   "execution_count": 9,
   "metadata": {},
   "outputs": [
    {
     "name": "stdout",
     "output_type": "stream",
     "text": [
      "                      review_count 2020-01\n",
      "feature_name                              \n",
      "review_count 2019-12              0.548286\n",
      "review_count 2019-10              0.193139\n",
      "review_count 2019-11              0.166690\n",
      "review_count 2019-08              0.125157\n",
      "review_count 2019-03              0.101381\n",
      "review_count 2019-09              0.101271\n",
      "review_count 2019-07              0.100029\n",
      "review_count 2018-05              0.096659\n",
      "review_count 2018-04             -0.092870\n",
      "review_count 2019-01              0.076536\n",
      "                      review_count 2020-02\n",
      "feature_name                              \n",
      "review_count 2019-12              0.293441\n",
      "review_count 2019-10              0.145586\n",
      "review_count 2019-11              0.139589\n",
      "avg_rating                        0.101244\n",
      "review_count 2019-05              0.077452\n",
      "review_count 2018-05              0.057657\n",
      "review_count 2019-07              0.053247\n",
      "review_count 2019-09              0.052547\n",
      "review_count 2019-04              0.046979\n",
      "review_count 2018-09              0.045561\n",
      "                      review_count 2020-03\n",
      "feature_name                              \n",
      "review_count 2019-12              0.270527\n",
      "avg_rating                        0.154374\n",
      "review_count 2019-11              0.118887\n",
      "review_count 2019-08              0.107853\n",
      "review_count 2019-07              0.106627\n",
      "review_count 2019-04              0.074572\n",
      "review_count 2019-10              0.067584\n",
      "review_count 2019-09              0.062278\n",
      "review_count 2018-01              0.054553\n",
      "review_count 2019-03              0.049939\n",
      "                      review_count 2020-04\n",
      "feature_name                              \n",
      "review_count 2019-12              0.376878\n",
      "avg_rating                        0.141513\n",
      "review_count 2019-08              0.134039\n",
      "review_count 2019-09              0.117093\n",
      "review_count 2019-07              0.087087\n",
      "review_count 2018-01              0.085256\n",
      "review_count 2019-03              0.077658\n",
      "review_count 2019-04              0.072703\n",
      "review_count 2019-11              0.072698\n",
      "review_count 2019-05              0.070609\n",
      "                      review_count 2020-05\n",
      "feature_name                              \n",
      "review_count 2019-12              0.392995\n",
      "avg_rating                        0.159177\n",
      "review_count 2019-08              0.148537\n",
      "review_count 2019-07              0.142059\n",
      "review_count 2019-09              0.127106\n",
      "review_count 2018-08              0.087007\n",
      "review_count 2019-01              0.075817\n",
      "review_count 2019-10              0.075283\n",
      "review_count 2019-03              0.073851\n",
      "review_count 2019-05              0.072005\n",
      "                      review_count 2020-06\n",
      "feature_name                              \n",
      "avg_rating                        0.589916\n",
      "review_count 2019-12              0.320198\n",
      "review_count 2019-07              0.139178\n",
      "review_count 2019-10              0.112268\n",
      "review_count 2019-08              0.097597\n",
      "review_count 2019-01              0.095157\n",
      "review_count 2018-07              0.078109\n",
      "review_count 2018-03              0.053914\n",
      "review_count 2019-03              0.052655\n",
      "review_count 2019-09              0.052233\n",
      "                      review_count 2020-07\n",
      "feature_name                              \n",
      "avg_rating                        0.353608\n",
      "review_count 2019-12              0.275847\n",
      "review_count 2019-07              0.107410\n",
      "review_count 2019-08              0.103603\n",
      "review_count 2019-10              0.093756\n",
      "review_count 2019-09              0.081297\n",
      "review_count 2018-08              0.081044\n",
      "review_count 2019-11              0.064957\n",
      "review_count 2018-09              0.049475\n",
      "review_count 2019-06              0.049390\n",
      "                      review_count 2020-08\n",
      "feature_name                              \n",
      "avg_rating                        0.346023\n",
      "review_count 2019-12              0.242215\n",
      "review_count 2018-09              0.094915\n",
      "review_count 2019-08              0.094004\n",
      "review_count 2019-07              0.092003\n",
      "review_count 2019-09              0.087460\n",
      "review_count 2019-10              0.066090\n",
      "review_count 2019-01              0.063961\n",
      "review_count 2018-07              0.051361\n",
      "review_count 2019-03              0.045719\n",
      "                      review_count 2020-09\n",
      "feature_name                              \n",
      "avg_rating                        0.355890\n",
      "review_count 2019-12              0.213642\n",
      "review_count 2019-09              0.086875\n",
      "review_count 2019-07              0.083196\n",
      "review_count 2019-08              0.074195\n",
      "review_count 2019-02              0.066491\n",
      "review_count 2018-09              0.047120\n",
      "review_count 2019-04              0.041214\n",
      "review_count 2018-01              0.038410\n",
      "review_count 2019-11              0.038333\n"
     ]
    }
   ],
   "source": [
    "coefficient_df = regression_processor.get_coefficient_df()\n",
    "coefficient_df = regression_processor.print_top_coefficients()"
   ]
  },
  {
   "cell_type": "markdown",
   "metadata": {},
   "source": [
    "I also want to understand the relative importance of each historical period. Even if it isn't the main driver, it should give some indication of whether trends are changing."
   ]
  },
  {
   "cell_type": "code",
   "execution_count": 10,
   "metadata": {},
   "outputs": [
    {
     "data": {
      "image/png": "[encoded data removed]",
      "text/plain": [
       "<Figure size 432x288 with 2 Axes>"
      ]
     },
     "metadata": {},
     "output_type": "display_data"
    }
   ],
   "source": [
    "pre_period_importance = regression_processor.get_pre_period_importance()"
   ]
  }
 ],
 "metadata": {
  "kernelspec": {
   "display_name": "Python 3",
   "language": "python",
   "name": "python3"
  },
  "language_info": {
   "codemirror_mode": {
    "name": "ipython",
    "version": 3
   },
   "file_extension": ".py",
   "mimetype": "text/x-python",
   "name": "python",
   "nbconvert_exporter": "python",
   "pygments_lexer": "ipython3",
   "version": "3.7.6"
  }
 },
 "nbformat": 4,
 "nbformat_minor": 4
}
