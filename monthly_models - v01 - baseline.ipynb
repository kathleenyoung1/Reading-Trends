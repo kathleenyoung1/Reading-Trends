{
 "cells": [
  {
   "cell_type": "code",
   "execution_count": 1,
   "metadata": {},
   "outputs": [],
   "source": [
    "import datetime\n",
    "import numpy as np\n",
    "import pandas as pd\n",
    "\n",
    "import aggregator as ag\n",
    "import monthly_modeler as mm"
   ]
  },
  {
   "cell_type": "code",
   "execution_count": 2,
   "metadata": {},
   "outputs": [],
   "source": [
    "#data_file_name_review = \"distributed_data_collection/databases/review_data_sample.csv\"\n",
    "#data_file_name_book = \"distributed_data_collection/databases/book_data_sample.csv\"\n",
    "\n",
    "data_file_name_review = \"distributed_data_collection/databases/review_data.csv\"\n",
    "data_file_name_book = \"distributed_data_collection/databases/book_data.csv\"\n",
    "\n",
    "start_date = datetime.datetime(2018, 1, 1)\n",
    "end_date = datetime.datetime(2020, 11, 29)\n",
    "\n",
    "book_columns = [\"num_reviews\", \"num_ratings\", \"avg_rating\"]"
   ]
  },
  {
   "cell_type": "markdown",
   "metadata": {},
   "source": [
    "Theoretically, we could test against multiple grains (ie, day, week, month, quarter). However, I am only working with month. I ruled out the quarterly grain because it wouldn't include enough 2020 time periods to observe a trend in model performance over time. Then because the maximum monthly review counts were in the seventies, I didn't feel I could split those further."
   ]
  },
  {
   "cell_type": "code",
   "execution_count": 3,
   "metadata": {},
   "outputs": [
    {
     "name": "stdout",
     "output_type": "stream",
     "text": [
      "Aggregator Initiated.\n",
      "Processing Scraper Output...\n",
      "Scraper Output Processed.\n",
      "Aggregating Review Data...\n",
      "Review Data Aggregated.\n",
      "Merging Book Data...\n",
      "Book Data Merged.\n"
     ]
    }
   ],
   "source": [
    "data_aggregator = ag.Aggregator(data_file_name_review, data_file_name_book, book_columns, start_date, end_date, \"month\")\n",
    "data = data_aggregator.aggregate(\"by_book\")"
   ]
  },
  {
   "cell_type": "markdown",
   "metadata": {},
   "source": [
    "I want to drop binary feature columns which have a small number of values. The linear regression regularization will do a rigorous feature selection, so this step is mostly to reduce the amount of data that it has to process."
   ]
  },
  {
   "cell_type": "code",
   "execution_count": 4,
   "metadata": {},
   "outputs": [
    {
     "name": "stdout",
     "output_type": "stream",
     "text": [
      "Dropped 0/39 columns. 39 columns remaining.\n"
     ]
    }
   ],
   "source": [
    "data = mm.sparsity_filter(data, 2)"
   ]
  },
  {
   "cell_type": "markdown",
   "metadata": {},
   "source": [
    "This process will take all the 2018-2019 periods as features and will use those to predict reviews for each 2020 period. Differences in the overall accuracy of each model as well as shifts in the importance of different features to the model may indicate COVID-related change."
   ]
  },
  {
   "cell_type": "code",
   "execution_count": 5,
   "metadata": {},
   "outputs": [],
   "source": [
    "time_periods_post = []\n",
    "\n",
    "for col in data.columns:\n",
    "    if \"review_count\" in col:\n",
    "        if \"2020\" in col:\n",
    "            time_periods_post.append(col)"
   ]
  },
  {
   "cell_type": "markdown",
   "metadata": {},
   "source": [
    "I want to use the same test/train split for every time period, so I need to make the split before selecting which period will be the feature. "
   ]
  },
  {
   "cell_type": "code",
   "execution_count": 6,
   "metadata": {},
   "outputs": [],
   "source": [
    "perc_train = 0.75\n",
    "\n",
    "data = data.iloc[np.random.permutation(data.index)].reset_index(drop=True) #SHUFFLES DATA\n",
    "\n",
    "num_observations_total = len(data)\n",
    "num_observations_train = int(num_observations_total* perc_train)\n",
    "num_observations_test = num_observations_total - num_observations_train\n",
    "\n",
    "data_train = data.head(num_observations_train).reset_index(drop = True)\n",
    "data_test = data.tail(num_observations_test).reset_index(drop = True)"
   ]
  },
  {
   "cell_type": "markdown",
   "metadata": {},
   "source": [
    "We want to iterate through: logorithmic transformation, regularization type, and alpha value. For the moment, I am turning logorithmic transformation off. It's pretty clear that it has no impact, and I don't want to keep running it while I experiment with other aspects of the modeling process."
   ]
  },
  {
   "cell_type": "code",
   "execution_count": 7,
   "metadata": {},
   "outputs": [],
   "source": [
    "alpha_list = [1]\n",
    "regression_types_list = [\"linear\"]\n",
    "is_log_options = [False] "
   ]
  },
  {
   "cell_type": "markdown",
   "metadata": {},
   "source": [
    "Here goes on modeling! We will select the best model for each time period based on MSE. The performance df captures the overall predictiveness of pre-period data on post-period data. We expect to see declines due to concept drift. Sharp dropoffs in performance might suggest larger changes in reading trends."
   ]
  },
  {
   "cell_type": "code",
   "execution_count": 8,
   "metadata": {},
   "outputs": [
    {
     "name": "stdout",
     "output_type": "stream",
     "text": [
      "10/11 models processed\n",
      "11/11 models processed\n",
      "   post_period regression_type is_log alpha  mse_test  r2_train  r2_test\n",
      "0      2020-01          linear  False  None     3.080     0.816    0.791\n",
      "1      2020-02          linear  False  None     1.680     0.697    0.735\n",
      "2      2020-03          linear  False  None     2.392     0.698    0.648\n",
      "3      2020-04          linear  False  None     3.022     0.740    0.736\n",
      "4      2020-05          linear  False  None     5.086     0.664    0.649\n",
      "5      2020-06          linear  False  None     3.619     0.525    0.641\n",
      "6      2020-07          linear  False  None     2.875     0.558    0.662\n",
      "7      2020-08          linear  False  None     2.191     0.560    0.646\n",
      "8      2020-09          linear  False  None     2.095     0.530    0.605\n",
      "9      2020-10          linear  False  None     1.205     0.454    0.559\n",
      "10     2020-11          linear  False  None     0.013     0.059   -0.012\n"
     ]
    }
   ],
   "source": [
    "regression_processor = mm.Regression_Processor(data_train, data_test, time_periods_post, regression_types_list, is_log_options, alpha_list)\n",
    "performance_df, model_dict = regression_processor.get_optimal_models()\n",
    "\n",
    "print(performance_df.round(3))"
   ]
  },
  {
   "cell_type": "markdown",
   "metadata": {},
   "source": [
    "This is where it's really at! Understanding what features are most important to each model can help us understand the drivers of reading in each period."
   ]
  },
  {
   "cell_type": "code",
   "execution_count": 9,
   "metadata": {},
   "outputs": [
    {
     "name": "stdout",
     "output_type": "stream",
     "text": [
      "                      review_count 2020-01\n",
      "feature_name                              \n",
      "review_count 2019-12              0.513759\n",
      "review_count 2019-11              0.219657\n",
      "review_count 2019-10              0.192717\n",
      "review_count 2019-08              0.146068\n",
      "review_count 2019-07              0.106620\n",
      "review_count 2019-03              0.082527\n",
      "review_count 2018-05              0.081593\n",
      "review_count 2018-01              0.079012\n",
      "avg_rating                        0.076286\n",
      "review_count 2018-07              0.072695\n",
      "                      review_count 2020-02\n",
      "feature_name                              \n",
      "review_count 2019-12              0.242896\n",
      "review_count 2019-11              0.151126\n",
      "review_count 2019-10              0.141438\n",
      "avg_rating                        0.116104\n",
      "review_count 2019-08              0.096090\n",
      "review_count 2019-07              0.066299\n",
      "review_count 2018-09              0.050187\n",
      "review_count 2019-06              0.041355\n",
      "review_count 2018-01              0.041267\n",
      "review_count 2019-05              0.039864\n",
      "                      review_count 2020-03\n",
      "feature_name                              \n",
      "review_count 2019-12              0.237870\n",
      "avg_rating                        0.147013\n",
      "review_count 2019-11              0.135663\n",
      "review_count 2019-08              0.131261\n",
      "review_count 2019-07              0.111591\n",
      "review_count 2019-10              0.094919\n",
      "review_count 2019-04              0.063547\n",
      "review_count 2019-03              0.057069\n",
      "review_count 2018-01              0.047496\n",
      "review_count 2019-01              0.043582\n",
      "                      review_count 2020-04\n",
      "feature_name                              \n",
      "review_count 2019-12              0.333086\n",
      "avg_rating                        0.257364\n",
      "review_count 2019-08              0.172907\n",
      "review_count 2019-10              0.102550\n",
      "review_count 2019-05              0.091422\n",
      "review_count 2019-03              0.085674\n",
      "review_count 2019-11              0.085248\n",
      "review_count 2019-07              0.082954\n",
      "review_count 2019-09              0.079535\n",
      "review_count 2019-04              0.075128\n",
      "                      review_count 2020-05\n",
      "feature_name                              \n",
      "review_count 2019-12              0.280921\n",
      "avg_rating                        0.260182\n",
      "review_count 2019-08              0.170538\n",
      "review_count 2019-07              0.160781\n",
      "review_count 2019-10              0.124828\n",
      "review_count 2019-11              0.103683\n",
      "review_count 2019-03              0.086439\n",
      "review_count 2019-05              0.086033\n",
      "review_count 2019-06              0.078085\n",
      "review_count 2018-01              0.076052\n",
      "                      review_count 2020-06\n",
      "feature_name                              \n",
      "avg_rating                        0.566215\n",
      "review_count 2019-12              0.295193\n",
      "review_count 2019-07              0.139201\n",
      "review_count 2019-10              0.130575\n",
      "review_count 2019-08              0.115277\n",
      "review_count 2019-06              0.084774\n",
      "review_count 2019-01              0.077390\n",
      "review_count 2019-03              0.071624\n",
      "review_count 2018-03              0.055020\n",
      "review_count 2018-01              0.054152\n",
      "                      review_count 2020-07\n",
      "feature_name                              \n",
      "avg_rating                        0.445216\n",
      "review_count 2019-12              0.212625\n",
      "review_count 2019-08              0.140438\n",
      "review_count 2019-10              0.111937\n",
      "review_count 2019-07              0.110489\n",
      "review_count 2019-11              0.092012\n",
      "review_count 2018-08              0.062646\n",
      "review_count 2019-03              0.061355\n",
      "review_count 2019-06              0.060837\n",
      "review_count 2019-09              0.060039\n",
      "                      review_count 2020-08\n",
      "feature_name                              \n",
      "avg_rating                        0.383988\n",
      "review_count 2019-12              0.191177\n",
      "review_count 2019-08              0.109255\n",
      "review_count 2019-07              0.089901\n",
      "review_count 2019-01              0.080115\n",
      "review_count 2019-10              0.077441\n",
      "review_count 2018-09              0.074337\n",
      "review_count 2019-09              0.072316\n",
      "review_count 2018-07              0.060020\n",
      "review_count 2019-03              0.057297\n",
      "                      review_count 2020-09\n",
      "feature_name                              \n",
      "avg_rating                        0.458036\n",
      "review_count 2019-12              0.164965\n",
      "review_count 2019-08              0.124516\n",
      "review_count 2019-07              0.089071\n",
      "review_count 2019-11              0.059676\n",
      "review_count 2018-02              0.050411\n",
      "review_count 2019-02              0.047806\n",
      "review_count 2019-01              0.045322\n",
      "review_count 2019-09              0.042436\n",
      "review_count 2018-01              0.041193\n",
      "                      review_count 2020-10\n",
      "feature_name                              \n",
      "avg_rating                        0.271873\n",
      "review_count 2019-12              0.111613\n",
      "review_count 2019-10              0.087777\n",
      "review_count 2019-08              0.073534\n",
      "review_count 2019-07              0.052040\n",
      "review_count 2019-04              0.048183\n",
      "review_count 2019-02              0.040331\n",
      "review_count 2019-01              0.039207\n",
      "review_count 2018-10              0.036655\n",
      "review_count 2018-09              0.032733\n",
      "                      review_count 2020-11\n",
      "feature_name                              \n",
      "avg_rating                        0.012507\n",
      "review_count 2019-07              0.008060\n",
      "review_count 2019-10              0.006608\n",
      "review_count 2019-06              0.005132\n",
      "review_count 2019-04             -0.004761\n",
      "review_count 2019-11              0.004035\n",
      "review_count 2018-09              0.003880\n",
      "review_count 2019-05             -0.003721\n",
      "review_count 2019-12              0.003690\n",
      "review_count 2019-08             -0.003627\n"
     ]
    }
   ],
   "source": [
    "coefficient_df = regression_processor.get_coefficient_df()\n",
    "coefficient_df = regression_processor.print_top_coefficients()"
   ]
  },
  {
   "cell_type": "markdown",
   "metadata": {},
   "source": [
    "I also want to understand the relative importance of each historical period. Even if it isn't the main driver, it should give some indication of whether trends are changing."
   ]
  },
  {
   "cell_type": "code",
   "execution_count": 10,
   "metadata": {},
   "outputs": [
    {
     "data": {
      "image/png": "[encoded data removed]",
      "text/plain": [
       "<Figure size 432x288 with 2 Axes>"
      ]
     },
     "metadata": {},
     "output_type": "display_data"
    }
   ],
   "source": [
    "pre_period_importance = regression_processor.get_pre_period_importance()"
   ]
  }
 ],
 "metadata": {
  "kernelspec": {
   "display_name": "Python 3",
   "language": "python",
   "name": "python3"
  },
  "language_info": {
   "codemirror_mode": {
    "name": "ipython",
    "version": 3
   },
   "file_extension": ".py",
   "mimetype": "text/x-python",
   "name": "python",
   "nbconvert_exporter": "python",
   "pygments_lexer": "ipython3",
   "version": "3.7.6"
  }
 },
 "nbformat": 4,
 "nbformat_minor": 4
}
