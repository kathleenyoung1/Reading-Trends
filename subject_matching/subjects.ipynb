{
 "cells": [
  {
   "cell_type": "markdown",
   "metadata": {},
   "source": [
    "# Pulling subject/genre information"
   ]
  },
  {
   "cell_type": "markdown",
   "metadata": {},
   "source": [
    "### Book data from Goodreads"
   ]
  },
  {
   "cell_type": "code",
   "execution_count": 42,
   "metadata": {},
   "outputs": [],
   "source": [
    "import json\n",
    "import pandas as pd\n",
    "import numpy as np\n",
    "import re"
   ]
  },
  {
   "cell_type": "code",
   "execution_count": 4,
   "metadata": {},
   "outputs": [],
   "source": [
    "## Load Goodreads data\n",
    "dir = '../data/'\n",
    "filename = 'book_data_full_isbn.csv'\n",
    "gr = pd.read_csv(dir + filename)"
   ]
  },
  {
   "cell_type": "markdown",
   "metadata": {},
   "source": [
    "Some isbn13 numbers are recorded as ASIN (Amazon Standard Identification Number) values. For now, these are being removed in the cleaning step, but it may be a good idea to figure out how to work around this."
   ]
  },
  {
   "cell_type": "markdown",
   "metadata": {},
   "source": [
    "### Clean data"
   ]
  },
  {
   "cell_type": "markdown",
   "metadata": {},
   "source": [
    "#### Cleaning ISBNs"
   ]
  },
  {
   "cell_type": "markdown",
   "metadata": {},
   "source": [
    "Some ISBN numbers have 'X' as the 13th digit. Apparently this is supposed to belong to only ISBN 10 numbers. It's possible that Open Library has somehow 'constructed' their own ISBN 13 identifiers from existing ISBN 10 numbers when the ISBN 13 identifiers were missing.\n",
    "Whether or not these should be included will depend on what ISBN values are in the Good Reads data. Currently, any ISBN numbers with alpha digits have been removed from the Goodreads data however. So far, none of them are 13 digit ISBNs that end in X."
   ]
  },
  {
   "cell_type": "code",
   "execution_count": 5,
   "metadata": {},
   "outputs": [],
   "source": [
    "## ISBN Numbers\n",
    "\n",
    "## Change non-valid isbn numbers to \"None\"\n",
    "letters = re.compile(\"[A-Za-z]\")\n",
    "e_12 = re.compile(\"E\\+12\")\n",
    "\n",
    "for i in range(len(gr)):\n",
    "    if letters.search(gr.isbn13[i]) != None:\n",
    "        if e_12.search(gr.isbn13[i]) == None:\n",
    "            gr.loc[i, 'isbn13'] = 'None'\n",
    "\n",
    "            \n",
    "## Remove rows with missing (and non-valid) isbn numbers\n",
    "gr = gr[gr.isbn13 != 'None']\n",
    "gr.index = range(len(gr))\n",
    "\n",
    "\n",
    "## Expand ISBN numbers from E+12 format\n",
    "for i in range(len(gr)):\n",
    "    gr.loc[i, 'isbn13'] = str(int(pd.to_numeric(gr.loc[i, 'isbn13'])))"
   ]
  },
  {
   "cell_type": "markdown",
   "metadata": {},
   "source": [
    "---"
   ]
  },
  {
   "cell_type": "markdown",
   "metadata": {},
   "source": [
    "#### Cleaning Goodreads IDs"
   ]
  },
  {
   "cell_type": "markdown",
   "metadata": {},
   "source": [
    "The Goodreads IDs scraped from goodreads do not match up with the IDs stored in OL. This code will stay here for now as reference in case something changes and we do want to use this identifier. But otherwise it will currently be commented out."
   ]
  },
  {
   "cell_type": "code",
   "execution_count": 9,
   "metadata": {},
   "outputs": [],
   "source": [
    "### Goodreads IDs\n",
    "#\n",
    "### Pull out Goodreads ids from 'editions_url' column\n",
    "#gr_id_patt = re.compile(\"(?<=/work/editions/)[0-9]+\")\n",
    "#\n",
    "#id_vec = []\n",
    "#\n",
    "#for ed in gr.editions_url:\n",
    "#    gr_id = gr_id_patt.search(ed)\n",
    "#    if gr_id != None:\n",
    "#        id_vec.append(gr_id[0])\n",
    "#    else:\n",
    "#        id_vec.append(None)\n",
    "#        \n",
    "#gr[\"gr_id\"] = id_vec\n",
    "#\n",
    "### Drop missing gr_id rows (for now)\n",
    "#gr.drop(gr.loc[gr[\"gr_id\"].isnull()].index, inplace = True)"
   ]
  },
  {
   "cell_type": "markdown",
   "metadata": {},
   "source": [
    "---"
   ]
  },
  {
   "cell_type": "markdown",
   "metadata": {},
   "source": [
    "# Open Library python package"
   ]
  },
  {
   "cell_type": "markdown",
   "metadata": {},
   "source": [
    "This can take individual ISBN values (or other identifiers) and return the associated json file.\n",
    "\n",
    "Issues:\n",
    "- It is likely slower than using the bulk file since it will have to re-query for each line.\n",
    "- Any slowness is going to scale up as data increases\n",
    "\n",
    "Good stuff:\n",
    "- Some books have multiple ISBNs that are close in values. The bulk json files make it difficult to use these slighlty different ISBN numbers to pull data. The OL package immediately recognizes the similar ISBN values and pulls data accordingly.\n",
    "- It can pull based on other identifiers *** To test: can we used the Amazon identifiers to get a few more books in there? If so, the above cleaning method will need to be updated to seperate out observations with Amazon IDs.\n"
   ]
  },
  {
   "cell_type": "markdown",
   "metadata": {},
   "source": [
    "https://github.com/internetarchive/openlibrary-client/blob/master/olclient/openlibrary.py"
   ]
  },
  {
   "cell_type": "code",
   "execution_count": 2,
   "metadata": {},
   "outputs": [],
   "source": [
    "from olclient.openlibrary import OpenLibrary"
   ]
  },
  {
   "cell_type": "code",
   "execution_count": 5,
   "metadata": {
    "scrolled": true
   },
   "outputs": [],
   "source": [
    "## Example from OL documentation\n",
    "ol = OpenLibrary()\n",
    "work = ol.Work.get(u'OL12938932W')\n",
    "editions = work.editions"
   ]
  },
  {
   "cell_type": "code",
   "execution_count": 7,
   "metadata": {
    "collapsed": true
   },
   "outputs": [],
   "source": [
    "## Example format for pulling book info for particular ISBN\n",
    "isbn_test = ol.Edition.get(isbn = '9781477823835')"
   ]
  },
  {
   "cell_type": "code",
   "execution_count": 14,
   "metadata": {},
   "outputs": [],
   "source": [
    "## Take ISBN numbers from Goodreads dataset\n",
    "isbn_list = gr.isbn13.unique()"
   ]
  },
  {
   "cell_type": "code",
   "execution_count": 18,
   "metadata": {},
   "outputs": [],
   "source": [
    "keyvec = [\"isbn_13\", \"title\", \"genres\", \"subjects\", \"description\"]\n",
    "\n",
    "ol_data = []\n",
    "\n",
    "for isbn in isbn_list:\n",
    "    book = ol.Edition.get(isbn = isbn)\n",
    "    if book != None:\n",
    "        book_dat = [book.json().get(key) for key in keyvec]\n",
    "        ol_data.append(book_dat)"
   ]
  },
  {
   "cell_type": "code",
   "execution_count": 28,
   "metadata": {},
   "outputs": [
    {
     "data": {
      "text/html": [
       "<div>\n",
       "<style scoped>\n",
       "    .dataframe tbody tr th:only-of-type {\n",
       "        vertical-align: middle;\n",
       "    }\n",
       "\n",
       "    .dataframe tbody tr th {\n",
       "        vertical-align: top;\n",
       "    }\n",
       "\n",
       "    .dataframe thead th {\n",
       "        text-align: right;\n",
       "    }\n",
       "</style>\n",
       "<table border=\"1\" class=\"dataframe\">\n",
       "  <thead>\n",
       "    <tr style=\"text-align: right;\">\n",
       "      <th></th>\n",
       "      <th>isbn_13</th>\n",
       "      <th>title</th>\n",
       "      <th>genres</th>\n",
       "      <th>subjects</th>\n",
       "      <th>description</th>\n",
       "    </tr>\n",
       "  </thead>\n",
       "  <tbody>\n",
       "    <tr>\n",
       "      <th>0</th>\n",
       "      <td>[9780060838720]</td>\n",
       "      <td>Bel canto</td>\n",
       "      <td>[Fiction.]</td>\n",
       "      <td>[Women singers -- Fiction., Victims of terrori...</td>\n",
       "      <td>{'type': '/type/text', 'value': 'Somewhere in ...</td>\n",
       "    </tr>\n",
       "    <tr>\n",
       "      <th>1</th>\n",
       "      <td>[9781484705278]</td>\n",
       "      <td>Every last word</td>\n",
       "      <td>None</td>\n",
       "      <td>[Schools, High schools, Obsessive-compulsive d...</td>\n",
       "      <td>{'type': '/type/text', 'value': 'Consumed by a...</td>\n",
       "    </tr>\n",
       "    <tr>\n",
       "      <th>2</th>\n",
       "      <td>[9780765379955]</td>\n",
       "      <td>All the Birds in the Sky</td>\n",
       "      <td>None</td>\n",
       "      <td>None</td>\n",
       "      <td>{'type': '/type/text', 'value': 'An ancient so...</td>\n",
       "    </tr>\n",
       "    <tr>\n",
       "      <th>3</th>\n",
       "      <td>None</td>\n",
       "      <td>Cosmos</td>\n",
       "      <td>[Popular works.]</td>\n",
       "      <td>[Astronomy -- Popular works.]</td>\n",
       "      <td>None</td>\n",
       "    </tr>\n",
       "    <tr>\n",
       "      <th>4</th>\n",
       "      <td>None</td>\n",
       "      <td>MEDITATIONS; TRANS. BY MARTIN HAMMOND.</td>\n",
       "      <td>None</td>\n",
       "      <td>None</td>\n",
       "      <td>None</td>\n",
       "    </tr>\n",
       "    <tr>\n",
       "      <th>...</th>\n",
       "      <td>...</td>\n",
       "      <td>...</td>\n",
       "      <td>...</td>\n",
       "      <td>...</td>\n",
       "      <td>...</td>\n",
       "    </tr>\n",
       "    <tr>\n",
       "      <th>1866</th>\n",
       "      <td>[9780451459879]</td>\n",
       "      <td>Blood rites</td>\n",
       "      <td>None</td>\n",
       "      <td>None</td>\n",
       "      <td>None</td>\n",
       "    </tr>\n",
       "    <tr>\n",
       "      <th>1867</th>\n",
       "      <td>[9780006479673]</td>\n",
       "      <td>If Tomorrow Comes</td>\n",
       "      <td>None</td>\n",
       "      <td>None</td>\n",
       "      <td>None</td>\n",
       "    </tr>\n",
       "    <tr>\n",
       "      <th>1868</th>\n",
       "      <td>[9781600965272]</td>\n",
       "      <td>Orthodoxy</td>\n",
       "      <td>None</td>\n",
       "      <td>[Literary Collections / Essays, Religion / Cat...</td>\n",
       "      <td>None</td>\n",
       "    </tr>\n",
       "    <tr>\n",
       "      <th>1869</th>\n",
       "      <td>[9780380713806]</td>\n",
       "      <td>Neither here nor there</td>\n",
       "      <td>None</td>\n",
       "      <td>[Bryson, Bill -- Travel -- Europe., Europe -- ...</td>\n",
       "      <td>None</td>\n",
       "    </tr>\n",
       "    <tr>\n",
       "      <th>1870</th>\n",
       "      <td>[9780316334525]</td>\n",
       "      <td>The rumor</td>\n",
       "      <td>None</td>\n",
       "      <td>[Gossip, Fiction, Women novelists, Female frie...</td>\n",
       "      <td>None</td>\n",
       "    </tr>\n",
       "  </tbody>\n",
       "</table>\n",
       "<p>1871 rows × 5 columns</p>\n",
       "</div>"
      ],
      "text/plain": [
       "              isbn_13                                   title  \\\n",
       "0     [9780060838720]                               Bel canto   \n",
       "1     [9781484705278]                         Every last word   \n",
       "2     [9780765379955]                All the Birds in the Sky   \n",
       "3                None                                  Cosmos   \n",
       "4                None  MEDITATIONS; TRANS. BY MARTIN HAMMOND.   \n",
       "...               ...                                     ...   \n",
       "1866  [9780451459879]                             Blood rites   \n",
       "1867  [9780006479673]                       If Tomorrow Comes   \n",
       "1868  [9781600965272]                               Orthodoxy   \n",
       "1869  [9780380713806]                  Neither here nor there   \n",
       "1870  [9780316334525]                               The rumor   \n",
       "\n",
       "                genres                                           subjects  \\\n",
       "0           [Fiction.]  [Women singers -- Fiction., Victims of terrori...   \n",
       "1                 None  [Schools, High schools, Obsessive-compulsive d...   \n",
       "2                 None                                               None   \n",
       "3     [Popular works.]                      [Astronomy -- Popular works.]   \n",
       "4                 None                                               None   \n",
       "...                ...                                                ...   \n",
       "1866              None                                               None   \n",
       "1867              None                                               None   \n",
       "1868              None  [Literary Collections / Essays, Religion / Cat...   \n",
       "1869              None  [Bryson, Bill -- Travel -- Europe., Europe -- ...   \n",
       "1870              None  [Gossip, Fiction, Women novelists, Female frie...   \n",
       "\n",
       "                                            description  \n",
       "0     {'type': '/type/text', 'value': 'Somewhere in ...  \n",
       "1     {'type': '/type/text', 'value': 'Consumed by a...  \n",
       "2     {'type': '/type/text', 'value': 'An ancient so...  \n",
       "3                                                  None  \n",
       "4                                                  None  \n",
       "...                                                 ...  \n",
       "1866                                               None  \n",
       "1867                                               None  \n",
       "1868                                               None  \n",
       "1869                                               None  \n",
       "1870                                               None  \n",
       "\n",
       "[1871 rows x 5 columns]"
      ]
     },
     "execution_count": 28,
     "metadata": {},
     "output_type": "execute_result"
    }
   ],
   "source": [
    "isbn_df = pd.DataFrame(ol_data, columns = keyvec)"
   ]
  },
  {
   "cell_type": "code",
   "execution_count": 27,
   "metadata": {},
   "outputs": [
    {
     "name": "stdout",
     "output_type": "stream",
     "text": [
      "Unmatched ISBN count: 107\n",
      "Unmatched ISBN proportion: 5.41 %\n"
     ]
    }
   ],
   "source": [
    "## Direct match rate\n",
    "nomatch = len(isbn_list) - len(isbn_df)\n",
    "total = len(isbn_list)\n",
    "\n",
    "print(\"Unmatched ISBN count:\", nomatch)\n",
    "\n",
    "print(\"Unmatched ISBN proportion:\", round(nomatch / total * 100, 2), \"%\")"
   ]
  },
  {
   "cell_type": "code",
   "execution_count": 43,
   "metadata": {},
   "outputs": [],
   "source": [
    "## Subject/genre rate\n",
    "\n",
    "val_vec = []\n",
    "\n",
    "for i in range(len(isbn_df)):\n",
    "    val = 0\n",
    "    if isbn_df.genres[i] != None:\n",
    "        val += 1\n",
    "    if isbn_df.subjects[i] != None:\n",
    "        val += 2\n",
    "    if isbn_df.description[i] != None:\n",
    "        val += 4\n",
    "\n",
    "    val_vec.append(val)\n",
    "    \n",
    "val_vec = np.array(val_vec)"
   ]
  },
  {
   "cell_type": "code",
   "execution_count": 48,
   "metadata": {},
   "outputs": [
    {
     "name": "stdout",
     "output_type": "stream",
     "text": [
      "Number of ISBNs with no subject or genre info: 884 ( 44.69 %)\n",
      "Number of ISBNs with no info: 820\n"
     ]
    }
   ],
   "source": [
    "noinfo = ((val_vec == 0) | (val_vec == 4)).sum()\n",
    "print(\"Number of ISBNs with no subject or genre info:\", noinfo, \"(\", round((noinfo / total) * 100, 2), \"%)\")\n",
    "\n",
    "print(\"Number of ISBNs with no info:\", (val_vec == 0).sum())"
   ]
  },
  {
   "cell_type": "code",
   "execution_count": null,
   "metadata": {},
   "outputs": [],
   "source": []
  },
  {
   "cell_type": "code",
   "execution_count": null,
   "metadata": {},
   "outputs": [],
   "source": []
  },
  {
   "cell_type": "code",
   "execution_count": null,
   "metadata": {},
   "outputs": [],
   "source": []
  },
  {
   "cell_type": "markdown",
   "metadata": {},
   "source": [
    "# Open Library Bulk Data"
   ]
  },
  {
   "cell_type": "markdown",
   "metadata": {},
   "source": [
    "### Basic look at data formatting\n",
    "\n",
    "Data can be found here:\n",
    "\n",
    "https://openlibrary.org/developers/dumps"
   ]
  },
  {
   "cell_type": "markdown",
   "metadata": {},
   "source": [
    "!wc -l ../data/edition_json.txt"
   ]
  },
  {
   "cell_type": "markdown",
   "metadata": {},
   "source": [
    "!head -1 ../data/edition_json.txt"
   ]
  },
  {
   "cell_type": "code",
   "execution_count": null,
   "metadata": {},
   "outputs": [],
   "source": []
  },
  {
   "cell_type": "markdown",
   "metadata": {},
   "source": [
    "### ISBN Merge"
   ]
  },
  {
   "cell_type": "code",
   "execution_count": 160,
   "metadata": {},
   "outputs": [],
   "source": [
    "## Take ISBN numbers from Goodreads dataset\n",
    "isbn_list = gr.isbn13.to_list()\n",
    "isbn_patt = re.compile(\"(?<=isbn_13\\': \\[\\').{13}\")"
   ]
  },
  {
   "cell_type": "code",
   "execution_count": 124,
   "metadata": {},
   "outputs": [],
   "source": [
    "## Pull appropriate key values from json file\n",
    "keys = [\"isbn_13\", \"title\", \"genre\", \"subjects\"]\n",
    "ol_vec = []\n",
    "\n",
    "with open('../data/edition_json.txt') as json_file:\n",
    "    for line in json_file:\n",
    "        if (re.search('\\\"isbn_13\\\"', line) != None): \n",
    "            if isbn_patt.search(line) != None:\n",
    "                isbn_num = isbn_patt.search(line)[0]\n",
    "                if str(isbn_num) in isbn_list:\n",
    "                    l = [json.loads(line).get(key) for key in keys]\n",
    "                    ol_vec.append(l)"
   ]
  },
  {
   "cell_type": "code",
   "execution_count": 125,
   "metadata": {},
   "outputs": [],
   "source": [
    "## Convert open library list to dataframe with properly formatted ISBN numbers\n",
    "isbn_df = pd.DataFrame(ol_vec, columns = keys)\n",
    "\n",
    "clean_isbn = []\n",
    "\n",
    "for l in isbn_df.isbn_13:\n",
    "    clean_isbn.append(l[0])\n",
    "\n",
    "isbn_df[\"isbn13\"] = clean_isbn"
   ]
  },
  {
   "cell_type": "code",
   "execution_count": 126,
   "metadata": {},
   "outputs": [],
   "source": [
    "merge_check = gr.merge(isbn_df, on = 'isbn13')\n",
    "#merge_check"
   ]
  },
  {
   "cell_type": "code",
   "execution_count": 127,
   "metadata": {},
   "outputs": [],
   "source": [
    "gr_merge = gr.merge(isbn_df, how = 'left', on = 'isbn13')\n",
    "#gr_merge"
   ]
  },
  {
   "cell_type": "code",
   "execution_count": 128,
   "metadata": {},
   "outputs": [
    {
     "data": {
      "text/html": [
       "<div>\n",
       "<style scoped>\n",
       "    .dataframe tbody tr th:only-of-type {\n",
       "        vertical-align: middle;\n",
       "    }\n",
       "\n",
       "    .dataframe tbody tr th {\n",
       "        vertical-align: top;\n",
       "    }\n",
       "\n",
       "    .dataframe thead th {\n",
       "        text-align: right;\n",
       "    }\n",
       "</style>\n",
       "<table border=\"1\" class=\"dataframe\">\n",
       "  <thead>\n",
       "    <tr style=\"text-align: right;\">\n",
       "      <th></th>\n",
       "      <th>book_id</th>\n",
       "      <th>book_author</th>\n",
       "      <th>book_language</th>\n",
       "      <th>num_reviews</th>\n",
       "      <th>num_ratings</th>\n",
       "      <th>avg_rating</th>\n",
       "      <th>isbn13</th>\n",
       "      <th>editions_url</th>\n",
       "      <th>book_publication_date</th>\n",
       "      <th>book_first_publication_date</th>\n",
       "      <th>series</th>\n",
       "      <th>data_log_time</th>\n",
       "      <th>isbn_13</th>\n",
       "      <th>title</th>\n",
       "      <th>genre</th>\n",
       "      <th>subjects</th>\n",
       "    </tr>\n",
       "  </thead>\n",
       "  <tbody>\n",
       "    <tr>\n",
       "      <th>0</th>\n",
       "      <td>5826</td>\n",
       "      <td>Ann Patchett</td>\n",
       "      <td>English</td>\n",
       "      <td>15165</td>\n",
       "      <td>239360</td>\n",
       "      <td>3.93</td>\n",
       "      <td>9780060838720</td>\n",
       "      <td>/work/editions/859342-bel-canto</td>\n",
       "      <td>August 2 2005</td>\n",
       "      <td>May 22 2001</td>\n",
       "      <td>None</td>\n",
       "      <td>10/22/2020 9:48</td>\n",
       "      <td>[9780060838720]</td>\n",
       "      <td>Bel canto</td>\n",
       "      <td>None</td>\n",
       "      <td>[Women singers -- Fiction., Victims of terrori...</td>\n",
       "    </tr>\n",
       "    <tr>\n",
       "      <th>1</th>\n",
       "      <td>5826</td>\n",
       "      <td>Ann Patchett</td>\n",
       "      <td>English</td>\n",
       "      <td>15165</td>\n",
       "      <td>239360</td>\n",
       "      <td>3.93</td>\n",
       "      <td>9780060838720</td>\n",
       "      <td>/work/editions/859342-bel-canto</td>\n",
       "      <td>August 2 2005</td>\n",
       "      <td>May 22 2001</td>\n",
       "      <td>None</td>\n",
       "      <td>10/22/2020 9:48</td>\n",
       "      <td>[9780060838720]</td>\n",
       "      <td>Bel Canto</td>\n",
       "      <td>None</td>\n",
       "      <td>None</td>\n",
       "    </tr>\n",
       "    <tr>\n",
       "      <th>2</th>\n",
       "      <td>5826</td>\n",
       "      <td>Ann Patchett</td>\n",
       "      <td>English</td>\n",
       "      <td>15165</td>\n",
       "      <td>239360</td>\n",
       "      <td>3.93</td>\n",
       "      <td>9780060838720</td>\n",
       "      <td>/work/editions/859342-bel-canto</td>\n",
       "      <td>August 2 2005</td>\n",
       "      <td>May 22 2001</td>\n",
       "      <td>None</td>\n",
       "      <td>10/22/2020 9:48</td>\n",
       "      <td>[9780060838720]</td>\n",
       "      <td>Bel Canto (P.S.)</td>\n",
       "      <td>None</td>\n",
       "      <td>[Popular American Fiction, Fiction - General, ...</td>\n",
       "    </tr>\n",
       "    <tr>\n",
       "      <th>3</th>\n",
       "      <td>23341894</td>\n",
       "      <td>Tamara Ireland Stone</td>\n",
       "      <td>English</td>\n",
       "      <td>4975</td>\n",
       "      <td>37318</td>\n",
       "      <td>4.25</td>\n",
       "      <td>9781484705278</td>\n",
       "      <td>/work/editions/26212678-every-last-word</td>\n",
       "      <td>June 16 2015</td>\n",
       "      <td>None</td>\n",
       "      <td>None</td>\n",
       "      <td>10/22/2020 9:49</td>\n",
       "      <td>[9781484705278]</td>\n",
       "      <td>Every last word</td>\n",
       "      <td>None</td>\n",
       "      <td>[Schools, High schools, Obsessive-compulsive d...</td>\n",
       "    </tr>\n",
       "    <tr>\n",
       "      <th>4</th>\n",
       "      <td>25372801</td>\n",
       "      <td>Charlie Jane Anders</td>\n",
       "      <td>English</td>\n",
       "      <td>6111</td>\n",
       "      <td>37471</td>\n",
       "      <td>3.59</td>\n",
       "      <td>9780765379948</td>\n",
       "      <td>/work/editions/45119441-all-the-birds-in-the-sky</td>\n",
       "      <td>January 26 2016</td>\n",
       "      <td>None</td>\n",
       "      <td>All the Birds in the Sky</td>\n",
       "      <td>10/22/2020 9:49</td>\n",
       "      <td>NaN</td>\n",
       "      <td>NaN</td>\n",
       "      <td>NaN</td>\n",
       "      <td>NaN</td>\n",
       "    </tr>\n",
       "    <tr>\n",
       "      <th>...</th>\n",
       "      <td>...</td>\n",
       "      <td>...</td>\n",
       "      <td>...</td>\n",
       "      <td>...</td>\n",
       "      <td>...</td>\n",
       "      <td>...</td>\n",
       "      <td>...</td>\n",
       "      <td>...</td>\n",
       "      <td>...</td>\n",
       "      <td>...</td>\n",
       "      <td>...</td>\n",
       "      <td>...</td>\n",
       "      <td>...</td>\n",
       "      <td>...</td>\n",
       "      <td>...</td>\n",
       "      <td>...</td>\n",
       "    </tr>\n",
       "    <tr>\n",
       "      <th>2436</th>\n",
       "      <td>27</td>\n",
       "      <td>Bill Bryson</td>\n",
       "      <td>English</td>\n",
       "      <td>2895</td>\n",
       "      <td>58989</td>\n",
       "      <td>3.86</td>\n",
       "      <td>9780380713806</td>\n",
       "      <td>/work/editions/3164459-neither-here-nor-there-...</td>\n",
       "      <td>March 28 1993</td>\n",
       "      <td>1991</td>\n",
       "      <td>Bryson and Katz</td>\n",
       "      <td>10/26/2020 10:41</td>\n",
       "      <td>[9780380713806]</td>\n",
       "      <td>Neither here nor there</td>\n",
       "      <td>None</td>\n",
       "      <td>[Bryson, Bill -- Travel -- Europe, Europe -- D...</td>\n",
       "    </tr>\n",
       "    <tr>\n",
       "      <th>2437</th>\n",
       "      <td>23341607</td>\n",
       "      <td>Elin Hilderbrand</td>\n",
       "      <td>English</td>\n",
       "      <td>3691</td>\n",
       "      <td>50139</td>\n",
       "      <td>3.73</td>\n",
       "      <td>9780316334525</td>\n",
       "      <td>/work/editions/42901131-the-rumor</td>\n",
       "      <td>June 16 2015</td>\n",
       "      <td>None</td>\n",
       "      <td>None</td>\n",
       "      <td>10/26/2020 10:42</td>\n",
       "      <td>[9780316334525]</td>\n",
       "      <td>The rumor</td>\n",
       "      <td>None</td>\n",
       "      <td>[Gossip, Fiction, Women novelists, Female frie...</td>\n",
       "    </tr>\n",
       "    <tr>\n",
       "      <th>2438</th>\n",
       "      <td>22522202</td>\n",
       "      <td>Abbi Glines</td>\n",
       "      <td>English</td>\n",
       "      <td>3720</td>\n",
       "      <td>39448</td>\n",
       "      <td>3.99</td>\n",
       "      <td>9781481438865</td>\n",
       "      <td>/work/editions/41969628-until-friday-night</td>\n",
       "      <td>August 25 2015</td>\n",
       "      <td>None</td>\n",
       "      <td>The Field Party</td>\n",
       "      <td>10/26/2020 10:43</td>\n",
       "      <td>NaN</td>\n",
       "      <td>NaN</td>\n",
       "      <td>NaN</td>\n",
       "      <td>NaN</td>\n",
       "    </tr>\n",
       "    <tr>\n",
       "      <th>2439</th>\n",
       "      <td>22521286</td>\n",
       "      <td>Charlie N. Holmberg</td>\n",
       "      <td>English</td>\n",
       "      <td>7039</td>\n",
       "      <td>67883</td>\n",
       "      <td>3.65</td>\n",
       "      <td>9781477823835</td>\n",
       "      <td>/work/editions/40051132-the-paper-magician</td>\n",
       "      <td>September 1 2014</td>\n",
       "      <td>None</td>\n",
       "      <td>The Paper Magician</td>\n",
       "      <td>10/26/2020 10:45</td>\n",
       "      <td>NaN</td>\n",
       "      <td>NaN</td>\n",
       "      <td>NaN</td>\n",
       "      <td>NaN</td>\n",
       "    </tr>\n",
       "    <tr>\n",
       "      <th>2440</th>\n",
       "      <td>32603079</td>\n",
       "      <td>Chuck Wendig</td>\n",
       "      <td>English</td>\n",
       "      <td>2703</td>\n",
       "      <td>13662</td>\n",
       "      <td>3.99</td>\n",
       "      <td>9780399182112</td>\n",
       "      <td>/work/editions/53184096-wanderers</td>\n",
       "      <td>July 9 2019</td>\n",
       "      <td>July 2 2019</td>\n",
       "      <td>None</td>\n",
       "      <td>10/26/2020 10:46</td>\n",
       "      <td>NaN</td>\n",
       "      <td>NaN</td>\n",
       "      <td>NaN</td>\n",
       "      <td>NaN</td>\n",
       "    </tr>\n",
       "  </tbody>\n",
       "</table>\n",
       "<p>2441 rows × 16 columns</p>\n",
       "</div>"
      ],
      "text/plain": [
       "       book_id           book_author book_language  num_reviews  num_ratings  \\\n",
       "0         5826          Ann Patchett       English        15165       239360   \n",
       "1         5826          Ann Patchett       English        15165       239360   \n",
       "2         5826          Ann Patchett       English        15165       239360   \n",
       "3     23341894  Tamara Ireland Stone       English         4975        37318   \n",
       "4     25372801   Charlie Jane Anders       English         6111        37471   \n",
       "...        ...                   ...           ...          ...          ...   \n",
       "2436        27           Bill Bryson       English         2895        58989   \n",
       "2437  23341607      Elin Hilderbrand       English         3691        50139   \n",
       "2438  22522202           Abbi Glines       English         3720        39448   \n",
       "2439  22521286   Charlie N. Holmberg       English         7039        67883   \n",
       "2440  32603079          Chuck Wendig       English         2703        13662   \n",
       "\n",
       "      avg_rating         isbn13  \\\n",
       "0           3.93  9780060838720   \n",
       "1           3.93  9780060838720   \n",
       "2           3.93  9780060838720   \n",
       "3           4.25  9781484705278   \n",
       "4           3.59  9780765379948   \n",
       "...          ...            ...   \n",
       "2436        3.86  9780380713806   \n",
       "2437        3.73  9780316334525   \n",
       "2438        3.99  9781481438865   \n",
       "2439        3.65  9781477823835   \n",
       "2440        3.99  9780399182112   \n",
       "\n",
       "                                           editions_url book_publication_date  \\\n",
       "0                       /work/editions/859342-bel-canto         August 2 2005   \n",
       "1                       /work/editions/859342-bel-canto         August 2 2005   \n",
       "2                       /work/editions/859342-bel-canto         August 2 2005   \n",
       "3               /work/editions/26212678-every-last-word          June 16 2015   \n",
       "4      /work/editions/45119441-all-the-birds-in-the-sky       January 26 2016   \n",
       "...                                                 ...                   ...   \n",
       "2436  /work/editions/3164459-neither-here-nor-there-...         March 28 1993   \n",
       "2437                  /work/editions/42901131-the-rumor          June 16 2015   \n",
       "2438         /work/editions/41969628-until-friday-night        August 25 2015   \n",
       "2439         /work/editions/40051132-the-paper-magician      September 1 2014   \n",
       "2440                  /work/editions/53184096-wanderers           July 9 2019   \n",
       "\n",
       "     book_first_publication_date                    series     data_log_time  \\\n",
       "0                    May 22 2001                      None   10/22/2020 9:48   \n",
       "1                    May 22 2001                      None   10/22/2020 9:48   \n",
       "2                    May 22 2001                      None   10/22/2020 9:48   \n",
       "3                           None                      None   10/22/2020 9:49   \n",
       "4                           None  All the Birds in the Sky   10/22/2020 9:49   \n",
       "...                          ...                       ...               ...   \n",
       "2436                        1991           Bryson and Katz  10/26/2020 10:41   \n",
       "2437                        None                      None  10/26/2020 10:42   \n",
       "2438                        None           The Field Party  10/26/2020 10:43   \n",
       "2439                        None        The Paper Magician  10/26/2020 10:45   \n",
       "2440                 July 2 2019                      None  10/26/2020 10:46   \n",
       "\n",
       "              isbn_13                   title genre  \\\n",
       "0     [9780060838720]               Bel canto  None   \n",
       "1     [9780060838720]               Bel Canto  None   \n",
       "2     [9780060838720]        Bel Canto (P.S.)  None   \n",
       "3     [9781484705278]         Every last word  None   \n",
       "4                 NaN                     NaN   NaN   \n",
       "...               ...                     ...   ...   \n",
       "2436  [9780380713806]  Neither here nor there  None   \n",
       "2437  [9780316334525]               The rumor  None   \n",
       "2438              NaN                     NaN   NaN   \n",
       "2439              NaN                     NaN   NaN   \n",
       "2440              NaN                     NaN   NaN   \n",
       "\n",
       "                                               subjects  \n",
       "0     [Women singers -- Fiction., Victims of terrori...  \n",
       "1                                                  None  \n",
       "2     [Popular American Fiction, Fiction - General, ...  \n",
       "3     [Schools, High schools, Obsessive-compulsive d...  \n",
       "4                                                   NaN  \n",
       "...                                                 ...  \n",
       "2436  [Bryson, Bill -- Travel -- Europe, Europe -- D...  \n",
       "2437  [Gossip, Fiction, Women novelists, Female frie...  \n",
       "2438                                                NaN  \n",
       "2439                                                NaN  \n",
       "2440                                                NaN  \n",
       "\n",
       "[2441 rows x 16 columns]"
      ]
     },
     "execution_count": 128,
     "metadata": {},
     "output_type": "execute_result"
    }
   ],
   "source": [
    "gr_merge"
   ]
  },
  {
   "cell_type": "markdown",
   "metadata": {},
   "source": [
    "Merging on ISBN numbers covers about 50% of the dataset\n",
    "\n",
    "##### Next steps:\n",
    "\n",
    "- Try the goodreads ID numbers - refer below to the test.txt data to see how they appear in the OL data. Will need to pull them out of the GR data > take a string of numbers of any length proceeded by '/work/editions/'\n",
    "\n",
    "- Make sure merge works with that identifier--should be the same as using ISBNs once cleaned\n",
    "\n",
    "- Check what isn't merging -- are the books weird? Do those titles appear in OL but with a different identifier? Do they not appear in OL at all? Can they be pulled through the OL package rather than the bulk file?"
   ]
  },
  {
   "cell_type": "markdown",
   "metadata": {},
   "source": [
    "### Goodreads ID Merge"
   ]
  },
  {
   "cell_type": "code",
   "execution_count": 78,
   "metadata": {},
   "outputs": [],
   "source": [
    "## Take ISBN numbers from Goodreads dataset\n",
    "gr_id_list = gr.gr_id.to_list()\n",
    "gr_patt = re.compile(\"(?<=goodreads\\\": \\[\\\")[0-9]+\")"
   ]
  },
  {
   "cell_type": "code",
   "execution_count": 79,
   "metadata": {},
   "outputs": [],
   "source": [
    "## Pull appropriate key values from json file\n",
    "keys = [\"identifiers\", \"isbn_13\", \"title\", \"genres\", \"subjects\"]\n",
    "ol_vec = []\n",
    "\n",
    "with open('../data/edition_json.txt') as json_file:\n",
    "    for line in json_file:\n",
    "        if (re.search('\\\"goodreads\\\"', line) != None): \n",
    "            if gr_patt.search(line) != None:\n",
    "                gr_num = gr_patt.search(line)[0]\n",
    "                if gr_num in gr_id_list:\n",
    "                    l = [json.loads(line).get(key) for key in keys]\n",
    "                    ol_vec.append(l)"
   ]
  },
  {
   "cell_type": "code",
   "execution_count": 84,
   "metadata": {},
   "outputs": [],
   "source": [
    "## Convert open library list to dataframe with properly formatted ISBN numbers\n",
    "ol_df = pd.DataFrame(ol_vec, columns = keys)"
   ]
  },
  {
   "cell_type": "code",
   "execution_count": 85,
   "metadata": {},
   "outputs": [],
   "source": [
    "gr_vec = []\n",
    "\n",
    "for i in range(len(ol_df)):\n",
    "    gr_vec.append(ol_df.identifiers[i][\"goodreads\"][0])\n",
    "    \n",
    "ol_df[\"gr_id\"] = gr_vec\n",
    "#ol_df.drop(columns = \"identifiers\", inplace = True)"
   ]
  },
  {
   "cell_type": "code",
   "execution_count": 87,
   "metadata": {},
   "outputs": [],
   "source": [
    "merge_check = gr.merge(ol_df, on = 'gr_id')\n",
    "#merge_check"
   ]
  },
  {
   "cell_type": "code",
   "execution_count": 90,
   "metadata": {},
   "outputs": [],
   "source": [
    "gr_merge = gr.merge(ol_df, how = 'left', on = 'gr_id')\n",
    "#gr_merge"
   ]
  },
  {
   "cell_type": "code",
   "execution_count": null,
   "metadata": {},
   "outputs": [],
   "source": []
  },
  {
   "cell_type": "code",
   "execution_count": null,
   "metadata": {},
   "outputs": [],
   "source": []
  },
  {
   "cell_type": "code",
   "execution_count": null,
   "metadata": {},
   "outputs": [],
   "source": []
  },
  {
   "cell_type": "code",
   "execution_count": null,
   "metadata": {},
   "outputs": [],
   "source": []
  },
  {
   "cell_type": "code",
   "execution_count": null,
   "metadata": {},
   "outputs": [],
   "source": []
  },
  {
   "cell_type": "markdown",
   "metadata": {},
   "source": [
    "## Scratch/checking"
   ]
  },
  {
   "cell_type": "code",
   "execution_count": 19,
   "metadata": {},
   "outputs": [],
   "source": [
    "## Pull appropriate key values from json file\n",
    "keys = [\"identifiers\", \"isbn_13\", \"title\", \"subjects\"]\n",
    "ol = []\n",
    "\n",
    "with open('../data/test.txt') as json_file:\n",
    "    for line in json_file:\n",
    "        if (re.search('\\\"goodreads\\\"', line) != None): \n",
    "            if gr_patt.search(line) != None:\n",
    "                l = [json.loads(line).get(key) for key in keys]\n",
    "                ol.append(l)"
   ]
  },
  {
   "cell_type": "code",
   "execution_count": 21,
   "metadata": {},
   "outputs": [
    {
     "data": {
      "text/html": [
       "<div>\n",
       "<style scoped>\n",
       "    .dataframe tbody tr th:only-of-type {\n",
       "        vertical-align: middle;\n",
       "    }\n",
       "\n",
       "    .dataframe tbody tr th {\n",
       "        vertical-align: top;\n",
       "    }\n",
       "\n",
       "    .dataframe thead th {\n",
       "        text-align: right;\n",
       "    }\n",
       "</style>\n",
       "<table border=\"1\" class=\"dataframe\">\n",
       "  <thead>\n",
       "    <tr style=\"text-align: right;\">\n",
       "      <th></th>\n",
       "      <th>0</th>\n",
       "      <th>1</th>\n",
       "      <th>2</th>\n",
       "      <th>3</th>\n",
       "    </tr>\n",
       "  </thead>\n",
       "  <tbody>\n",
       "    <tr>\n",
       "      <th>0</th>\n",
       "      <td>{'goodreads': ['6850240']}</td>\n",
       "      <td>[9780107805401]</td>\n",
       "      <td>Parliamentary Debates, House of Lords, Bound V...</td>\n",
       "      <td>[Government - Comparative, Politics / Current ...</td>\n",
       "    </tr>\n",
       "    <tr>\n",
       "      <th>1</th>\n",
       "      <td>{'goodreads': ['2862283']}</td>\n",
       "      <td>[9780107805852]</td>\n",
       "      <td>Parliamentary Debates, House of Lords, 1997-98</td>\n",
       "      <td>[Bibliographies, catalogues, discographies, PO...</td>\n",
       "    </tr>\n",
       "    <tr>\n",
       "      <th>2</th>\n",
       "      <td>{'goodreads': ['3140331']}</td>\n",
       "      <td>None</td>\n",
       "      <td>Helping kids resolve conflicts without violence</td>\n",
       "      <td>[Violence in children -- Prevention., Children...</td>\n",
       "    </tr>\n",
       "  </tbody>\n",
       "</table>\n",
       "</div>"
      ],
      "text/plain": [
       "                            0                1  \\\n",
       "0  {'goodreads': ['6850240']}  [9780107805401]   \n",
       "1  {'goodreads': ['2862283']}  [9780107805852]   \n",
       "2  {'goodreads': ['3140331']}             None   \n",
       "\n",
       "                                                   2  \\\n",
       "0  Parliamentary Debates, House of Lords, Bound V...   \n",
       "1     Parliamentary Debates, House of Lords, 1997-98   \n",
       "2    Helping kids resolve conflicts without violence   \n",
       "\n",
       "                                                   3  \n",
       "0  [Government - Comparative, Politics / Current ...  \n",
       "1  [Bibliographies, catalogues, discographies, PO...  \n",
       "2  [Violence in children -- Prevention., Children...  "
      ]
     },
     "execution_count": 21,
     "metadata": {},
     "output_type": "execute_result"
    }
   ],
   "source": [
    "pd.DataFrame(ol)"
   ]
  },
  {
   "cell_type": "code",
   "execution_count": 1,
   "metadata": {
    "scrolled": true
   },
   "outputs": [
    {
     "name": "stdout",
     "output_type": "stream",
     "text": [
      "{\"publishers\": [\"Bernan Press\"], \"physical_format\": \"Hardcover\", \"subtitle\": \"9th November - 3rd December, 1992\", \"key\": \"/books/OL10000135M\", \"title\": \"Parliamentary Debates, House of Lords, Bound Volumes, 1992-93\", \"identifiers\": {\"goodreads\": [\"6850240\"]}, \"isbn_13\": [\"9780107805401\"], \"languages\": [{\"key\": \"/languages/eng\"}], \"number_of_pages\": 64, \"isbn_10\": [\"0107805405\"], \"publish_date\": \"December 1993\", \"last_modified\": {\"type\": \"/type/datetime\", \"value\": \"2010-04-24T17:54:01.503315\"}, \"authors\": [{\"key\": \"/authors/OL2645777A\"}], \"latest_revision\": 4, \"works\": [{\"key\": \"/works/OL7925046W\"}], \"type\": {\"key\": \"/type/edition\"}, \"subjects\": [\"Government - Comparative\", \"Politics / Current Events\"], \"revision\": 4}\n",
      "\n",
      "{\"publishers\": [\"Stationery Office\"], \"physical_format\": \"Hardcover\", \"subtitle\": \"26 January - 4 February 1998\", \"title\": \"Parliamentary Debates, House of Lords, 1997-98\", \"isbn_10\": [\"0107805855\"], \"identifiers\": {\"goodreads\": [\"2862283\"]}, \"isbn_13\": [\"9780107805852\"], \"edition_name\": \"5th edition\", \"languages\": [{\"key\": \"/languages/eng\"}], \"number_of_pages\": 124, \"last_modified\": {\"type\": \"/type/datetime\", \"value\": \"2010-04-24T17:54:01.503315\"}, \"latest_revision\": 4, \"key\": \"/books/OL10000179M\", \"authors\": [{\"key\": \"/authors/OL2645811A\"}], \"publish_date\": \"January 1999\", \"works\": [{\"key\": \"/works/OL7925994W\"}], \"type\": {\"key\": \"/type/edition\"}, \"subjects\": [\"Bibliographies, catalogues, discographies\", \"POLITICS & GOVERNMENT\", \"Reference works\", \"Bibliographies & Indexes\", \"Reference\"], \"revision\": 4}\n",
      "\n",
      "{\"publishers\": [\"Stationery Office Books\"], \"physical_format\": \"Paperback\", \"key\": \"/books/OL10000276M\", \"created\": {\"type\": \"/type/datetime\", \"value\": \"2008-04-30T09:38:13.731961\"}, \"oclc_numbers\": [\"314807776\"], \"number_of_pages\": 12, \"isbn_13\": [\"9780108360374\"], \"isbn_10\": [\"0108360377\"], \"publish_date\": \"July 1997\", \"last_modified\": {\"type\": \"/type/datetime\", \"value\": \"2019-11-11T05:58:29.442660\"}, \"authors\": [{\"key\": \"/authors/OL2656742A\"}], \"title\": \"Local Government (Contracts) Bill (House of Lords Bills)\", \"latest_revision\": 4, \"works\": [{\"key\": \"/works/OL14889681W\"}], \"type\": {\"key\": \"/type/edition\"}, \"subjects\": [\"English law: contract law\"], \"revision\": 4}\n",
      "\n",
      "{\"number_of_pages\": 19, \"series\": [\"Resources for parenting\", \"Johnson Institute resources for parenting.\"], \"covers\": [3857213], \"lc_classifications\": [\"HQ784.V55 R45 1997\"], \"latest_revision\": 4, \"title\": \"Helping kids resolve conflicts without violence\", \"languages\": [{\"key\": \"/languages/eng\"}], \"subjects\": [\"Violence in children -- Prevention.\", \"Children and violence.\", \"Conflict management.\"], \"publish_country\": \"mnu\", \"by_statement\": \"Carole Remboldt.\", \"type\": {\"key\": \"/type/edition\"}, \"revision\": 4, \"publishers\": [\"Johnson Institute\"], \"last_modified\": {\"type\": \"/type/datetime\", \"value\": \"2010-04-15T13:55:56.096159\"}, \"key\": \"/books/OL1000071M\", \"authors\": [{\"key\": \"/authors/OL454282A\"}], \"publish_places\": [\"Minneapolis, MN\"], \"pagination\": \"19 p. ;\", \"created\": {\"type\": \"/type/datetime\", \"value\": \"2008-04-01T03:28:50.625462\"}, \"dewey_decimal_class\": [\"303.6/9\"], \"notes\": {\"type\": \"/type/text\", \"value\": \"Filmography: p. 18-19.\\nIncludes bibliographical references (p. 17-18).\"}, \"identifiers\": {\"goodreads\": [\"3140331\"]}, \"lccn\": [\"96038951\"], \"isbn_10\": [\"1562461397\"], \"publish_date\": \"1997\", \"works\": [{\"key\": \"/works/OL2971512W\"}]}\n",
      "\n",
      "{\"publishers\": [\"Stationery Office Books\"], \"physical_format\": \"Paperback\", \"key\": \"/books/OL10001086M\", \"created\": {\"type\": \"/type/datetime\", \"value\": \"2008-04-30T09:38:13.731961\"}, \"oclc_numbers\": [\"315341122\"], \"number_of_pages\": 4, \"isbn_13\": [\"9780108380280\"], \"isbn_10\": [\"0108380289\"], \"publish_date\": \"March 1999\", \"last_modified\": {\"type\": \"/type/datetime\", \"value\": \"2019-11-11T06:03:04.907856\"}, \"authors\": [{\"key\": \"/authors/OL2656742A\"}], \"title\": \"Scottish Enterprise Bill (House of Lords Bills)\", \"latest_revision\": 4, \"works\": [{\"key\": \"/works/OL14901366W\"}], \"type\": {\"key\": \"/type/edition\"}, \"subjects\": [\"Laws of Other Jurisdictions & General Law\"], \"revision\": 4}\n",
      "\n",
      "{\"publishers\": [\"Stationery Office Books\"], \"key\": \"/books/OL10001129M\", \"created\": {\"type\": \"/type/datetime\", \"value\": \"2008-04-30T09:38:13.731961\"}, \"number_of_pages\": 84, \"isbn_13\": [\"9780108380723\"], \"physical_format\": \"Paperback\", \"isbn_10\": [\"0108380726\"], \"publish_date\": \"July 2, 1999\", \"last_modified\": {\"type\": \"/type/datetime\", \"value\": \"2019-11-11T06:03:05.353248\"}, \"authors\": [{\"key\": \"/authors/OL2656742A\"}], \"title\": \"Access to Justice Bill [H.L.]\", \"latest_revision\": 4, \"works\": [{\"key\": \"/works/OL14903239W\"}], \"type\": {\"key\": \"/type/edition\"}, \"oclc_numbers\": [\"315341156\"], \"revision\": 4}\n",
      "\n",
      "{\"publishers\": [\"Stationery Office Books\"], \"key\": \"/books/OL10001165M\", \"created\": {\"type\": \"/type/datetime\", \"value\": \"2008-04-30T09:38:13.731961\"}, \"number_of_pages\": 24, \"isbn_13\": [\"9780108383519\"], \"physical_format\": \"Paperback\", \"isbn_10\": [\"0108383512\"], \"publish_date\": \"February 4, 1999\", \"last_modified\": {\"type\": \"/type/datetime\", \"value\": \"2019-11-11T06:03:05.735439\"}, \"authors\": [{\"key\": \"/authors/OL2656742A\"}], \"title\": \"Access to Justice Bill [H.L.]\", \"latest_revision\": 4, \"works\": [{\"key\": \"/works/OL14903239W\"}], \"type\": {\"key\": \"/type/edition\"}, \"oclc_numbers\": [\"315341156\"], \"revision\": 4}\n",
      "\n",
      "{\"publishers\": [\"Stationery Office Books\"], \"physical_format\": \"Paperback\", \"key\": \"/books/OL10001323M\", \"source_records\": [\"amazon:0108385140\"], \"title\": \"Tax Credits Bill\", \"number_of_pages\": 4, \"created\": {\"type\": \"/type/datetime\", \"value\": \"2008-04-30T09:38:13.731961\"}, \"isbn_13\": [\"9780108385148\"], \"isbn_10\": [\"0108385140\"], \"publish_date\": \"May 28, 1999\", \"last_modified\": {\"type\": \"/type/datetime\", \"value\": \"2019-09-09T00:54:22.454325\"}, \"authors\": [{\"key\": \"/authors/OL2656742A\"}], \"latest_revision\": 4, \"oclc_numbers\": [\"315361052\"], \"works\": [{\"key\": \"/works/OL14903211W\"}], \"type\": {\"key\": \"/type/edition\"}, \"revision\": 4}\n",
      "\n",
      "{\"publishers\": [\"Stationery Office Books\"], \"key\": \"/books/OL10002595M\", \"created\": {\"type\": \"/type/datetime\", \"value\": \"2008-04-30T09:38:13.731961\"}, \"number_of_pages\": 4, \"isbn_13\": [\"9780108738838\"], \"physical_format\": \"Paperback\", \"isbn_10\": [\"0108738833\"], \"publish_date\": \"December 31, 1992\", \"last_modified\": {\"type\": \"/type/datetime\", \"value\": \"2019-11-11T06:05:58.896168\"}, \"authors\": [{\"key\": \"/authors/OL2656742A\"}], \"title\": \"British Coal and British Rail (Transfer Proposals) Bill\", \"latest_revision\": 3, \"works\": [{\"key\": \"/works/OL14899858W\"}], \"type\": {\"key\": \"/type/edition\"}, \"revision\": 3}\n",
      "\n",
      "{\"publishers\": [\"Stationery Office Books\"], \"key\": \"/books/OL10002616M\", \"created\": {\"type\": \"/type/datetime\", \"value\": \"2008-04-30T09:38:13.731961\"}, \"number_of_pages\": 24, \"isbn_13\": [\"9780108739453\"], \"physical_format\": \"Paperback\", \"isbn_10\": [\"0108739457\"], \"publish_date\": \"May 19, 1995\", \"last_modified\": {\"type\": \"/type/datetime\", \"value\": \"2019-11-11T06:05:59.341916\"}, \"authors\": [{\"key\": \"/authors/OL2656742A\"}], \"title\": \"Jobseekers Bill [H.L.]\", \"latest_revision\": 4, \"works\": [{\"key\": \"/works/OL14903262W\"}], \"type\": {\"key\": \"/type/edition\"}, \"oclc_numbers\": [\"316186068\"], \"revision\": 4}\n",
      "\n"
     ]
    }
   ],
   "source": [
    "keys = [\"isbn_13\", \"title\", \"subjects\"]\n",
    "dat = []\n",
    "\n",
    "count = 0\n",
    "\n",
    "with open('../data/test.txt') as json_file:\n",
    "    for line in json_file:\n",
    "        print(line)\n",
    "\n"
   ]
  },
  {
   "cell_type": "code",
   "execution_count": 125,
   "metadata": {
    "scrolled": true
   },
   "outputs": [
    {
     "data": {
      "text/plain": [
       "[[None,\n",
       "  'colonização italiano no Vale do Itajaí-Mirim',\n",
       "  ['Italians -- Brazil -- Itajaí-Mirim River Valley',\n",
       "   'Italians -- Brazil',\n",
       "   'Itajaí-Mirim River Valley (Brazil) -- History']]]"
      ]
     },
     "execution_count": 125,
     "metadata": {},
     "output_type": "execute_result"
    }
   ],
   "source": [
    "keys = [\"isbn_13\", \"title\", \"subjects\"]\n",
    "dat = []\n",
    "\n",
    "with open('../data/test.txt') as json_file:\n",
    "    for line in json_file:\n",
    "        l = [json.loads(line).get(key) for key in keys]\n",
    "        dat.append(l)\n",
    "\n",
    "dat"
   ]
  },
  {
   "cell_type": "code",
   "execution_count": 155,
   "metadata": {},
   "outputs": [],
   "source": [
    "data = []\n",
    "with open('../data/test.txt') as f:\n",
    "    for line in f:\n",
    "        data.append(json.loads(line))"
   ]
  },
  {
   "cell_type": "code",
   "execution_count": 156,
   "metadata": {},
   "outputs": [
    {
     "data": {
      "text/plain": [
       "[{'publishers': ['Bernan Press'],\n",
       "  'physical_format': 'Hardcover',\n",
       "  'subtitle': '9th November - 3rd December, 1992',\n",
       "  'key': '/books/OL10000135M',\n",
       "  'title': 'Parliamentary Debates, House of Lords, Bound Volumes, 1992-93',\n",
       "  'identifiers': {'goodreads': ['6850240']},\n",
       "  'isbn_13': ['9780107805401'],\n",
       "  'languages': [{'key': '/languages/eng'}],\n",
       "  'number_of_pages': 64,\n",
       "  'isbn_10': ['0107805405'],\n",
       "  'publish_date': 'December 1993',\n",
       "  'last_modified': {'type': '/type/datetime',\n",
       "   'value': '2010-04-24T17:54:01.503315'},\n",
       "  'authors': [{'key': '/authors/OL2645777A'}],\n",
       "  'latest_revision': 4,\n",
       "  'works': [{'key': '/works/OL7925046W'}],\n",
       "  'type': {'key': '/type/edition'},\n",
       "  'subjects': ['Government - Comparative', 'Politics / Current Events'],\n",
       "  'revision': 4},\n",
       " {'publishers': ['Stationery Office'],\n",
       "  'physical_format': 'Hardcover',\n",
       "  'subtitle': '26 January - 4 February 1998',\n",
       "  'title': 'Parliamentary Debates, House of Lords, 1997-98',\n",
       "  'isbn_10': ['0107805855'],\n",
       "  'identifiers': {'goodreads': ['2862283']},\n",
       "  'isbn_13': ['9780107805852'],\n",
       "  'edition_name': '5th edition',\n",
       "  'languages': [{'key': '/languages/eng'}],\n",
       "  'number_of_pages': 124,\n",
       "  'last_modified': {'type': '/type/datetime',\n",
       "   'value': '2010-04-24T17:54:01.503315'},\n",
       "  'latest_revision': 4,\n",
       "  'key': '/books/OL10000179M',\n",
       "  'authors': [{'key': '/authors/OL2645811A'}],\n",
       "  'publish_date': 'January 1999',\n",
       "  'works': [{'key': '/works/OL7925994W'}],\n",
       "  'type': {'key': '/type/edition'},\n",
       "  'subjects': ['Bibliographies, catalogues, discographies',\n",
       "   'POLITICS & GOVERNMENT',\n",
       "   'Reference works',\n",
       "   'Bibliographies & Indexes',\n",
       "   'Reference'],\n",
       "  'revision': 4},\n",
       " {'publishers': ['Stationery Office Books'],\n",
       "  'physical_format': 'Paperback',\n",
       "  'key': '/books/OL10000276M',\n",
       "  'created': {'type': '/type/datetime', 'value': '2008-04-30T09:38:13.731961'},\n",
       "  'oclc_numbers': ['314807776'],\n",
       "  'number_of_pages': 12,\n",
       "  'isbn_13': ['9780108360374'],\n",
       "  'isbn_10': ['0108360377'],\n",
       "  'publish_date': 'July 1997',\n",
       "  'last_modified': {'type': '/type/datetime',\n",
       "   'value': '2019-11-11T05:58:29.442660'},\n",
       "  'authors': [{'key': '/authors/OL2656742A'}],\n",
       "  'title': 'Local Government (Contracts) Bill (House of Lords Bills)',\n",
       "  'latest_revision': 4,\n",
       "  'works': [{'key': '/works/OL14889681W'}],\n",
       "  'type': {'key': '/type/edition'},\n",
       "  'subjects': ['English law: contract law'],\n",
       "  'revision': 4},\n",
       " {'number_of_pages': 19,\n",
       "  'series': ['Resources for parenting',\n",
       "   'Johnson Institute resources for parenting.'],\n",
       "  'covers': [3857213],\n",
       "  'lc_classifications': ['HQ784.V55 R45 1997'],\n",
       "  'latest_revision': 4,\n",
       "  'title': 'Helping kids resolve conflicts without violence',\n",
       "  'languages': [{'key': '/languages/eng'}],\n",
       "  'subjects': ['Violence in children -- Prevention.',\n",
       "   'Children and violence.',\n",
       "   'Conflict management.'],\n",
       "  'publish_country': 'mnu',\n",
       "  'by_statement': 'Carole Remboldt.',\n",
       "  'type': {'key': '/type/edition'},\n",
       "  'revision': 4,\n",
       "  'publishers': ['Johnson Institute'],\n",
       "  'last_modified': {'type': '/type/datetime',\n",
       "   'value': '2010-04-15T13:55:56.096159'},\n",
       "  'key': '/books/OL1000071M',\n",
       "  'authors': [{'key': '/authors/OL454282A'}],\n",
       "  'publish_places': ['Minneapolis, MN'],\n",
       "  'pagination': '19 p. ;',\n",
       "  'created': {'type': '/type/datetime', 'value': '2008-04-01T03:28:50.625462'},\n",
       "  'dewey_decimal_class': ['303.6/9'],\n",
       "  'notes': {'type': '/type/text',\n",
       "   'value': 'Filmography: p. 18-19.\\nIncludes bibliographical references (p. 17-18).'},\n",
       "  'identifiers': {'goodreads': ['3140331']},\n",
       "  'lccn': ['96038951'],\n",
       "  'isbn_10': ['1562461397'],\n",
       "  'publish_date': '1997',\n",
       "  'works': [{'key': '/works/OL2971512W'}]},\n",
       " {'publishers': ['Stationery Office Books'],\n",
       "  'physical_format': 'Paperback',\n",
       "  'key': '/books/OL10001086M',\n",
       "  'created': {'type': '/type/datetime', 'value': '2008-04-30T09:38:13.731961'},\n",
       "  'oclc_numbers': ['315341122'],\n",
       "  'number_of_pages': 4,\n",
       "  'isbn_13': ['9780108380280'],\n",
       "  'isbn_10': ['0108380289'],\n",
       "  'publish_date': 'March 1999',\n",
       "  'last_modified': {'type': '/type/datetime',\n",
       "   'value': '2019-11-11T06:03:04.907856'},\n",
       "  'authors': [{'key': '/authors/OL2656742A'}],\n",
       "  'title': 'Scottish Enterprise Bill (House of Lords Bills)',\n",
       "  'latest_revision': 4,\n",
       "  'works': [{'key': '/works/OL14901366W'}],\n",
       "  'type': {'key': '/type/edition'},\n",
       "  'subjects': ['Laws of Other Jurisdictions & General Law'],\n",
       "  'revision': 4},\n",
       " {'publishers': ['Stationery Office Books'],\n",
       "  'key': '/books/OL10001129M',\n",
       "  'created': {'type': '/type/datetime', 'value': '2008-04-30T09:38:13.731961'},\n",
       "  'number_of_pages': 84,\n",
       "  'isbn_13': ['9780108380723'],\n",
       "  'physical_format': 'Paperback',\n",
       "  'isbn_10': ['0108380726'],\n",
       "  'publish_date': 'July 2, 1999',\n",
       "  'last_modified': {'type': '/type/datetime',\n",
       "   'value': '2019-11-11T06:03:05.353248'},\n",
       "  'authors': [{'key': '/authors/OL2656742A'}],\n",
       "  'title': 'Access to Justice Bill [H.L.]',\n",
       "  'latest_revision': 4,\n",
       "  'works': [{'key': '/works/OL14903239W'}],\n",
       "  'type': {'key': '/type/edition'},\n",
       "  'oclc_numbers': ['315341156'],\n",
       "  'revision': 4},\n",
       " {'publishers': ['Stationery Office Books'],\n",
       "  'key': '/books/OL10001165M',\n",
       "  'created': {'type': '/type/datetime', 'value': '2008-04-30T09:38:13.731961'},\n",
       "  'number_of_pages': 24,\n",
       "  'isbn_13': ['9780108383519'],\n",
       "  'physical_format': 'Paperback',\n",
       "  'isbn_10': ['0108383512'],\n",
       "  'publish_date': 'February 4, 1999',\n",
       "  'last_modified': {'type': '/type/datetime',\n",
       "   'value': '2019-11-11T06:03:05.735439'},\n",
       "  'authors': [{'key': '/authors/OL2656742A'}],\n",
       "  'title': 'Access to Justice Bill [H.L.]',\n",
       "  'latest_revision': 4,\n",
       "  'works': [{'key': '/works/OL14903239W'}],\n",
       "  'type': {'key': '/type/edition'},\n",
       "  'oclc_numbers': ['315341156'],\n",
       "  'revision': 4},\n",
       " {'publishers': ['Stationery Office Books'],\n",
       "  'physical_format': 'Paperback',\n",
       "  'key': '/books/OL10001323M',\n",
       "  'source_records': ['amazon:0108385140'],\n",
       "  'title': 'Tax Credits Bill',\n",
       "  'number_of_pages': 4,\n",
       "  'created': {'type': '/type/datetime', 'value': '2008-04-30T09:38:13.731961'},\n",
       "  'isbn_13': ['9780108385148'],\n",
       "  'isbn_10': ['0108385140'],\n",
       "  'publish_date': 'May 28, 1999',\n",
       "  'last_modified': {'type': '/type/datetime',\n",
       "   'value': '2019-09-09T00:54:22.454325'},\n",
       "  'authors': [{'key': '/authors/OL2656742A'}],\n",
       "  'latest_revision': 4,\n",
       "  'oclc_numbers': ['315361052'],\n",
       "  'works': [{'key': '/works/OL14903211W'}],\n",
       "  'type': {'key': '/type/edition'},\n",
       "  'revision': 4},\n",
       " {'publishers': ['Stationery Office Books'],\n",
       "  'key': '/books/OL10002595M',\n",
       "  'created': {'type': '/type/datetime', 'value': '2008-04-30T09:38:13.731961'},\n",
       "  'number_of_pages': 4,\n",
       "  'isbn_13': ['9780108738838'],\n",
       "  'physical_format': 'Paperback',\n",
       "  'isbn_10': ['0108738833'],\n",
       "  'publish_date': 'December 31, 1992',\n",
       "  'last_modified': {'type': '/type/datetime',\n",
       "   'value': '2019-11-11T06:05:58.896168'},\n",
       "  'authors': [{'key': '/authors/OL2656742A'}],\n",
       "  'title': 'British Coal and British Rail (Transfer Proposals) Bill',\n",
       "  'latest_revision': 3,\n",
       "  'works': [{'key': '/works/OL14899858W'}],\n",
       "  'type': {'key': '/type/edition'},\n",
       "  'revision': 3},\n",
       " {'publishers': ['Stationery Office Books'],\n",
       "  'key': '/books/OL10002616M',\n",
       "  'created': {'type': '/type/datetime', 'value': '2008-04-30T09:38:13.731961'},\n",
       "  'number_of_pages': 24,\n",
       "  'isbn_13': ['9780108739453'],\n",
       "  'physical_format': 'Paperback',\n",
       "  'isbn_10': ['0108739457'],\n",
       "  'publish_date': 'May 19, 1995',\n",
       "  'last_modified': {'type': '/type/datetime',\n",
       "   'value': '2019-11-11T06:05:59.341916'},\n",
       "  'authors': [{'key': '/authors/OL2656742A'}],\n",
       "  'title': 'Jobseekers Bill [H.L.]',\n",
       "  'latest_revision': 4,\n",
       "  'works': [{'key': '/works/OL14903262W'}],\n",
       "  'type': {'key': '/type/edition'},\n",
       "  'oclc_numbers': ['316186068'],\n",
       "  'revision': 4}]"
      ]
     },
     "execution_count": 156,
     "metadata": {},
     "output_type": "execute_result"
    }
   ],
   "source": [
    "data"
   ]
  },
  {
   "cell_type": "code",
   "execution_count": 154,
   "metadata": {
    "scrolled": true
   },
   "outputs": [
    {
     "data": {
      "text/plain": [
       "[[['9780107805401'],\n",
       "  'Parliamentary Debates, House of Lords, Bound Volumes, 1992-93',\n",
       "  ['Government - Comparative', 'Politics / Current Events'],\n",
       "  None],\n",
       " [['9780107805852'],\n",
       "  'Parliamentary Debates, House of Lords, 1997-98',\n",
       "  ['Bibliographies, catalogues, discographies',\n",
       "   'POLITICS & GOVERNMENT',\n",
       "   'Reference works',\n",
       "   'Bibliographies & Indexes',\n",
       "   'Reference'],\n",
       "  None],\n",
       " [['9780108360374'],\n",
       "  'Local Government (Contracts) Bill (House of Lords Bills)',\n",
       "  ['English law: contract law'],\n",
       "  None],\n",
       " [None,\n",
       "  'Helping kids resolve conflicts without violence',\n",
       "  ['Violence in children -- Prevention.',\n",
       "   'Children and violence.',\n",
       "   'Conflict management.'],\n",
       "  None],\n",
       " [['9780108380280'],\n",
       "  'Scottish Enterprise Bill (House of Lords Bills)',\n",
       "  ['Laws of Other Jurisdictions & General Law'],\n",
       "  None]]"
      ]
     },
     "execution_count": 154,
     "metadata": {},
     "output_type": "execute_result"
    }
   ],
   "source": [
    "keys = [\"isbn_13\", \"title\", \"subjects\", \"source_records\"]\n",
    "dat = []\n",
    "\n",
    "with open('../data/test.txt') as json_file:\n",
    "    for line in json_file:\n",
    "        if re.search(re.compile('subject'), line) != None:\n",
    "            l = [json.loads(line).get(key) for key in keys]\n",
    "            dat.append(l)\n",
    "\n",
    "dat"
   ]
  },
  {
   "cell_type": "code",
   "execution_count": null,
   "metadata": {},
   "outputs": [],
   "source": []
  },
  {
   "cell_type": "code",
   "execution_count": null,
   "metadata": {},
   "outputs": [],
   "source": []
  },
  {
   "cell_type": "code",
   "execution_count": null,
   "metadata": {},
   "outputs": [],
   "source": []
  }
 ],
 "metadata": {
  "kernelspec": {
   "display_name": "Python 3",
   "language": "python",
   "name": "python3"
  },
  "language_info": {
   "codemirror_mode": {
    "name": "ipython",
    "version": 3
   },
   "file_extension": ".py",
   "mimetype": "text/x-python",
   "name": "python",
   "nbconvert_exporter": "python",
   "pygments_lexer": "ipython3",
   "version": "3.8.3"
  }
 },
 "nbformat": 4,
 "nbformat_minor": 4
}
