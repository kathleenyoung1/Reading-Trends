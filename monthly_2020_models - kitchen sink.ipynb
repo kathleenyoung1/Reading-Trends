{
 "cells": [
  {
   "cell_type": "markdown",
   "metadata": {},
   "source": [
    "Intro: The idea behind this approach was to take all the 2018-2019 data and use it to build a seperate model for each 2020 period. Differences in the overall accuracy of each model as well as shifts in the importance of different features to the model might indicate COVID-related change. \n",
    "\n",
    "This approach initially seemed pretty promising. The kitchen sink model (the model built on all available features) assigned the highest correlation coefficients to features which appeared highly topical, primarily author names: Ibram X. Kendi and Ta-Nehisi Coates during the height of the Black Lives Matter Protests, Sally Rooney as Normal People was released as a television series, Jeanine Cummins while American Dirt recieved significant press attention. Based on that model, it appeared that monthly review counts would be best predicted by understanding pop cultural trends at that moment rather than overall historical trends. The correlation matrix (in the feature selection notebook) supported the assumption that historical review counts would be less important. It seemed like we were going to find something very cool! \n",
    "\n",
    "However, the feature selection testing was a damp towel. For this process, I started with the baseline model and tested the impact of adding new features one at a time. Every single feature addition degraded model performance: we ended up right back at the baseline model. That model is exciting in that it performs fairly well, but it is of minimal use in analyzing 2020 trends. With potentially topical features no longer included, I'm not sure that the approach of building seperate models for each 2020 month is still viable. It might be best to drop the approach entirely, although taking a more granualr approach to feature selection could also make sense. "
   ]
  },
  {
   "cell_type": "code",
   "execution_count": 8,
   "metadata": {},
   "outputs": [],
   "source": [
    "import datetime\n",
    "import numpy as np\n",
    "import pandas as pd\n",
    "\n",
    "import aggregator as ag\n",
    "import monthly_modeler as mm"
   ]
  },
  {
   "cell_type": "code",
   "execution_count": 9,
   "metadata": {},
   "outputs": [],
   "source": [
    "#data_file_name_review = \"distributed_data_collection/databases/review_data_sample.csv\"\n",
    "#data_file_name_book = \"distributed_data_collection/databases/book_data_sample.csv\"\n",
    "\n",
    "data_file_name_review = \"distributed_data_collection/databases/review_data.csv\"\n",
    "data_file_name_book = \"distributed_data_collection/databases/book_data.csv\"\n",
    "data_file_name_subject = \"subject_matching/data/sub_feat_all.csv\"\n",
    "\n",
    "start_date = datetime.datetime(2018, 1, 1)\n",
    "end_date = datetime.datetime(2020, 9, 30)\n",
    "\n",
    "#book_columns = [\"num_reviews\", \"num_ratings\", \"avg_rating\"] #BASELINE\n",
    "book_columns = [\"num_reviews\", \"num_ratings\", \"avg_rating\", \"book_language\", \"series\", \"book_author\"]"
   ]
  },
  {
   "cell_type": "markdown",
   "metadata": {},
   "source": [
    "Theoretically, we could test against multiple grains (ie, day, week, month, quarter). However, I am only working with month. I ruled out the quarterly grain because it wouldn't include enough 2020 time periods to observe a trend in model performance over time. Then because the maximum monthly review counts were in the seventies, I didn't feel I could split those further.\n",
    "\n",
    "I want to drop binary feature columns which have a small number of values. The linear regression regularization will do a rigorous feature selection, so this step is mostly to reduce the amount of data that it has to process."
   ]
  },
  {
   "cell_type": "code",
   "execution_count": 10,
   "metadata": {},
   "outputs": [
    {
     "name": "stdout",
     "output_type": "stream",
     "text": [
      "Aggregator Initiated.\n",
      "Processing Scraper Output...\n",
      "Cleaning Author Data...\n",
      "Author Data Cleaned...\n",
      "Scraper Output Processed.\n",
      "Cleaning Subject Data...\n",
      "Subject Data Cleaned\n",
      "Aggregating Review Data...\n",
      "Review Data Aggregated.\n",
      "Merging Book Data...\n",
      "Book Data Merged.\n",
      "Merging Subject Data...\n",
      "Subject Data Merged.\n",
      "Applying Sparsity Filter...\n",
      "Dropped 8,768/12,297 columns. 3,529 columns remaining.\n"
     ]
    }
   ],
   "source": [
    "data_aggregator = ag.Aggregator(data_file_name_review, data_file_name_book, book_columns, start_date, end_date, \"month\", clean_authors = True, subject_file = data_file_name_subject)\n",
    "data_aggregator.aggregate(\"by_book\")\n",
    "data_aggregator.sparsity_filter(2)\n",
    "\n",
    "time_periods_post = data_aggregator.get_annual_time_periods(2020)\n",
    "data_train, data_test = data_aggregator.get_train_test_split(0.75)"
   ]
  },
  {
   "cell_type": "markdown",
   "metadata": {},
   "source": [
    "We want to iterate through: logorithmic transformation, regularization type, and alpha value. For the moment, I am turning logorithmic transformation off. It's pretty clear that it has no impact, and I don't want to keep running it while I experiment with other aspects of the modeling process."
   ]
  },
  {
   "cell_type": "code",
   "execution_count": 11,
   "metadata": {},
   "outputs": [],
   "source": [
    "#alpha_list = [1] #BASELINE\n",
    "alpha_list = [np.log2(x) for x in range(2,11)] + [5, 10]\n",
    "\n",
    "#regression_types_list = [\"linear\"] #BASELINE\n",
    "regression_types_list = [\"linear\", \"ridge\", \"lasso\"]\n",
    "\n",
    "#is_log_options = [False, True]\n",
    "is_log_options = [False] "
   ]
  },
  {
   "cell_type": "markdown",
   "metadata": {},
   "source": [
    "Here goes on modeling! We will select the best model for each time period based on MSE. The performance df captures the overall predictiveness of pre-period data on post-period data. We expect to see declines due to concept drift. Sharp dropoffs in performance might suggest larger changes in reading trends."
   ]
  },
  {
   "cell_type": "code",
   "execution_count": 12,
   "metadata": {},
   "outputs": [
    {
     "name": "stdout",
     "output_type": "stream",
     "text": [
      "10/207 models processed\n",
      "20/207 models processed\n",
      "30/207 models processed\n",
      "40/207 models processed\n",
      "50/207 models processed\n",
      "60/207 models processed\n",
      "70/207 models processed\n",
      "80/207 models processed\n",
      "90/207 models processed\n",
      "100/207 models processed\n",
      "110/207 models processed\n",
      "120/207 models processed\n",
      "130/207 models processed\n",
      "140/207 models processed\n",
      "150/207 models processed\n",
      "160/207 models processed\n",
      "170/207 models processed\n",
      "180/207 models processed\n",
      "190/207 models processed\n",
      "200/207 models processed\n",
      "207/207 models processed\n",
      "  post_period regression_type is_log  alpha  mse_test  r2_train  r2_test\n",
      "0     2020-01           ridge  False  1.000     2.961     0.801    0.774\n",
      "1     2020-02           ridge  False  1.000     1.785     0.724    0.685\n",
      "2     2020-03           ridge  False  1.000     1.978     0.719    0.657\n",
      "3     2020-04           ridge  False  1.000     3.500     0.777    0.688\n",
      "4     2020-05           ridge  False  1.000     5.775     0.728    0.574\n",
      "5     2020-06           ridge  False  1.000     5.912     0.655    0.465\n",
      "6     2020-07           ridge  False  1.585     4.301     0.644    0.509\n",
      "7     2020-08           ridge  False  1.000     2.804     0.656    0.550\n",
      "8     2020-09           ridge  False  2.000     2.320     0.598    0.494\n"
     ]
    }
   ],
   "source": [
    "regression_processor = mm.Regression_Processor(data_train, data_test, time_periods_post, regression_types_list, is_log_options, alpha_list)\n",
    "performance_df, model_dict = regression_processor.get_optimal_models()\n",
    "\n",
    "print(performance_df.round(3))"
   ]
  },
  {
   "cell_type": "markdown",
   "metadata": {},
   "source": [
    "This is where it's really at! Understanding what features are most important to each model can help us understand the drivers of reading in each period."
   ]
  },
  {
   "cell_type": "code",
   "execution_count": 13,
   "metadata": {},
   "outputs": [
    {
     "name": "stdout",
     "output_type": "stream",
     "text": [
      "                                  review_count 2020-01\n",
      "feature_name                                          \n",
      "book_author_Jeanine Cummins                   5.423814\n",
      "series_Alex Stern                             4.766100\n",
      "book_author_Liz Moore                         4.275013\n",
      "book_author_Yann Martel                       3.943007\n",
      "book_author_Audrey Niffenegger                3.867277\n",
      "book_author_Casey McQuiston                   3.051278\n",
      "book_author_Rupi Kaur                        -3.005963\n",
      "book_author_Carmen Maria Machado              2.424067\n",
      "book_author_Taylor Jenkins Reid               2.413233\n",
      "book_author_Denise Mina                       2.355408\n",
      "                                  review_count 2020-02\n",
      "feature_name                                          \n",
      "book_author_Jeanine Cummins                   5.670953\n",
      "book_author_Josie Silver                      3.812715\n",
      "book_author_Liz Moore                         2.935117\n",
      "book_author_Erica Bauermeister                2.704322\n",
      "book_author_Malcolm Gladwell                  2.702519\n",
      "series_The Hate U Give                       -2.639259\n",
      "book_author_Angie Thomas                     -2.639259\n",
      "book_author_Rupi Kaur                        -2.415523\n",
      "book_author_J. Courtney Sullivan              2.388280\n",
      "series_The Grave Kingdom                      2.310763\n",
      "                                review_count 2020-03\n",
      "feature_name                                        \n",
      "series_Crescent City                        6.051842\n",
      "book_author_Josie Silver                    5.334629\n",
      "book_author_Jeanine Cummins                 4.329906\n",
      "book_author_Glennon Doyle                   3.849507\n",
      "book_author_Erik Larson                     3.714321\n",
      "series_Truly Devious                        2.589686\n",
      "book_author_Rupi Kaur                       2.499631\n",
      "book_author_Liz Moore                       2.415892\n",
      "book_author_Audrey Niffenegger              2.414029\n",
      "book_author_Angie  Kim                      2.208826\n",
      "                                review_count 2020-04\n",
      "feature_name                                        \n",
      "book_author_Glennon Doyle                  12.114376\n",
      "book_author_Josie Silver                    9.250990\n",
      "book_author_Jeanine Cummins                 6.805325\n",
      "book_author_Barbara O'Neal                  3.747450\n",
      "series_Crescent City                        3.715393\n",
      "series_Blood and Ash                        3.577730\n",
      "book_author_Audrey Niffenegger              3.441593\n",
      "book_author_Curtis Sittenfeld               3.426650\n",
      "book_author_Rupi Kaur                       3.172308\n",
      "book_author_Erik Larson                     3.007887\n",
      "                               review_count 2020-05\n",
      "feature_name                                       \n",
      "book_author_Glennon Doyle                 11.532218\n",
      "book_author_Curtis Sittenfeld              7.354585\n",
      "book_author_Emma Straub                    6.896576\n",
      "book_author_Jeanine Cummins                6.392460\n",
      "book_author_Sue Monk Kidd                  4.470520\n",
      "book_author_Jennifer Probst                3.892391\n",
      "series_Blood and Ash                       3.744931\n",
      "book_author_Erik Larson                    3.647799\n",
      "series_The Henna Artist                    3.567918\n",
      "book_author_Alka Joshi                     3.567918\n",
      "                                review_count 2020-06\n",
      "feature_name                                        \n",
      "book_author_Ibram X. Kendi                 16.295683\n",
      "book_author_Brit Bennett                   13.207885\n",
      "book_author_Glennon Doyle                   8.727423\n",
      "book_author_Jeanine Cummins                 7.688775\n",
      "book_author_Michelle Alexander              5.652610\n",
      "book_author_Trevor Noah                     5.117462\n",
      "book_author_Ta-Nehisi Coates                4.985527\n",
      "book_author_Bryan Stevenson                 3.822173\n",
      "subject_migr                                3.647943\n",
      "book_author_Audrey Niffenegger              3.619476\n",
      "                                  review_count 2020-07\n",
      "feature_name                                          \n",
      "book_author_Brit Bennett                     10.901442\n",
      "book_author_Glennon Doyle                     8.129433\n",
      "book_author_Ibram X. Kendi                    4.944340\n",
      "book_author_Jeanine Cummins                   4.706721\n",
      "book_author_J. Courtney Sullivan              4.148517\n",
      "book_author_Curtis Sittenfeld                 3.729938\n",
      "book_author_Barbara  Davis                    3.201057\n",
      "book_author_Bryan Stevenson                   2.956428\n",
      "book_author_Lucy Foley                        2.618865\n",
      "book_author_Michelle Obama                    2.549105\n",
      "                               review_count 2020-08\n",
      "feature_name                                       \n",
      "book_author_Brit Bennett                   8.514919\n",
      "book_author_Glennon Doyle                  6.064904\n",
      "book_author_Barbara  Davis                 5.962142\n",
      "book_author_Jeanine Cummins                5.489287\n",
      "book_author_Ibram X. Kendi                 5.294532\n",
      "series_The Twilight Saga                   4.947658\n",
      "series_1 likes                             4.352168\n",
      "book_author_Akwaeke Emezi                  3.567228\n",
      "book_author_Mary Ellen Taylor              3.428007\n",
      "book_author_Lucy Foley                     3.231497\n",
      "                               review_count 2020-09\n",
      "feature_name                                       \n",
      "book_author_Glennon Doyle                  4.877778\n",
      "book_author_Brit Bennett                   3.975118\n",
      "series_1 likes                             3.109133\n",
      "book_author_Jeanine Cummins                2.686288\n",
      "book_author_Susanna Clarke                 2.671351\n",
      "series_Blood and Ash                       2.160795\n",
      "book_author_Sariah Wilson                  2.070147\n",
      "book_author_Lucy Foley                     1.875277\n",
      "book_author_Mary Ellen Taylor              1.801303\n",
      "book_author_Beth O'Leary                   1.626205\n"
     ]
    }
   ],
   "source": [
    "coefficient_df = regression_processor.get_coefficient_df()\n",
    "coefficient_df = regression_processor.print_top_coefficients()"
   ]
  },
  {
   "cell_type": "markdown",
   "metadata": {},
   "source": [
    "I also want to understand the relative importance of each historical period. Even if it isn't the main driver, it should give some indication of whether trends are changing."
   ]
  },
  {
   "cell_type": "code",
   "execution_count": 14,
   "metadata": {},
   "outputs": [
    {
     "data": {
      "image/png": "[encoded data removed]",
      "text/plain": [
       "<Figure size 432x288 with 2 Axes>"
      ]
     },
     "metadata": {},
     "output_type": "display_data"
    }
   ],
   "source": [
    "pre_period_importance = regression_processor.get_pre_period_importance()"
   ]
  }
 ],
 "metadata": {
  "kernelspec": {
   "display_name": "Python 3",
   "language": "python",
   "name": "python3"
  },
  "language_info": {
   "codemirror_mode": {
    "name": "ipython",
    "version": 3
   },
   "file_extension": ".py",
   "mimetype": "text/x-python",
   "name": "python",
   "nbconvert_exporter": "python",
   "pygments_lexer": "ipython3",
   "version": "3.7.6"
  }
 },
 "nbformat": 4,
 "nbformat_minor": 4
}
