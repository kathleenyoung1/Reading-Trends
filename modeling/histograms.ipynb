{
 "cells": [
  {
   "cell_type": "code",
   "execution_count": 16,
   "metadata": {},
   "outputs": [],
   "source": [
    "import pandas as pd\n",
    "import matplotlib.pyplot as plt\n",
    "import numpy as np"
   ]
  },
  {
   "cell_type": "code",
   "execution_count": 17,
   "metadata": {},
   "outputs": [
    {
     "data": {
      "text/html": [
       "<div>\n",
       "<style scoped>\n",
       "    .dataframe tbody tr th:only-of-type {\n",
       "        vertical-align: middle;\n",
       "    }\n",
       "\n",
       "    .dataframe tbody tr th {\n",
       "        vertical-align: top;\n",
       "    }\n",
       "\n",
       "    .dataframe thead th {\n",
       "        text-align: right;\n",
       "    }\n",
       "</style>\n",
       "<table border=\"1\" class=\"dataframe\">\n",
       "  <thead>\n",
       "    <tr style=\"text-align: right;\">\n",
       "      <th></th>\n",
       "      <th>book_id</th>\n",
       "      <th>book_author</th>\n",
       "      <th>book_language</th>\n",
       "      <th>num_reviews</th>\n",
       "      <th>num_ratings</th>\n",
       "      <th>avg_rating</th>\n",
       "      <th>isbn13</th>\n",
       "      <th>editions_url</th>\n",
       "      <th>book_publication_date</th>\n",
       "      <th>book_first_publication_date</th>\n",
       "      <th>series</th>\n",
       "      <th>data_log_time</th>\n",
       "    </tr>\n",
       "  </thead>\n",
       "  <tbody>\n",
       "    <tr>\n",
       "      <th>0</th>\n",
       "      <td>231804</td>\n",
       "      <td>S.E. Hinton</td>\n",
       "      <td>English</td>\n",
       "      <td>33107</td>\n",
       "      <td>935775</td>\n",
       "      <td>4.10</td>\n",
       "      <td>None</td>\n",
       "      <td>/work/editions/1426690-the-outsiders</td>\n",
       "      <td>September 1 1997</td>\n",
       "      <td>April 24 1967</td>\n",
       "      <td>None</td>\n",
       "      <td>10/17/2020 23:27</td>\n",
       "    </tr>\n",
       "    <tr>\n",
       "      <th>1</th>\n",
       "      <td>7896527</td>\n",
       "      <td>Sarah J. Maas</td>\n",
       "      <td>English</td>\n",
       "      <td>43845</td>\n",
       "      <td>593157</td>\n",
       "      <td>4.20</td>\n",
       "      <td>None</td>\n",
       "      <td>/work/editions/11138426-throne-of-glass</td>\n",
       "      <td>August 7 2012</td>\n",
       "      <td>August 2 2012</td>\n",
       "      <td>Throne of Glass</td>\n",
       "      <td>10/17/2020 23:28</td>\n",
       "    </tr>\n",
       "    <tr>\n",
       "      <th>2</th>\n",
       "      <td>30165203</td>\n",
       "      <td>Neil Gaiman</td>\n",
       "      <td>English</td>\n",
       "      <td>38495</td>\n",
       "      <td>756463</td>\n",
       "      <td>4.11</td>\n",
       "      <td>None</td>\n",
       "      <td>/work/editions/1970226-american-gods</td>\n",
       "      <td>June 21 2011</td>\n",
       "      <td>June 19 2001</td>\n",
       "      <td>American Gods</td>\n",
       "      <td>10/17/2020 23:29</td>\n",
       "    </tr>\n",
       "    <tr>\n",
       "      <th>3</th>\n",
       "      <td>9460487</td>\n",
       "      <td>Ransom Riggs</td>\n",
       "      <td>English</td>\n",
       "      <td>61244</td>\n",
       "      <td>974244</td>\n",
       "      <td>3.91</td>\n",
       "      <td>None</td>\n",
       "      <td>/work/editions/14345371-miss-peregrine-s-home-...</td>\n",
       "      <td>June 7 2011</td>\n",
       "      <td>None</td>\n",
       "      <td>Miss Peregrine\\'s Peculiar Children</td>\n",
       "      <td>10/17/2020 23:30</td>\n",
       "    </tr>\n",
       "    <tr>\n",
       "      <th>4</th>\n",
       "      <td>14935</td>\n",
       "      <td>Jane Austen Tony Tanner (Introduction) Ros Bal...</td>\n",
       "      <td>English</td>\n",
       "      <td>16692</td>\n",
       "      <td>955814</td>\n",
       "      <td>4.07</td>\n",
       "      <td>None</td>\n",
       "      <td>/work/editions/2809709-sense-and-sensibility</td>\n",
       "      <td>April 29 2003</td>\n",
       "      <td>October 30 1811</td>\n",
       "      <td>None</td>\n",
       "      <td>10/17/2020 23:34</td>\n",
       "    </tr>\n",
       "  </tbody>\n",
       "</table>\n",
       "</div>"
      ],
      "text/plain": [
       "    book_id                                        book_author book_language  \\\n",
       "0    231804                                        S.E. Hinton       English   \n",
       "1   7896527                                      Sarah J. Maas       English   \n",
       "2  30165203                                        Neil Gaiman       English   \n",
       "3   9460487                                       Ransom Riggs       English   \n",
       "4     14935  Jane Austen Tony Tanner (Introduction) Ros Bal...       English   \n",
       "\n",
       "   num_reviews  num_ratings  avg_rating isbn13  \\\n",
       "0        33107       935775        4.10   None   \n",
       "1        43845       593157        4.20   None   \n",
       "2        38495       756463        4.11   None   \n",
       "3        61244       974244        3.91   None   \n",
       "4        16692       955814        4.07   None   \n",
       "\n",
       "                                        editions_url book_publication_date  \\\n",
       "0               /work/editions/1426690-the-outsiders      September 1 1997   \n",
       "1            /work/editions/11138426-throne-of-glass         August 7 2012   \n",
       "2               /work/editions/1970226-american-gods          June 21 2011   \n",
       "3  /work/editions/14345371-miss-peregrine-s-home-...           June 7 2011   \n",
       "4       /work/editions/2809709-sense-and-sensibility         April 29 2003   \n",
       "\n",
       "  book_first_publication_date                               series  \\\n",
       "0               April 24 1967                                 None   \n",
       "1               August 2 2012                      Throne of Glass   \n",
       "2                June 19 2001                        American Gods   \n",
       "3                        None  Miss Peregrine\\'s Peculiar Children   \n",
       "4             October 30 1811                                 None   \n",
       "\n",
       "      data_log_time  \n",
       "0  10/17/2020 23:27  \n",
       "1  10/17/2020 23:28  \n",
       "2  10/17/2020 23:29  \n",
       "3  10/17/2020 23:30  \n",
       "4  10/17/2020 23:34  "
      ]
     },
     "execution_count": 17,
     "metadata": {},
     "output_type": "execute_result"
    }
   ],
   "source": [
    "data = pd.read_csv(\"book_data.csv\")\n",
    "data.head()"
   ]
  },
  {
   "cell_type": "code",
   "execution_count": 18,
   "metadata": {},
   "outputs": [],
   "source": [
    "#plt.figure(figsize=(15,10))\n",
    "#plt.title(\"Review Count Distribution\", fontsize=40)\n",
    "#plt.xlabel(\"Number of reviews (by book)\", fontsize=25)\n",
    "#plt.ylabel(\"Count\", fontsize=25)\n",
    "#plt.hist((data['num_reviews']))"
   ]
  },
  {
   "cell_type": "code",
   "execution_count": 19,
   "metadata": {},
   "outputs": [],
   "source": [
    "#plt.figure(figsize=(15,10))\n",
    "#plt.title(\"Log of Review Count Distribution\", fontsize=40)\n",
    "#plt.xlabel(\"Log number of reviews (by book)\", fontsize=25)\n",
    "#plt.ylabel(\"Count\", fontsize=25)\n",
    "#plt.hist(np.log(data['num_reviews']))"
   ]
  },
  {
   "cell_type": "code",
   "execution_count": 20,
   "metadata": {},
   "outputs": [
    {
     "data": {
      "text/plain": [
       "(array([4.128e+03, 1.980e+02, 5.400e+01, 2.300e+01, 1.500e+01, 6.000e+00,\n",
       "        8.000e+00, 4.000e+00, 0.000e+00, 3.000e+00]),\n",
       " array([2.600000e+01, 1.723730e+04, 3.444860e+04, 5.165990e+04,\n",
       "        6.887120e+04, 8.608250e+04, 1.032938e+05, 1.205051e+05,\n",
       "        1.377164e+05, 1.549277e+05, 1.721390e+05]),\n",
       " <a list of 10 Patch objects>)"
      ]
     },
     "execution_count": 20,
     "metadata": {},
     "output_type": "execute_result"
    },
    {
     "data": {
      "image/png": "[encoded data removed]",
      "text/plain": [
       "<Figure size 432x288 with 1 Axes>"
      ]
     },
     "metadata": {
      "needs_background": "light"
     },
     "output_type": "display_data"
    }
   ],
   "source": [
    "plt.title(\"Review Count Distribution\")\n",
    "plt.xlabel(\"Number of reviews (by book)\")\n",
    "plt.ylabel(\"Count\")\n",
    "plt.hist((data['num_reviews']))"
   ]
  },
  {
   "cell_type": "code",
   "execution_count": 21,
   "metadata": {},
   "outputs": [
    {
     "data": {
      "text/plain": [
       "(array([   9.,   19.,   60.,  293., 1025., 1588.,  972.,  328.,  115.,\n",
       "          30.]),\n",
       " array([ 3.25809654,  4.13789264,  5.01768874,  5.89748485,  6.77728095,\n",
       "         7.65707705,  8.53687316,  9.41666926, 10.29646536, 11.17626147,\n",
       "        12.05605757]),\n",
       " <a list of 10 Patch objects>)"
      ]
     },
     "execution_count": 21,
     "metadata": {},
     "output_type": "execute_result"
    },
    {
     "data": {
      "image/png": "[encoded data removed]",
      "text/plain": [
       "<Figure size 432x288 with 1 Axes>"
      ]
     },
     "metadata": {
      "needs_background": "light"
     },
     "output_type": "display_data"
    }
   ],
   "source": [
    "plt.title(\"Log of Review Count Distribution\")\n",
    "plt.xlabel(\"Log number of reviews (by book)\")\n",
    "plt.ylabel(\"Count\")\n",
    "plt.hist(np.log(data['num_reviews']))"
   ]
  },
  {
   "cell_type": "code",
   "execution_count": null,
   "metadata": {},
   "outputs": [],
   "source": []
  }
 ],
 "metadata": {
  "kernelspec": {
   "display_name": "Python 3",
   "language": "python",
   "name": "python3"
  },
  "language_info": {
   "codemirror_mode": {
    "name": "ipython",
    "version": 3
   },
   "file_extension": ".py",
   "mimetype": "text/x-python",
   "name": "python",
   "nbconvert_exporter": "python",
   "pygments_lexer": "ipython3",
   "version": "3.7.6"
  }
 },
 "nbformat": 4,
 "nbformat_minor": 4
}
